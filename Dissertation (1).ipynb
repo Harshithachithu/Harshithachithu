{
  "cells": [
    {
      "cell_type": "code",
      "source": [
        "!pip install Bio"
      ],
      "metadata": {
        "colab": {
          "base_uri": "https://localhost:8080/"
        },
        "id": "seRYpxpJ4UK_",
        "outputId": "19726516-beb0-4eaa-9a2e-2f8b62ce3f9d"
      },
      "id": "seRYpxpJ4UK_",
      "execution_count": null,
      "outputs": [
        {
          "output_type": "stream",
          "name": "stdout",
          "text": [
            "Looking in indexes: https://pypi.org/simple, https://us-python.pkg.dev/colab-wheels/public/simple/\n",
            "Collecting Bio\n",
            "  Downloading bio-1.4.0-py3-none-any.whl (270 kB)\n",
            "\u001b[K     |████████████████████████████████| 270 kB 36.5 MB/s \n",
            "\u001b[?25hCollecting biopython>=1.79\n",
            "  Downloading biopython-1.79-cp37-cp37m-manylinux_2_5_x86_64.manylinux1_x86_64.whl (2.3 MB)\n",
            "\u001b[K     |████████████████████████████████| 2.3 MB 70.2 MB/s \n",
            "\u001b[?25hRequirement already satisfied: requests in /usr/local/lib/python3.7/dist-packages (from Bio) (2.23.0)\n",
            "Requirement already satisfied: tqdm in /usr/local/lib/python3.7/dist-packages (from Bio) (4.64.0)\n",
            "Collecting mygene\n",
            "  Downloading mygene-3.2.2-py2.py3-none-any.whl (5.4 kB)\n",
            "Requirement already satisfied: numpy in /usr/local/lib/python3.7/dist-packages (from biopython>=1.79->Bio) (1.21.6)\n",
            "Collecting biothings-client>=0.2.6\n",
            "  Downloading biothings_client-0.2.6-py2.py3-none-any.whl (37 kB)\n",
            "Requirement already satisfied: urllib3!=1.25.0,!=1.25.1,<1.26,>=1.21.1 in /usr/local/lib/python3.7/dist-packages (from requests->Bio) (1.24.3)\n",
            "Requirement already satisfied: idna<3,>=2.5 in /usr/local/lib/python3.7/dist-packages (from requests->Bio) (2.10)\n",
            "Requirement already satisfied: chardet<4,>=3.0.2 in /usr/local/lib/python3.7/dist-packages (from requests->Bio) (3.0.4)\n",
            "Requirement already satisfied: certifi>=2017.4.17 in /usr/local/lib/python3.7/dist-packages (from requests->Bio) (2022.6.15)\n",
            "Installing collected packages: biothings-client, mygene, biopython, Bio\n",
            "Successfully installed Bio-1.4.0 biopython-1.79 biothings-client-0.2.6 mygene-3.2.2\n"
          ]
        }
      ]
    },
    {
      "cell_type": "code",
      "execution_count": null,
      "id": "4d6c4acc",
      "metadata": {
        "id": "4d6c4acc"
      },
      "outputs": [],
      "source": [
        "import pandas as pd\n",
        "import Bio\n",
        "from Bio import SeqIO\n",
        "import matplotlib.pyplot as plt\n",
        "import seaborn as sns\n",
        "from sklearn.metrics import roc_auc_score, roc_curve, auc, precision_recall_curve, average_precision_score\n",
        "%matplotlib inline"
      ]
    },
    {
      "cell_type": "code",
      "source": [
        "from google.colab import drive\n",
        "drive.mount('/content/drive')"
      ],
      "metadata": {
        "id": "bvN9VBr3Z0Eb",
        "colab": {
          "base_uri": "https://localhost:8080/"
        },
        "outputId": "3dfa48d8-9bc9-434b-e6a0-e036bc34faea"
      },
      "id": "bvN9VBr3Z0Eb",
      "execution_count": null,
      "outputs": [
        {
          "output_type": "stream",
          "name": "stdout",
          "text": [
            "Mounted at /content/drive\n"
          ]
        }
      ]
    },
    {
      "cell_type": "code",
      "execution_count": null,
      "id": "446cce37",
      "metadata": {
        "id": "446cce37"
      },
      "outputs": [],
      "source": [
        "metadata = pd.read_csv(r'/content/drive/MyDrive/ColabNotebooks/V95_38_MUTANT.csv')"
      ]
    },
    {
      "cell_type": "code",
      "source": [],
      "metadata": {
        "id": "5I-mSB4Qw2XT"
      },
      "id": "5I-mSB4Qw2XT",
      "execution_count": null,
      "outputs": []
    },
    {
      "cell_type": "code",
      "execution_count": null,
      "id": "c078bc28",
      "metadata": {
        "id": "c078bc28"
      },
      "outputs": [],
      "source": [
        "data = r'/content/drive/MyDrive/ColabNotebooks/All_COSMIC_Genes.fasta'"
      ]
    },
    {
      "cell_type": "code",
      "execution_count": null,
      "id": "24e43b32",
      "metadata": {
        "id": "24e43b32"
      },
      "outputs": [],
      "source": [
        "sequences = [i for i in SeqIO.parse(data,'fasta')]"
      ]
    },
    {
      "cell_type": "code",
      "execution_count": null,
      "id": "41df1eb5",
      "metadata": {
        "id": "41df1eb5"
      },
      "outputs": [],
      "source": [
        "description = []\n",
        "pros_sequence = []\n",
        "for sequence in sequences:\n",
        "    description.append(sequence.description)\n",
        "    pros_sequence.append(str(sequence.seq))"
      ]
    },
    {
      "cell_type": "code",
      "execution_count": null,
      "id": "b6b74b36",
      "metadata": {
        "collapsed": true,
        "colab": {
          "base_uri": "https://localhost:8080/",
          "height": 641
        },
        "id": "b6b74b36",
        "outputId": "4dcd994b-b028-49a1-a7d9-d50ef0831bfd"
      },
      "outputs": [
        {
          "output_type": "execute_result",
          "data": {
            "text/plain": [
              "                                             Description  \\\n",
              "0      OR4F5_ENST00000641515 ENST00000641515.2 1:6541...   \n",
              "1               OR4F5 ENST00000335137.4 1:69055-70108(+)   \n",
              "2            OR4F29 ENST00000426406.3 1:450703-451697(-)   \n",
              "3            OR4F16 ENST00000332831.4 1:685679-686673(-)   \n",
              "4            SAMD11 ENST00000342066.7 1:925738-944575(+)   \n",
              "...                                                  ...   \n",
              "56469        MT-ND4L ENST00000361335.1 25:10470-10766(+)   \n",
              "56470         MT-ND4 ENST00000361381.2 25:10760-12137(+)   \n",
              "56471         MT-ND5 ENST00000361567.2 25:12337-14148(+)   \n",
              "56472         MT-ND6 ENST00000361681.2 25:14149-14673(-)   \n",
              "56473         MT-CYB ENST00000361789.2 25:14747-15887(+)   \n",
              "\n",
              "                                                Sequence  \n",
              "0      atgaagaaggtaactgcagaggctatttcctggaatgaatcaacga...  \n",
              "1      atggtgactgaattcatttttctgggtctctctgattctcaggaac...  \n",
              "2      atggatggagagaatcactcagtggtatctgagtttttgtttctgg...  \n",
              "3      atggatggagagaatcactcagtggtatctgagtttttgtttctgg...  \n",
              "4      atgtccaaggggatcctgcaggtgcatcctccgatctgcgactgcc...  \n",
              "...                                                  ...  \n",
              "56469  atgcccctcatttacataaatattatactagcatttaccatctcac...  \n",
              "56470  atgctaaaactaatcgtcccaacaattatattactaccactgacat...  \n",
              "56471  ataaccatgcacactactataaccaccctaaccctgacttccctaa...  \n",
              "56472  atgatgtatgctttgtttctgttgagtgtgggtttagtaatggggt...  \n",
              "56473  atgaccccaatacgcaaaactaaccccctaataaaattaattaacc...  \n",
              "\n",
              "[56474 rows x 2 columns]"
            ],
            "text/html": [
              "\n",
              "  <div id=\"df-5f9d63cd-a127-4be8-9f62-99e9cc86f167\">\n",
              "    <div class=\"colab-df-container\">\n",
              "      <div>\n",
              "<style scoped>\n",
              "    .dataframe tbody tr th:only-of-type {\n",
              "        vertical-align: middle;\n",
              "    }\n",
              "\n",
              "    .dataframe tbody tr th {\n",
              "        vertical-align: top;\n",
              "    }\n",
              "\n",
              "    .dataframe thead th {\n",
              "        text-align: right;\n",
              "    }\n",
              "</style>\n",
              "<table border=\"1\" class=\"dataframe\">\n",
              "  <thead>\n",
              "    <tr style=\"text-align: right;\">\n",
              "      <th></th>\n",
              "      <th>Description</th>\n",
              "      <th>Sequence</th>\n",
              "    </tr>\n",
              "  </thead>\n",
              "  <tbody>\n",
              "    <tr>\n",
              "      <th>0</th>\n",
              "      <td>OR4F5_ENST00000641515 ENST00000641515.2 1:6541...</td>\n",
              "      <td>atgaagaaggtaactgcagaggctatttcctggaatgaatcaacga...</td>\n",
              "    </tr>\n",
              "    <tr>\n",
              "      <th>1</th>\n",
              "      <td>OR4F5 ENST00000335137.4 1:69055-70108(+)</td>\n",
              "      <td>atggtgactgaattcatttttctgggtctctctgattctcaggaac...</td>\n",
              "    </tr>\n",
              "    <tr>\n",
              "      <th>2</th>\n",
              "      <td>OR4F29 ENST00000426406.3 1:450703-451697(-)</td>\n",
              "      <td>atggatggagagaatcactcagtggtatctgagtttttgtttctgg...</td>\n",
              "    </tr>\n",
              "    <tr>\n",
              "      <th>3</th>\n",
              "      <td>OR4F16 ENST00000332831.4 1:685679-686673(-)</td>\n",
              "      <td>atggatggagagaatcactcagtggtatctgagtttttgtttctgg...</td>\n",
              "    </tr>\n",
              "    <tr>\n",
              "      <th>4</th>\n",
              "      <td>SAMD11 ENST00000342066.7 1:925738-944575(+)</td>\n",
              "      <td>atgtccaaggggatcctgcaggtgcatcctccgatctgcgactgcc...</td>\n",
              "    </tr>\n",
              "    <tr>\n",
              "      <th>...</th>\n",
              "      <td>...</td>\n",
              "      <td>...</td>\n",
              "    </tr>\n",
              "    <tr>\n",
              "      <th>56469</th>\n",
              "      <td>MT-ND4L ENST00000361335.1 25:10470-10766(+)</td>\n",
              "      <td>atgcccctcatttacataaatattatactagcatttaccatctcac...</td>\n",
              "    </tr>\n",
              "    <tr>\n",
              "      <th>56470</th>\n",
              "      <td>MT-ND4 ENST00000361381.2 25:10760-12137(+)</td>\n",
              "      <td>atgctaaaactaatcgtcccaacaattatattactaccactgacat...</td>\n",
              "    </tr>\n",
              "    <tr>\n",
              "      <th>56471</th>\n",
              "      <td>MT-ND5 ENST00000361567.2 25:12337-14148(+)</td>\n",
              "      <td>ataaccatgcacactactataaccaccctaaccctgacttccctaa...</td>\n",
              "    </tr>\n",
              "    <tr>\n",
              "      <th>56472</th>\n",
              "      <td>MT-ND6 ENST00000361681.2 25:14149-14673(-)</td>\n",
              "      <td>atgatgtatgctttgtttctgttgagtgtgggtttagtaatggggt...</td>\n",
              "    </tr>\n",
              "    <tr>\n",
              "      <th>56473</th>\n",
              "      <td>MT-CYB ENST00000361789.2 25:14747-15887(+)</td>\n",
              "      <td>atgaccccaatacgcaaaactaaccccctaataaaattaattaacc...</td>\n",
              "    </tr>\n",
              "  </tbody>\n",
              "</table>\n",
              "<p>56474 rows × 2 columns</p>\n",
              "</div>\n",
              "      <button class=\"colab-df-convert\" onclick=\"convertToInteractive('df-5f9d63cd-a127-4be8-9f62-99e9cc86f167')\"\n",
              "              title=\"Convert this dataframe to an interactive table.\"\n",
              "              style=\"display:none;\">\n",
              "        \n",
              "  <svg xmlns=\"http://www.w3.org/2000/svg\" height=\"24px\"viewBox=\"0 0 24 24\"\n",
              "       width=\"24px\">\n",
              "    <path d=\"M0 0h24v24H0V0z\" fill=\"none\"/>\n",
              "    <path d=\"M18.56 5.44l.94 2.06.94-2.06 2.06-.94-2.06-.94-.94-2.06-.94 2.06-2.06.94zm-11 1L8.5 8.5l.94-2.06 2.06-.94-2.06-.94L8.5 2.5l-.94 2.06-2.06.94zm10 10l.94 2.06.94-2.06 2.06-.94-2.06-.94-.94-2.06-.94 2.06-2.06.94z\"/><path d=\"M17.41 7.96l-1.37-1.37c-.4-.4-.92-.59-1.43-.59-.52 0-1.04.2-1.43.59L10.3 9.45l-7.72 7.72c-.78.78-.78 2.05 0 2.83L4 21.41c.39.39.9.59 1.41.59.51 0 1.02-.2 1.41-.59l7.78-7.78 2.81-2.81c.8-.78.8-2.07 0-2.86zM5.41 20L4 18.59l7.72-7.72 1.47 1.35L5.41 20z\"/>\n",
              "  </svg>\n",
              "      </button>\n",
              "      \n",
              "  <style>\n",
              "    .colab-df-container {\n",
              "      display:flex;\n",
              "      flex-wrap:wrap;\n",
              "      gap: 12px;\n",
              "    }\n",
              "\n",
              "    .colab-df-convert {\n",
              "      background-color: #E8F0FE;\n",
              "      border: none;\n",
              "      border-radius: 50%;\n",
              "      cursor: pointer;\n",
              "      display: none;\n",
              "      fill: #1967D2;\n",
              "      height: 32px;\n",
              "      padding: 0 0 0 0;\n",
              "      width: 32px;\n",
              "    }\n",
              "\n",
              "    .colab-df-convert:hover {\n",
              "      background-color: #E2EBFA;\n",
              "      box-shadow: 0px 1px 2px rgba(60, 64, 67, 0.3), 0px 1px 3px 1px rgba(60, 64, 67, 0.15);\n",
              "      fill: #174EA6;\n",
              "    }\n",
              "\n",
              "    [theme=dark] .colab-df-convert {\n",
              "      background-color: #3B4455;\n",
              "      fill: #D2E3FC;\n",
              "    }\n",
              "\n",
              "    [theme=dark] .colab-df-convert:hover {\n",
              "      background-color: #434B5C;\n",
              "      box-shadow: 0px 1px 3px 1px rgba(0, 0, 0, 0.15);\n",
              "      filter: drop-shadow(0px 1px 2px rgba(0, 0, 0, 0.3));\n",
              "      fill: #FFFFFF;\n",
              "    }\n",
              "  </style>\n",
              "\n",
              "      <script>\n",
              "        const buttonEl =\n",
              "          document.querySelector('#df-5f9d63cd-a127-4be8-9f62-99e9cc86f167 button.colab-df-convert');\n",
              "        buttonEl.style.display =\n",
              "          google.colab.kernel.accessAllowed ? 'block' : 'none';\n",
              "\n",
              "        async function convertToInteractive(key) {\n",
              "          const element = document.querySelector('#df-5f9d63cd-a127-4be8-9f62-99e9cc86f167');\n",
              "          const dataTable =\n",
              "            await google.colab.kernel.invokeFunction('convertToInteractive',\n",
              "                                                     [key], {});\n",
              "          if (!dataTable) return;\n",
              "\n",
              "          const docLinkHtml = 'Like what you see? Visit the ' +\n",
              "            '<a target=\"_blank\" href=https://colab.research.google.com/notebooks/data_table.ipynb>data table notebook</a>'\n",
              "            + ' to learn more about interactive tables.';\n",
              "          element.innerHTML = '';\n",
              "          dataTable['output_type'] = 'display_data';\n",
              "          await google.colab.output.renderOutput(dataTable, element);\n",
              "          const docLink = document.createElement('div');\n",
              "          docLink.innerHTML = docLinkHtml;\n",
              "          element.appendChild(docLink);\n",
              "        }\n",
              "      </script>\n",
              "    </div>\n",
              "  </div>\n",
              "  "
            ]
          },
          "metadata": {},
          "execution_count": 8
        }
      ],
      "source": [
        "sequencepd = pd.DataFrame({'Description':description, 'Sequence': pros_sequence})\n",
        "sequencepd"
      ]
    },
    {
      "cell_type": "code",
      "execution_count": null,
      "id": "a90da779",
      "metadata": {
        "colab": {
          "base_uri": "https://localhost:8080/"
        },
        "id": "a90da779",
        "outputId": "cda1264f-b064-4fb1-b076-85ec932269ee"
      },
      "outputs": [
        {
          "output_type": "stream",
          "name": "stdout",
          "text": [
            "                                             Description  \\\n",
            "0      OR4F5_ENST00000641515 ENST00000641515.2 1:6541...   \n",
            "1               OR4F5 ENST00000335137.4 1:69055-70108(+)   \n",
            "2            OR4F29 ENST00000426406.3 1:450703-451697(-)   \n",
            "3            OR4F16 ENST00000332831.4 1:685679-686673(-)   \n",
            "4            SAMD11 ENST00000342066.7 1:925738-944575(+)   \n",
            "...                                                  ...   \n",
            "56469        MT-ND4L ENST00000361335.1 25:10470-10766(+)   \n",
            "56470         MT-ND4 ENST00000361381.2 25:10760-12137(+)   \n",
            "56471         MT-ND5 ENST00000361567.2 25:12337-14148(+)   \n",
            "56472         MT-ND6 ENST00000361681.2 25:14149-14673(-)   \n",
            "56473         MT-CYB ENST00000361789.2 25:14747-15887(+)   \n",
            "\n",
            "                                                Sequence   Accession_number  \n",
            "0      atgaagaaggtaactgcagaggctatttcctggaatgaatcaacga...  ENST00000641515.2  \n",
            "1      atggtgactgaattcatttttctgggtctctctgattctcaggaac...                NaN  \n",
            "2      atggatggagagaatcactcagtggtatctgagtttttgtttctgg...                NaN  \n",
            "3      atggatggagagaatcactcagtggtatctgagtttttgtttctgg...                NaN  \n",
            "4      atgtccaaggggatcctgcaggtgcatcctccgatctgcgactgcc...  ENST00000342066.7  \n",
            "...                                                  ...                ...  \n",
            "56469  atgcccctcatttacataaatattatactagcatttaccatctcac...                NaN  \n",
            "56470  atgctaaaactaatcgtcccaacaattatattactaccactgacat...  ENST00000361381.2  \n",
            "56471  ataaccatgcacactactataaccaccctaaccctgacttccctaa...  ENST00000361567.2  \n",
            "56472  atgatgtatgctttgtttctgttgagtgtgggtttagtaatggggt...                NaN  \n",
            "56473  atgaccccaatacgcaaaactaaccccctaataaaattaattaacc...  ENST00000361789.2  \n",
            "\n",
            "[56474 rows x 3 columns]\n"
          ]
        }
      ],
      "source": [
        "pat = '|'.join(r\"\\b{}\\b\".format(x) for x in metadata[' ACCESSION_NUMBER'])\n",
        "sequencepd['Accession_number']= sequencepd['Description'].str.extract('('+ pat + ')', expand=False)\n",
        "print (sequencepd)"
      ]
    },
    {
      "cell_type": "code",
      "source": [
        "import tensorflow as tf\n",
        "tf.test.gpu_device_name()"
      ],
      "metadata": {
        "id": "kt595Kq_yugf",
        "outputId": "675e3579-241c-4bca-ea66-9c6630c60484",
        "colab": {
          "base_uri": "https://localhost:8080/",
          "height": 36
        }
      },
      "id": "kt595Kq_yugf",
      "execution_count": null,
      "outputs": [
        {
          "output_type": "execute_result",
          "data": {
            "text/plain": [
              "'/device:GPU:0'"
            ],
            "application/vnd.google.colaboratory.intrinsic+json": {
              "type": "string"
            }
          },
          "metadata": {},
          "execution_count": 10
        }
      ]
    },
    {
      "cell_type": "code",
      "execution_count": null,
      "id": "e4c54166",
      "metadata": {
        "id": "e4c54166",
        "colab": {
          "base_uri": "https://localhost:8080/",
          "height": 835
        },
        "outputId": "fb8571d7-1d2c-4ba7-b7be-3d69a460d63e"
      },
      "outputs": [
        {
          "output_type": "execute_result",
          "data": {
            "text/plain": [
              "                                             Description  \\\n",
              "0      OR4F5_ENST00000641515 ENST00000641515.2 1:6541...   \n",
              "1               OR4F5 ENST00000335137.4 1:69055-70108(+)   \n",
              "2            OR4F29 ENST00000426406.3 1:450703-451697(-)   \n",
              "3            OR4F16 ENST00000332831.4 1:685679-686673(-)   \n",
              "4            SAMD11 ENST00000342066.7 1:925738-944575(+)   \n",
              "...                                                  ...   \n",
              "56469        MT-ND4L ENST00000361335.1 25:10470-10766(+)   \n",
              "56470         MT-ND4 ENST00000361381.2 25:10760-12137(+)   \n",
              "56471         MT-ND5 ENST00000361567.2 25:12337-14148(+)   \n",
              "56472         MT-ND6 ENST00000361681.2 25:14149-14673(-)   \n",
              "56473         MT-CYB ENST00000361789.2 25:14747-15887(+)   \n",
              "\n",
              "                                                Sequence   Accession_number  \n",
              "0      atgaagaaggtaactgcagaggctatttcctggaatgaatcaacga...  ENST00000641515.2  \n",
              "1      atggtgactgaattcatttttctgggtctctctgattctcaggaac...                NaN  \n",
              "2      atggatggagagaatcactcagtggtatctgagtttttgtttctgg...                NaN  \n",
              "3      atggatggagagaatcactcagtggtatctgagtttttgtttctgg...                NaN  \n",
              "4      atgtccaaggggatcctgcaggtgcatcctccgatctgcgactgcc...  ENST00000342066.7  \n",
              "...                                                  ...                ...  \n",
              "56469  atgcccctcatttacataaatattatactagcatttaccatctcac...                NaN  \n",
              "56470  atgctaaaactaatcgtcccaacaattatattactaccactgacat...  ENST00000361381.2  \n",
              "56471  ataaccatgcacactactataaccaccctaaccctgacttccctaa...  ENST00000361567.2  \n",
              "56472  atgatgtatgctttgtttctgttgagtgtgggtttagtaatggggt...                NaN  \n",
              "56473  atgaccccaatacgcaaaactaaccccctaataaaattaattaacc...  ENST00000361789.2  \n",
              "\n",
              "[56474 rows x 3 columns]"
            ],
            "text/html": [
              "\n",
              "  <div id=\"df-9cc23145-5e5a-4f7b-9565-d6dbe10c2a39\">\n",
              "    <div class=\"colab-df-container\">\n",
              "      <div>\n",
              "<style scoped>\n",
              "    .dataframe tbody tr th:only-of-type {\n",
              "        vertical-align: middle;\n",
              "    }\n",
              "\n",
              "    .dataframe tbody tr th {\n",
              "        vertical-align: top;\n",
              "    }\n",
              "\n",
              "    .dataframe thead th {\n",
              "        text-align: right;\n",
              "    }\n",
              "</style>\n",
              "<table border=\"1\" class=\"dataframe\">\n",
              "  <thead>\n",
              "    <tr style=\"text-align: right;\">\n",
              "      <th></th>\n",
              "      <th>Description</th>\n",
              "      <th>Sequence</th>\n",
              "      <th>Accession_number</th>\n",
              "    </tr>\n",
              "  </thead>\n",
              "  <tbody>\n",
              "    <tr>\n",
              "      <th>0</th>\n",
              "      <td>OR4F5_ENST00000641515 ENST00000641515.2 1:6541...</td>\n",
              "      <td>atgaagaaggtaactgcagaggctatttcctggaatgaatcaacga...</td>\n",
              "      <td>ENST00000641515.2</td>\n",
              "    </tr>\n",
              "    <tr>\n",
              "      <th>1</th>\n",
              "      <td>OR4F5 ENST00000335137.4 1:69055-70108(+)</td>\n",
              "      <td>atggtgactgaattcatttttctgggtctctctgattctcaggaac...</td>\n",
              "      <td>NaN</td>\n",
              "    </tr>\n",
              "    <tr>\n",
              "      <th>2</th>\n",
              "      <td>OR4F29 ENST00000426406.3 1:450703-451697(-)</td>\n",
              "      <td>atggatggagagaatcactcagtggtatctgagtttttgtttctgg...</td>\n",
              "      <td>NaN</td>\n",
              "    </tr>\n",
              "    <tr>\n",
              "      <th>3</th>\n",
              "      <td>OR4F16 ENST00000332831.4 1:685679-686673(-)</td>\n",
              "      <td>atggatggagagaatcactcagtggtatctgagtttttgtttctgg...</td>\n",
              "      <td>NaN</td>\n",
              "    </tr>\n",
              "    <tr>\n",
              "      <th>4</th>\n",
              "      <td>SAMD11 ENST00000342066.7 1:925738-944575(+)</td>\n",
              "      <td>atgtccaaggggatcctgcaggtgcatcctccgatctgcgactgcc...</td>\n",
              "      <td>ENST00000342066.7</td>\n",
              "    </tr>\n",
              "    <tr>\n",
              "      <th>...</th>\n",
              "      <td>...</td>\n",
              "      <td>...</td>\n",
              "      <td>...</td>\n",
              "    </tr>\n",
              "    <tr>\n",
              "      <th>56469</th>\n",
              "      <td>MT-ND4L ENST00000361335.1 25:10470-10766(+)</td>\n",
              "      <td>atgcccctcatttacataaatattatactagcatttaccatctcac...</td>\n",
              "      <td>NaN</td>\n",
              "    </tr>\n",
              "    <tr>\n",
              "      <th>56470</th>\n",
              "      <td>MT-ND4 ENST00000361381.2 25:10760-12137(+)</td>\n",
              "      <td>atgctaaaactaatcgtcccaacaattatattactaccactgacat...</td>\n",
              "      <td>ENST00000361381.2</td>\n",
              "    </tr>\n",
              "    <tr>\n",
              "      <th>56471</th>\n",
              "      <td>MT-ND5 ENST00000361567.2 25:12337-14148(+)</td>\n",
              "      <td>ataaccatgcacactactataaccaccctaaccctgacttccctaa...</td>\n",
              "      <td>ENST00000361567.2</td>\n",
              "    </tr>\n",
              "    <tr>\n",
              "      <th>56472</th>\n",
              "      <td>MT-ND6 ENST00000361681.2 25:14149-14673(-)</td>\n",
              "      <td>atgatgtatgctttgtttctgttgagtgtgggtttagtaatggggt...</td>\n",
              "      <td>NaN</td>\n",
              "    </tr>\n",
              "    <tr>\n",
              "      <th>56473</th>\n",
              "      <td>MT-CYB ENST00000361789.2 25:14747-15887(+)</td>\n",
              "      <td>atgaccccaatacgcaaaactaaccccctaataaaattaattaacc...</td>\n",
              "      <td>ENST00000361789.2</td>\n",
              "    </tr>\n",
              "  </tbody>\n",
              "</table>\n",
              "<p>56474 rows × 3 columns</p>\n",
              "</div>\n",
              "      <button class=\"colab-df-convert\" onclick=\"convertToInteractive('df-9cc23145-5e5a-4f7b-9565-d6dbe10c2a39')\"\n",
              "              title=\"Convert this dataframe to an interactive table.\"\n",
              "              style=\"display:none;\">\n",
              "        \n",
              "  <svg xmlns=\"http://www.w3.org/2000/svg\" height=\"24px\"viewBox=\"0 0 24 24\"\n",
              "       width=\"24px\">\n",
              "    <path d=\"M0 0h24v24H0V0z\" fill=\"none\"/>\n",
              "    <path d=\"M18.56 5.44l.94 2.06.94-2.06 2.06-.94-2.06-.94-.94-2.06-.94 2.06-2.06.94zm-11 1L8.5 8.5l.94-2.06 2.06-.94-2.06-.94L8.5 2.5l-.94 2.06-2.06.94zm10 10l.94 2.06.94-2.06 2.06-.94-2.06-.94-.94-2.06-.94 2.06-2.06.94z\"/><path d=\"M17.41 7.96l-1.37-1.37c-.4-.4-.92-.59-1.43-.59-.52 0-1.04.2-1.43.59L10.3 9.45l-7.72 7.72c-.78.78-.78 2.05 0 2.83L4 21.41c.39.39.9.59 1.41.59.51 0 1.02-.2 1.41-.59l7.78-7.78 2.81-2.81c.8-.78.8-2.07 0-2.86zM5.41 20L4 18.59l7.72-7.72 1.47 1.35L5.41 20z\"/>\n",
              "  </svg>\n",
              "      </button>\n",
              "      \n",
              "  <style>\n",
              "    .colab-df-container {\n",
              "      display:flex;\n",
              "      flex-wrap:wrap;\n",
              "      gap: 12px;\n",
              "    }\n",
              "\n",
              "    .colab-df-convert {\n",
              "      background-color: #E8F0FE;\n",
              "      border: none;\n",
              "      border-radius: 50%;\n",
              "      cursor: pointer;\n",
              "      display: none;\n",
              "      fill: #1967D2;\n",
              "      height: 32px;\n",
              "      padding: 0 0 0 0;\n",
              "      width: 32px;\n",
              "    }\n",
              "\n",
              "    .colab-df-convert:hover {\n",
              "      background-color: #E2EBFA;\n",
              "      box-shadow: 0px 1px 2px rgba(60, 64, 67, 0.3), 0px 1px 3px 1px rgba(60, 64, 67, 0.15);\n",
              "      fill: #174EA6;\n",
              "    }\n",
              "\n",
              "    [theme=dark] .colab-df-convert {\n",
              "      background-color: #3B4455;\n",
              "      fill: #D2E3FC;\n",
              "    }\n",
              "\n",
              "    [theme=dark] .colab-df-convert:hover {\n",
              "      background-color: #434B5C;\n",
              "      box-shadow: 0px 1px 3px 1px rgba(0, 0, 0, 0.15);\n",
              "      filter: drop-shadow(0px 1px 2px rgba(0, 0, 0, 0.3));\n",
              "      fill: #FFFFFF;\n",
              "    }\n",
              "  </style>\n",
              "\n",
              "      <script>\n",
              "        const buttonEl =\n",
              "          document.querySelector('#df-9cc23145-5e5a-4f7b-9565-d6dbe10c2a39 button.colab-df-convert');\n",
              "        buttonEl.style.display =\n",
              "          google.colab.kernel.accessAllowed ? 'block' : 'none';\n",
              "\n",
              "        async function convertToInteractive(key) {\n",
              "          const element = document.querySelector('#df-9cc23145-5e5a-4f7b-9565-d6dbe10c2a39');\n",
              "          const dataTable =\n",
              "            await google.colab.kernel.invokeFunction('convertToInteractive',\n",
              "                                                     [key], {});\n",
              "          if (!dataTable) return;\n",
              "\n",
              "          const docLinkHtml = 'Like what you see? Visit the ' +\n",
              "            '<a target=\"_blank\" href=https://colab.research.google.com/notebooks/data_table.ipynb>data table notebook</a>'\n",
              "            + ' to learn more about interactive tables.';\n",
              "          element.innerHTML = '';\n",
              "          dataTable['output_type'] = 'display_data';\n",
              "          await google.colab.output.renderOutput(dataTable, element);\n",
              "          const docLink = document.createElement('div');\n",
              "          docLink.innerHTML = docLinkHtml;\n",
              "          element.appendChild(docLink);\n",
              "        }\n",
              "      </script>\n",
              "    </div>\n",
              "  </div>\n",
              "  "
            ]
          },
          "metadata": {},
          "execution_count": 11
        }
      ],
      "source": [
        "sequencepd"
      ]
    },
    {
      "cell_type": "code",
      "execution_count": null,
      "id": "703e4ca6",
      "metadata": {
        "id": "703e4ca6",
        "colab": {
          "base_uri": "https://localhost:8080/"
        },
        "outputId": "8d45b761-a63e-4bd9-d497-8d9c4f41e322"
      },
      "outputs": [
        {
          "output_type": "stream",
          "name": "stderr",
          "text": [
            "/usr/local/lib/python3.7/dist-packages/ipykernel_launcher.py:1: FutureWarning: The default value of regex will change from True to False in a future version.\n",
            "  \"\"\"Entry point for launching an IPython kernel.\n"
          ]
        }
      ],
      "source": [
        "sequencepd['Sequence'] = sequencepd['Sequence'].str.replace(' |\\n', '')"
      ]
    },
    {
      "cell_type": "code",
      "execution_count": null,
      "id": "919d2204",
      "metadata": {
        "id": "919d2204"
      },
      "outputs": [],
      "source": [
        "#sequencepd.to_csv(r'C:\\Users\\harsh\\Downloads\\Dissertation\\full.csv',index=False)"
      ]
    },
    {
      "cell_type": "code",
      "execution_count": null,
      "id": "efba64c3",
      "metadata": {
        "id": "efba64c3",
        "colab": {
          "base_uri": "https://localhost:8080/"
        },
        "outputId": "76843f10-9477-4725-d776-248a858d9354"
      },
      "outputs": [
        {
          "output_type": "execute_result",
          "data": {
            "text/plain": [
              "1301"
            ]
          },
          "metadata": {},
          "execution_count": 14
        }
      ],
      "source": [
        "sequencepd['Accession_number'].isnull().sum()"
      ]
    },
    {
      "cell_type": "code",
      "execution_count": null,
      "id": "6556f619",
      "metadata": {
        "id": "6556f619",
        "colab": {
          "base_uri": "https://localhost:8080/",
          "height": 179
        },
        "outputId": "f45c76e7-49a0-44a5-de2d-3f866b3a71bb"
      },
      "outputs": [
        {
          "output_type": "execute_result",
          "data": {
            "text/plain": [
              "                                         Description  \\\n",
              "0  OR4F5_ENST00000641515 ENST00000641515.2 1:6541...   \n",
              "\n",
              "                                            Sequence   Accession_number  \n",
              "0  atgaagaaggtaactgcagaggctatttcctggaatgaatcaacga...  ENST00000641515.2  "
            ],
            "text/html": [
              "\n",
              "  <div id=\"df-ea7fd285-540f-404a-8d0a-3736f5588447\">\n",
              "    <div class=\"colab-df-container\">\n",
              "      <div>\n",
              "<style scoped>\n",
              "    .dataframe tbody tr th:only-of-type {\n",
              "        vertical-align: middle;\n",
              "    }\n",
              "\n",
              "    .dataframe tbody tr th {\n",
              "        vertical-align: top;\n",
              "    }\n",
              "\n",
              "    .dataframe thead th {\n",
              "        text-align: right;\n",
              "    }\n",
              "</style>\n",
              "<table border=\"1\" class=\"dataframe\">\n",
              "  <thead>\n",
              "    <tr style=\"text-align: right;\">\n",
              "      <th></th>\n",
              "      <th>Description</th>\n",
              "      <th>Sequence</th>\n",
              "      <th>Accession_number</th>\n",
              "    </tr>\n",
              "  </thead>\n",
              "  <tbody>\n",
              "    <tr>\n",
              "      <th>0</th>\n",
              "      <td>OR4F5_ENST00000641515 ENST00000641515.2 1:6541...</td>\n",
              "      <td>atgaagaaggtaactgcagaggctatttcctggaatgaatcaacga...</td>\n",
              "      <td>ENST00000641515.2</td>\n",
              "    </tr>\n",
              "  </tbody>\n",
              "</table>\n",
              "</div>\n",
              "      <button class=\"colab-df-convert\" onclick=\"convertToInteractive('df-ea7fd285-540f-404a-8d0a-3736f5588447')\"\n",
              "              title=\"Convert this dataframe to an interactive table.\"\n",
              "              style=\"display:none;\">\n",
              "        \n",
              "  <svg xmlns=\"http://www.w3.org/2000/svg\" height=\"24px\"viewBox=\"0 0 24 24\"\n",
              "       width=\"24px\">\n",
              "    <path d=\"M0 0h24v24H0V0z\" fill=\"none\"/>\n",
              "    <path d=\"M18.56 5.44l.94 2.06.94-2.06 2.06-.94-2.06-.94-.94-2.06-.94 2.06-2.06.94zm-11 1L8.5 8.5l.94-2.06 2.06-.94-2.06-.94L8.5 2.5l-.94 2.06-2.06.94zm10 10l.94 2.06.94-2.06 2.06-.94-2.06-.94-.94-2.06-.94 2.06-2.06.94z\"/><path d=\"M17.41 7.96l-1.37-1.37c-.4-.4-.92-.59-1.43-.59-.52 0-1.04.2-1.43.59L10.3 9.45l-7.72 7.72c-.78.78-.78 2.05 0 2.83L4 21.41c.39.39.9.59 1.41.59.51 0 1.02-.2 1.41-.59l7.78-7.78 2.81-2.81c.8-.78.8-2.07 0-2.86zM5.41 20L4 18.59l7.72-7.72 1.47 1.35L5.41 20z\"/>\n",
              "  </svg>\n",
              "      </button>\n",
              "      \n",
              "  <style>\n",
              "    .colab-df-container {\n",
              "      display:flex;\n",
              "      flex-wrap:wrap;\n",
              "      gap: 12px;\n",
              "    }\n",
              "\n",
              "    .colab-df-convert {\n",
              "      background-color: #E8F0FE;\n",
              "      border: none;\n",
              "      border-radius: 50%;\n",
              "      cursor: pointer;\n",
              "      display: none;\n",
              "      fill: #1967D2;\n",
              "      height: 32px;\n",
              "      padding: 0 0 0 0;\n",
              "      width: 32px;\n",
              "    }\n",
              "\n",
              "    .colab-df-convert:hover {\n",
              "      background-color: #E2EBFA;\n",
              "      box-shadow: 0px 1px 2px rgba(60, 64, 67, 0.3), 0px 1px 3px 1px rgba(60, 64, 67, 0.15);\n",
              "      fill: #174EA6;\n",
              "    }\n",
              "\n",
              "    [theme=dark] .colab-df-convert {\n",
              "      background-color: #3B4455;\n",
              "      fill: #D2E3FC;\n",
              "    }\n",
              "\n",
              "    [theme=dark] .colab-df-convert:hover {\n",
              "      background-color: #434B5C;\n",
              "      box-shadow: 0px 1px 3px 1px rgba(0, 0, 0, 0.15);\n",
              "      filter: drop-shadow(0px 1px 2px rgba(0, 0, 0, 0.3));\n",
              "      fill: #FFFFFF;\n",
              "    }\n",
              "  </style>\n",
              "\n",
              "      <script>\n",
              "        const buttonEl =\n",
              "          document.querySelector('#df-ea7fd285-540f-404a-8d0a-3736f5588447 button.colab-df-convert');\n",
              "        buttonEl.style.display =\n",
              "          google.colab.kernel.accessAllowed ? 'block' : 'none';\n",
              "\n",
              "        async function convertToInteractive(key) {\n",
              "          const element = document.querySelector('#df-ea7fd285-540f-404a-8d0a-3736f5588447');\n",
              "          const dataTable =\n",
              "            await google.colab.kernel.invokeFunction('convertToInteractive',\n",
              "                                                     [key], {});\n",
              "          if (!dataTable) return;\n",
              "\n",
              "          const docLinkHtml = 'Like what you see? Visit the ' +\n",
              "            '<a target=\"_blank\" href=https://colab.research.google.com/notebooks/data_table.ipynb>data table notebook</a>'\n",
              "            + ' to learn more about interactive tables.';\n",
              "          element.innerHTML = '';\n",
              "          dataTable['output_type'] = 'display_data';\n",
              "          await google.colab.output.renderOutput(dataTable, element);\n",
              "          const docLink = document.createElement('div');\n",
              "          docLink.innerHTML = docLinkHtml;\n",
              "          element.appendChild(docLink);\n",
              "        }\n",
              "      </script>\n",
              "    </div>\n",
              "  </div>\n",
              "  "
            ]
          },
          "metadata": {},
          "execution_count": 15
        }
      ],
      "source": [
        "sequencepd.loc[sequencepd['Accession_number']=='ENST00000641515.2']"
      ]
    },
    {
      "cell_type": "code",
      "execution_count": null,
      "id": "ca901123",
      "metadata": {
        "id": "ca901123",
        "colab": {
          "base_uri": "https://localhost:8080/",
          "height": 456
        },
        "outputId": "17d94e8b-d8c5-4cc1-e47d-01e4be06a78a"
      },
      "outputs": [
        {
          "output_type": "execute_result",
          "data": {
            "text/plain": [
              "                     GENE_NAME   ACCESSION_NUMBER   GENE_CDS_LENGTH   HGNC_ID  \\\n",
              "1385158  OR4F5_ENST00000641515  ENST00000641515.2               981   14825.0   \n",
              "1385477  OR4F5_ENST00000641515  ENST00000641515.2               981   14825.0   \n",
              "1386981  OR4F5_ENST00000641515  ENST00000641515.2               981   14825.0   \n",
              "1419329  OR4F5_ENST00000641515  ENST00000641515.2               981   14825.0   \n",
              "1423713  OR4F5_ENST00000641515  ENST00000641515.2               981   14825.0   \n",
              "1477768  OR4F5_ENST00000641515  ENST00000641515.2               981   14825.0   \n",
              "1503111  OR4F5_ENST00000641515  ENST00000641515.2               981   14825.0   \n",
              "1519068  OR4F5_ENST00000641515  ENST00000641515.2               981   14825.0   \n",
              "1545746  OR4F5_ENST00000641515  ENST00000641515.2               981   14825.0   \n",
              "1578037  OR4F5_ENST00000641515  ENST00000641515.2               981   14825.0   \n",
              "\n",
              "                      SAMPLE_NAME   ID_SAMPLE   ID_TUMOUR  PRIMARY_SITE  \\\n",
              "1385158               CPCG0346-F1     2340648     2205631      prostate   \n",
              "1385477               CPCG0103-F1     2121422     1995658      prostate   \n",
              "1386981  0026_CRUK_PC_0026_T1_DNA     2457564     2320401      prostate   \n",
              "1419329  0031_CRUK_PC_0031_T1_DNA     2457557     2320394      prostate   \n",
              "1423713  0194_CRUK_PC_0194_T1_DNA     2634997     2495393      prostate   \n",
              "1477768  0237_CRUK_PC_0237_T1_DNA     2635061     2495457      prostate   \n",
              "1503111               CPCG0182-F1     2340853     2205836      prostate   \n",
              "1519068  0048_CRUK_PC_0048_T1_DNA     2457581     2320418      prostate   \n",
              "1545746         CPCG_0183_Pr_P_F0     2121447     1995683      prostate   \n",
              "1578037  0195_CRUK_PC_0195_T1_DNA     2634998     2495394      prostate   \n",
              "\n",
              "         SITE_SUBTYPE_1  SITE_SUBTYPE_2  ...  FATHMM_SCORE  \\\n",
              "1385158              NS              NS  ...           NaN   \n",
              "1385477              NS              NS  ...           NaN   \n",
              "1386981              NS              NS  ...           NaN   \n",
              "1419329              NS              NS  ...           NaN   \n",
              "1423713              NS              NS  ...           NaN   \n",
              "1477768              NS              NS  ...           NaN   \n",
              "1503111              NS              NS  ...           NaN   \n",
              "1519068              NS              NS  ...           NaN   \n",
              "1545746              NS              NS  ...       0.00508   \n",
              "1578037              NS              NS  ...           NaN   \n",
              "\n",
              "           MUTATION_SOMATIC_STATUS  PUBMED_PMID  ID_STUDY  SAMPLE_TYPE  \\\n",
              "1385158  Confirmed somatic variant          NaN     537.0           NS   \n",
              "1385477  Confirmed somatic variant          NaN     537.0           NS   \n",
              "1386981  Confirmed somatic variant          NaN     538.0           NS   \n",
              "1419329  Confirmed somatic variant          NaN     538.0           NS   \n",
              "1423713  Confirmed somatic variant          NaN     538.0           NS   \n",
              "1477768  Confirmed somatic variant          NaN     538.0           NS   \n",
              "1503111  Confirmed somatic variant          NaN     537.0           NS   \n",
              "1519068  Confirmed somatic variant          NaN     538.0           NS   \n",
              "1545746  Confirmed somatic variant          NaN     537.0           NS   \n",
              "1578037  Confirmed somatic variant          NaN     538.0           NS   \n",
              "\n",
              "         TUMOUR_ORIGIN   AGE  HGVSP  \\\n",
              "1385158        primary   NaN    NaN   \n",
              "1385477             NS   NaN    NaN   \n",
              "1386981        primary  65.0    NaN   \n",
              "1419329        primary  66.0    NaN   \n",
              "1423713        primary  53.0    NaN   \n",
              "1477768        primary  57.0    NaN   \n",
              "1503111        primary   NaN    NaN   \n",
              "1519068        primary  58.0    NaN   \n",
              "1545746             NS   NaN    NaN   \n",
              "1578037        primary  55.0    NaN   \n",
              "\n",
              "                                                     HGVSC  \\\n",
              "1385158                 ENST00000641515.2:c.9+601_9+602del   \n",
              "1385477      ENST00000641515.2:c.9+793_9+805delinsTATATTTT   \n",
              "1386981  ENST00000641515.2:c.9+1005_9+1006insTATATTATAT...   \n",
              "1419329  ENST00000641515.2:c.9+1005_9+1006insTATATTATAT...   \n",
              "1423713            ENST00000641515.2:c.9+949_9+950insATATA   \n",
              "1477768            ENST00000641515.2:c.9+949_9+950insATATA   \n",
              "1503111  ENST00000641515.2:c.9+1009_9+1010insTATATAAATA...   \n",
              "1519068            ENST00000641515.2:c.9+949_9+950insATATA   \n",
              "1545746                       ENST00000641515.2:c.9+800A>T   \n",
              "1578037            ENST00000641515.2:c.9+949_9+950insATATA   \n",
              "\n",
              "                                         HGVSG  \n",
              "1385158                     1:g.66174_66175del  \n",
              "1385477          1:g.66366_66378delinsTATATTTT  \n",
              "1386981  1:g.66578_66579insTATATTATATAAATATATT  \n",
              "1419329  1:g.66578_66579insTATATTATATAAATATATT  \n",
              "1423713                1:g.66522_66523insATATA  \n",
              "1477768                1:g.66522_66523insATATA  \n",
              "1503111  1:g.66582_66583insTATATAAATATATTTATAT  \n",
              "1519068                1:g.66522_66523insATATA  \n",
              "1545746                           1:g.66373A>T  \n",
              "1578037                1:g.66522_66523insATATA  \n",
              "\n",
              "[10 rows x 39 columns]"
            ],
            "text/html": [
              "\n",
              "  <div id=\"df-5f9400ed-848f-462e-a531-66675a9d8d37\">\n",
              "    <div class=\"colab-df-container\">\n",
              "      <div>\n",
              "<style scoped>\n",
              "    .dataframe tbody tr th:only-of-type {\n",
              "        vertical-align: middle;\n",
              "    }\n",
              "\n",
              "    .dataframe tbody tr th {\n",
              "        vertical-align: top;\n",
              "    }\n",
              "\n",
              "    .dataframe thead th {\n",
              "        text-align: right;\n",
              "    }\n",
              "</style>\n",
              "<table border=\"1\" class=\"dataframe\">\n",
              "  <thead>\n",
              "    <tr style=\"text-align: right;\">\n",
              "      <th></th>\n",
              "      <th>GENE_NAME</th>\n",
              "      <th>ACCESSION_NUMBER</th>\n",
              "      <th>GENE_CDS_LENGTH</th>\n",
              "      <th>HGNC_ID</th>\n",
              "      <th>SAMPLE_NAME</th>\n",
              "      <th>ID_SAMPLE</th>\n",
              "      <th>ID_TUMOUR</th>\n",
              "      <th>PRIMARY_SITE</th>\n",
              "      <th>SITE_SUBTYPE_1</th>\n",
              "      <th>SITE_SUBTYPE_2</th>\n",
              "      <th>...</th>\n",
              "      <th>FATHMM_SCORE</th>\n",
              "      <th>MUTATION_SOMATIC_STATUS</th>\n",
              "      <th>PUBMED_PMID</th>\n",
              "      <th>ID_STUDY</th>\n",
              "      <th>SAMPLE_TYPE</th>\n",
              "      <th>TUMOUR_ORIGIN</th>\n",
              "      <th>AGE</th>\n",
              "      <th>HGVSP</th>\n",
              "      <th>HGVSC</th>\n",
              "      <th>HGVSG</th>\n",
              "    </tr>\n",
              "  </thead>\n",
              "  <tbody>\n",
              "    <tr>\n",
              "      <th>1385158</th>\n",
              "      <td>OR4F5_ENST00000641515</td>\n",
              "      <td>ENST00000641515.2</td>\n",
              "      <td>981</td>\n",
              "      <td>14825.0</td>\n",
              "      <td>CPCG0346-F1</td>\n",
              "      <td>2340648</td>\n",
              "      <td>2205631</td>\n",
              "      <td>prostate</td>\n",
              "      <td>NS</td>\n",
              "      <td>NS</td>\n",
              "      <td>...</td>\n",
              "      <td>NaN</td>\n",
              "      <td>Confirmed somatic variant</td>\n",
              "      <td>NaN</td>\n",
              "      <td>537.0</td>\n",
              "      <td>NS</td>\n",
              "      <td>primary</td>\n",
              "      <td>NaN</td>\n",
              "      <td>NaN</td>\n",
              "      <td>ENST00000641515.2:c.9+601_9+602del</td>\n",
              "      <td>1:g.66174_66175del</td>\n",
              "    </tr>\n",
              "    <tr>\n",
              "      <th>1385477</th>\n",
              "      <td>OR4F5_ENST00000641515</td>\n",
              "      <td>ENST00000641515.2</td>\n",
              "      <td>981</td>\n",
              "      <td>14825.0</td>\n",
              "      <td>CPCG0103-F1</td>\n",
              "      <td>2121422</td>\n",
              "      <td>1995658</td>\n",
              "      <td>prostate</td>\n",
              "      <td>NS</td>\n",
              "      <td>NS</td>\n",
              "      <td>...</td>\n",
              "      <td>NaN</td>\n",
              "      <td>Confirmed somatic variant</td>\n",
              "      <td>NaN</td>\n",
              "      <td>537.0</td>\n",
              "      <td>NS</td>\n",
              "      <td>NS</td>\n",
              "      <td>NaN</td>\n",
              "      <td>NaN</td>\n",
              "      <td>ENST00000641515.2:c.9+793_9+805delinsTATATTTT</td>\n",
              "      <td>1:g.66366_66378delinsTATATTTT</td>\n",
              "    </tr>\n",
              "    <tr>\n",
              "      <th>1386981</th>\n",
              "      <td>OR4F5_ENST00000641515</td>\n",
              "      <td>ENST00000641515.2</td>\n",
              "      <td>981</td>\n",
              "      <td>14825.0</td>\n",
              "      <td>0026_CRUK_PC_0026_T1_DNA</td>\n",
              "      <td>2457564</td>\n",
              "      <td>2320401</td>\n",
              "      <td>prostate</td>\n",
              "      <td>NS</td>\n",
              "      <td>NS</td>\n",
              "      <td>...</td>\n",
              "      <td>NaN</td>\n",
              "      <td>Confirmed somatic variant</td>\n",
              "      <td>NaN</td>\n",
              "      <td>538.0</td>\n",
              "      <td>NS</td>\n",
              "      <td>primary</td>\n",
              "      <td>65.0</td>\n",
              "      <td>NaN</td>\n",
              "      <td>ENST00000641515.2:c.9+1005_9+1006insTATATTATAT...</td>\n",
              "      <td>1:g.66578_66579insTATATTATATAAATATATT</td>\n",
              "    </tr>\n",
              "    <tr>\n",
              "      <th>1419329</th>\n",
              "      <td>OR4F5_ENST00000641515</td>\n",
              "      <td>ENST00000641515.2</td>\n",
              "      <td>981</td>\n",
              "      <td>14825.0</td>\n",
              "      <td>0031_CRUK_PC_0031_T1_DNA</td>\n",
              "      <td>2457557</td>\n",
              "      <td>2320394</td>\n",
              "      <td>prostate</td>\n",
              "      <td>NS</td>\n",
              "      <td>NS</td>\n",
              "      <td>...</td>\n",
              "      <td>NaN</td>\n",
              "      <td>Confirmed somatic variant</td>\n",
              "      <td>NaN</td>\n",
              "      <td>538.0</td>\n",
              "      <td>NS</td>\n",
              "      <td>primary</td>\n",
              "      <td>66.0</td>\n",
              "      <td>NaN</td>\n",
              "      <td>ENST00000641515.2:c.9+1005_9+1006insTATATTATAT...</td>\n",
              "      <td>1:g.66578_66579insTATATTATATAAATATATT</td>\n",
              "    </tr>\n",
              "    <tr>\n",
              "      <th>1423713</th>\n",
              "      <td>OR4F5_ENST00000641515</td>\n",
              "      <td>ENST00000641515.2</td>\n",
              "      <td>981</td>\n",
              "      <td>14825.0</td>\n",
              "      <td>0194_CRUK_PC_0194_T1_DNA</td>\n",
              "      <td>2634997</td>\n",
              "      <td>2495393</td>\n",
              "      <td>prostate</td>\n",
              "      <td>NS</td>\n",
              "      <td>NS</td>\n",
              "      <td>...</td>\n",
              "      <td>NaN</td>\n",
              "      <td>Confirmed somatic variant</td>\n",
              "      <td>NaN</td>\n",
              "      <td>538.0</td>\n",
              "      <td>NS</td>\n",
              "      <td>primary</td>\n",
              "      <td>53.0</td>\n",
              "      <td>NaN</td>\n",
              "      <td>ENST00000641515.2:c.9+949_9+950insATATA</td>\n",
              "      <td>1:g.66522_66523insATATA</td>\n",
              "    </tr>\n",
              "    <tr>\n",
              "      <th>1477768</th>\n",
              "      <td>OR4F5_ENST00000641515</td>\n",
              "      <td>ENST00000641515.2</td>\n",
              "      <td>981</td>\n",
              "      <td>14825.0</td>\n",
              "      <td>0237_CRUK_PC_0237_T1_DNA</td>\n",
              "      <td>2635061</td>\n",
              "      <td>2495457</td>\n",
              "      <td>prostate</td>\n",
              "      <td>NS</td>\n",
              "      <td>NS</td>\n",
              "      <td>...</td>\n",
              "      <td>NaN</td>\n",
              "      <td>Confirmed somatic variant</td>\n",
              "      <td>NaN</td>\n",
              "      <td>538.0</td>\n",
              "      <td>NS</td>\n",
              "      <td>primary</td>\n",
              "      <td>57.0</td>\n",
              "      <td>NaN</td>\n",
              "      <td>ENST00000641515.2:c.9+949_9+950insATATA</td>\n",
              "      <td>1:g.66522_66523insATATA</td>\n",
              "    </tr>\n",
              "    <tr>\n",
              "      <th>1503111</th>\n",
              "      <td>OR4F5_ENST00000641515</td>\n",
              "      <td>ENST00000641515.2</td>\n",
              "      <td>981</td>\n",
              "      <td>14825.0</td>\n",
              "      <td>CPCG0182-F1</td>\n",
              "      <td>2340853</td>\n",
              "      <td>2205836</td>\n",
              "      <td>prostate</td>\n",
              "      <td>NS</td>\n",
              "      <td>NS</td>\n",
              "      <td>...</td>\n",
              "      <td>NaN</td>\n",
              "      <td>Confirmed somatic variant</td>\n",
              "      <td>NaN</td>\n",
              "      <td>537.0</td>\n",
              "      <td>NS</td>\n",
              "      <td>primary</td>\n",
              "      <td>NaN</td>\n",
              "      <td>NaN</td>\n",
              "      <td>ENST00000641515.2:c.9+1009_9+1010insTATATAAATA...</td>\n",
              "      <td>1:g.66582_66583insTATATAAATATATTTATAT</td>\n",
              "    </tr>\n",
              "    <tr>\n",
              "      <th>1519068</th>\n",
              "      <td>OR4F5_ENST00000641515</td>\n",
              "      <td>ENST00000641515.2</td>\n",
              "      <td>981</td>\n",
              "      <td>14825.0</td>\n",
              "      <td>0048_CRUK_PC_0048_T1_DNA</td>\n",
              "      <td>2457581</td>\n",
              "      <td>2320418</td>\n",
              "      <td>prostate</td>\n",
              "      <td>NS</td>\n",
              "      <td>NS</td>\n",
              "      <td>...</td>\n",
              "      <td>NaN</td>\n",
              "      <td>Confirmed somatic variant</td>\n",
              "      <td>NaN</td>\n",
              "      <td>538.0</td>\n",
              "      <td>NS</td>\n",
              "      <td>primary</td>\n",
              "      <td>58.0</td>\n",
              "      <td>NaN</td>\n",
              "      <td>ENST00000641515.2:c.9+949_9+950insATATA</td>\n",
              "      <td>1:g.66522_66523insATATA</td>\n",
              "    </tr>\n",
              "    <tr>\n",
              "      <th>1545746</th>\n",
              "      <td>OR4F5_ENST00000641515</td>\n",
              "      <td>ENST00000641515.2</td>\n",
              "      <td>981</td>\n",
              "      <td>14825.0</td>\n",
              "      <td>CPCG_0183_Pr_P_F0</td>\n",
              "      <td>2121447</td>\n",
              "      <td>1995683</td>\n",
              "      <td>prostate</td>\n",
              "      <td>NS</td>\n",
              "      <td>NS</td>\n",
              "      <td>...</td>\n",
              "      <td>0.00508</td>\n",
              "      <td>Confirmed somatic variant</td>\n",
              "      <td>NaN</td>\n",
              "      <td>537.0</td>\n",
              "      <td>NS</td>\n",
              "      <td>NS</td>\n",
              "      <td>NaN</td>\n",
              "      <td>NaN</td>\n",
              "      <td>ENST00000641515.2:c.9+800A&gt;T</td>\n",
              "      <td>1:g.66373A&gt;T</td>\n",
              "    </tr>\n",
              "    <tr>\n",
              "      <th>1578037</th>\n",
              "      <td>OR4F5_ENST00000641515</td>\n",
              "      <td>ENST00000641515.2</td>\n",
              "      <td>981</td>\n",
              "      <td>14825.0</td>\n",
              "      <td>0195_CRUK_PC_0195_T1_DNA</td>\n",
              "      <td>2634998</td>\n",
              "      <td>2495394</td>\n",
              "      <td>prostate</td>\n",
              "      <td>NS</td>\n",
              "      <td>NS</td>\n",
              "      <td>...</td>\n",
              "      <td>NaN</td>\n",
              "      <td>Confirmed somatic variant</td>\n",
              "      <td>NaN</td>\n",
              "      <td>538.0</td>\n",
              "      <td>NS</td>\n",
              "      <td>primary</td>\n",
              "      <td>55.0</td>\n",
              "      <td>NaN</td>\n",
              "      <td>ENST00000641515.2:c.9+949_9+950insATATA</td>\n",
              "      <td>1:g.66522_66523insATATA</td>\n",
              "    </tr>\n",
              "  </tbody>\n",
              "</table>\n",
              "<p>10 rows × 39 columns</p>\n",
              "</div>\n",
              "      <button class=\"colab-df-convert\" onclick=\"convertToInteractive('df-5f9400ed-848f-462e-a531-66675a9d8d37')\"\n",
              "              title=\"Convert this dataframe to an interactive table.\"\n",
              "              style=\"display:none;\">\n",
              "        \n",
              "  <svg xmlns=\"http://www.w3.org/2000/svg\" height=\"24px\"viewBox=\"0 0 24 24\"\n",
              "       width=\"24px\">\n",
              "    <path d=\"M0 0h24v24H0V0z\" fill=\"none\"/>\n",
              "    <path d=\"M18.56 5.44l.94 2.06.94-2.06 2.06-.94-2.06-.94-.94-2.06-.94 2.06-2.06.94zm-11 1L8.5 8.5l.94-2.06 2.06-.94-2.06-.94L8.5 2.5l-.94 2.06-2.06.94zm10 10l.94 2.06.94-2.06 2.06-.94-2.06-.94-.94-2.06-.94 2.06-2.06.94z\"/><path d=\"M17.41 7.96l-1.37-1.37c-.4-.4-.92-.59-1.43-.59-.52 0-1.04.2-1.43.59L10.3 9.45l-7.72 7.72c-.78.78-.78 2.05 0 2.83L4 21.41c.39.39.9.59 1.41.59.51 0 1.02-.2 1.41-.59l7.78-7.78 2.81-2.81c.8-.78.8-2.07 0-2.86zM5.41 20L4 18.59l7.72-7.72 1.47 1.35L5.41 20z\"/>\n",
              "  </svg>\n",
              "      </button>\n",
              "      \n",
              "  <style>\n",
              "    .colab-df-container {\n",
              "      display:flex;\n",
              "      flex-wrap:wrap;\n",
              "      gap: 12px;\n",
              "    }\n",
              "\n",
              "    .colab-df-convert {\n",
              "      background-color: #E8F0FE;\n",
              "      border: none;\n",
              "      border-radius: 50%;\n",
              "      cursor: pointer;\n",
              "      display: none;\n",
              "      fill: #1967D2;\n",
              "      height: 32px;\n",
              "      padding: 0 0 0 0;\n",
              "      width: 32px;\n",
              "    }\n",
              "\n",
              "    .colab-df-convert:hover {\n",
              "      background-color: #E2EBFA;\n",
              "      box-shadow: 0px 1px 2px rgba(60, 64, 67, 0.3), 0px 1px 3px 1px rgba(60, 64, 67, 0.15);\n",
              "      fill: #174EA6;\n",
              "    }\n",
              "\n",
              "    [theme=dark] .colab-df-convert {\n",
              "      background-color: #3B4455;\n",
              "      fill: #D2E3FC;\n",
              "    }\n",
              "\n",
              "    [theme=dark] .colab-df-convert:hover {\n",
              "      background-color: #434B5C;\n",
              "      box-shadow: 0px 1px 3px 1px rgba(0, 0, 0, 0.15);\n",
              "      filter: drop-shadow(0px 1px 2px rgba(0, 0, 0, 0.3));\n",
              "      fill: #FFFFFF;\n",
              "    }\n",
              "  </style>\n",
              "\n",
              "      <script>\n",
              "        const buttonEl =\n",
              "          document.querySelector('#df-5f9400ed-848f-462e-a531-66675a9d8d37 button.colab-df-convert');\n",
              "        buttonEl.style.display =\n",
              "          google.colab.kernel.accessAllowed ? 'block' : 'none';\n",
              "\n",
              "        async function convertToInteractive(key) {\n",
              "          const element = document.querySelector('#df-5f9400ed-848f-462e-a531-66675a9d8d37');\n",
              "          const dataTable =\n",
              "            await google.colab.kernel.invokeFunction('convertToInteractive',\n",
              "                                                     [key], {});\n",
              "          if (!dataTable) return;\n",
              "\n",
              "          const docLinkHtml = 'Like what you see? Visit the ' +\n",
              "            '<a target=\"_blank\" href=https://colab.research.google.com/notebooks/data_table.ipynb>data table notebook</a>'\n",
              "            + ' to learn more about interactive tables.';\n",
              "          element.innerHTML = '';\n",
              "          dataTable['output_type'] = 'display_data';\n",
              "          await google.colab.output.renderOutput(dataTable, element);\n",
              "          const docLink = document.createElement('div');\n",
              "          docLink.innerHTML = docLinkHtml;\n",
              "          element.appendChild(docLink);\n",
              "        }\n",
              "      </script>\n",
              "    </div>\n",
              "  </div>\n",
              "  "
            ]
          },
          "metadata": {},
          "execution_count": 16
        }
      ],
      "source": [
        "metadata.loc[metadata[' ACCESSION_NUMBER']=='ENST00000641515.2']"
      ]
    },
    {
      "cell_type": "code",
      "execution_count": null,
      "id": "47717696",
      "metadata": {
        "id": "47717696",
        "colab": {
          "base_uri": "https://localhost:8080/",
          "height": 765
        },
        "outputId": "74456cbe-f911-4838-bb2a-a460138a8f40"
      },
      "outputs": [
        {
          "output_type": "execute_result",
          "data": {
            "text/plain": [
              "                       GENE_NAME   ACCESSION_NUMBER   GENE_CDS_LENGTH  \\\n",
              "0           MFN2_ENST00000444836  ENST00000444836.5              2274   \n",
              "1           MFN2_ENST00000444836  ENST00000444836.5              2274   \n",
              "2           SELP_ENST00000458599  ENST00000458599.6              1941   \n",
              "3                           CDH6  ENST00000265071.2              2373   \n",
              "4          NCOR2_ENST00000404621  ENST00000404621.5              7377   \n",
              "...                          ...                ...               ...   \n",
              "2788999  SERINC5_ENST00000509193  ENST00000509193.5              1263   \n",
              "2789000    CHEK2_ENST00000402731  ENST00000402731.5              1545   \n",
              "2789001   CAMK2D_ENST00000394524  ENST00000394524.7              1437   \n",
              "2789002   PCDH15_ENST00000395440  ENST00000395440.5              2160   \n",
              "2789003    PTPRD_ENST00000537002  ENST00000537002.5              4491   \n",
              "\n",
              "          HGNC_ID        SAMPLE_NAME   ID_SAMPLE   ID_TUMOUR  PRIMARY_SITE  \\\n",
              "0         16877.0             P01-28     1691446     1599713      prostate   \n",
              "1         16877.0    TCGA-HC-A6AN-01     2262845     2129829      prostate   \n",
              "2         10721.0            PR-1701     1669605     1582897      prostate   \n",
              "3          1765.0         PR-09-3566     1691530     1599797      prostate   \n",
              "4          7673.0         PR-02-2072     1691505     1599772      prostate   \n",
              "...           ...                ...         ...         ...           ...   \n",
              "2788999   18825.0            DA13003     2634953     2495349      prostate   \n",
              "2789000   16627.0            2860310     2860310     2715598      prostate   \n",
              "2789001    1462.0  EOPC-174_tumor_01     2633755     2494151      prostate   \n",
              "2789002   14674.0  EOPC-174_tumor_01     2633755     2494151      prostate   \n",
              "2789003    9668.0  EOPC-016_tumor_01     2633795     2494191      prostate   \n",
              "\n",
              "         SITE_SUBTYPE_1  SITE_SUBTYPE_2  ...  PUBMED_PMID  ID_STUDY  \\\n",
              "0                    NS              NS  ...   22610119.0       NaN   \n",
              "1                    NS              NS  ...          NaN     435.0   \n",
              "2                    NS              NS  ...   21307934.0       NaN   \n",
              "3                    NS              NS  ...   22610119.0       NaN   \n",
              "4                    NS              NS  ...   22610119.0       NaN   \n",
              "...                 ...             ...  ...          ...       ...   \n",
              "2788999              NS              NS  ...          NaN     675.0   \n",
              "2789000              NS              NS  ...   32300177.0       NaN   \n",
              "2789001              NS              NS  ...          NaN     534.0   \n",
              "2789002              NS              NS  ...          NaN     534.0   \n",
              "2789003              NS              NS  ...          NaN     534.0   \n",
              "\n",
              "                  SAMPLE_TYPE  TUMOUR_ORIGIN   AGE  \\\n",
              "0        surgery fresh/frozen        primary  61.0   \n",
              "1                          NS        primary  67.0   \n",
              "2          fresh/frozen - NOS        primary  62.0   \n",
              "3        surgery fresh/frozen        primary  65.0   \n",
              "4        surgery fresh/frozen        primary  54.0   \n",
              "...                       ...            ...   ...   \n",
              "2788999                    NS        primary  67.0   \n",
              "2789000         surgery-fixed             NS  61.0   \n",
              "2789001                    NS        primary  52.0   \n",
              "2789002                    NS        primary  52.0   \n",
              "2789003                    NS        primary  44.0   \n",
              "\n",
              "                                HGVSP                             HGVSC  \\\n",
              "0          ENSP00000416338.1:p.Glu73=        ENST00000444836.5:c.219A>G   \n",
              "1          ENSP00000416338.1:p.Glu90=        ENST00000444836.5:c.270G>A   \n",
              "2                                 NaN   ENST00000458599.6:c.1886+210T>G   \n",
              "3        ENSP00000265071.2:p.Trp57Arg        ENST00000265071.2:c.169T>A   \n",
              "4         ENSP00000384202.1:p.Pro164=        ENST00000404621.5:c.492G>A   \n",
              "...                               ...                               ...   \n",
              "2788999                           NaN  ENST00000509193.5:c.1238+4989T>C   \n",
              "2789000   ENSP00000384835.1:p.Ala363=       ENST00000402731.5:c.1089G>T   \n",
              "2789001                           NaN  ENST00000394524.7:c.161-38748G>A   \n",
              "2789002                           NaN   ENST00000395440.5:c.91+58200G>A   \n",
              "2789003                           NaN    ENST00000537002.5:c.211-976C>A   \n",
              "\n",
              "                     HGVSG                                        Description  \\\n",
              "0          1:g.11992598A>G  MFN2_ENST00000444836 ENST00000444836.5 1:11980...   \n",
              "1          1:g.11992649G>A  MFN2_ENST00000444836 ENST00000444836.5 1:11980...   \n",
              "2         1:g.169591216A>C  SELP_ENST00000458599 ENST00000458599.6 1:16959...   \n",
              "3          5:g.31267642T>A      CDH6 ENST00000265071.2 5:31193750-31329146(+)   \n",
              "4        12:g.124473051C>T  NCOR2_ENST00000404621 ENST00000404621.5 12:124...   \n",
              "...                    ...                                                ...   \n",
              "2788999    5:g.80141101A>G  SERINC5_ENST00000509193 ENST00000509193.5 5:80...   \n",
              "2789000   22:g.28695793C>A  CHEK2_ENST00000402731 ENST00000402731.5 22:286...   \n",
              "2789001   4:g.113700520C>T  CAMK2D_ENST00000394524 ENST00000394524.7 4:113...   \n",
              "2789002   10:g.54605972C>T  PCDH15_ENST00000395440 ENST00000395440.5 10:53...   \n",
              "2789003     9:g.8634434G>T  PTPRD_ENST00000537002 ENST00000537002.5 9:8314...   \n",
              "\n",
              "                                                  Sequence  \n",
              "0        atgtccctgctcttctctcgatgcaactctatcgtcacagtcaaga...  \n",
              "1        atgtccctgctcttctctcgatgcaactctatcgtcacagtcaaga...  \n",
              "2        atggccaactgccaaatagccatcttgtaccagagattccagagag...  \n",
              "3        atgagaacttaccgctacttcttgctgctcttttgggtgggccagc...  \n",
              "4        atgtcgggatccacacagcctgtggcacagacgtggagggccactg...  \n",
              "...                                                    ...  \n",
              "2788999  atgtcagctcagtgctgtgcgggccagctggcctgctgctgtgggt...  \n",
              "2789000  atgtctcgggagtcggatgttgaggctcagcagtctcatggcagca...  \n",
              "2789001  atggcttcgaccacaacctgcaccaggttcacggacgagtatcagc...  \n",
              "2789002  atgtttcgacagttttatctctggacatgtttagcttcagggatca...  \n",
              "2789003  atggtgcacgtagccaggctgctgctgctgctcctcactttcttcc...  \n",
              "\n",
              "[2789004 rows x 41 columns]"
            ],
            "text/html": [
              "\n",
              "  <div id=\"df-ecdc297c-4200-4e96-9047-3a709acbf9f9\">\n",
              "    <div class=\"colab-df-container\">\n",
              "      <div>\n",
              "<style scoped>\n",
              "    .dataframe tbody tr th:only-of-type {\n",
              "        vertical-align: middle;\n",
              "    }\n",
              "\n",
              "    .dataframe tbody tr th {\n",
              "        vertical-align: top;\n",
              "    }\n",
              "\n",
              "    .dataframe thead th {\n",
              "        text-align: right;\n",
              "    }\n",
              "</style>\n",
              "<table border=\"1\" class=\"dataframe\">\n",
              "  <thead>\n",
              "    <tr style=\"text-align: right;\">\n",
              "      <th></th>\n",
              "      <th>GENE_NAME</th>\n",
              "      <th>ACCESSION_NUMBER</th>\n",
              "      <th>GENE_CDS_LENGTH</th>\n",
              "      <th>HGNC_ID</th>\n",
              "      <th>SAMPLE_NAME</th>\n",
              "      <th>ID_SAMPLE</th>\n",
              "      <th>ID_TUMOUR</th>\n",
              "      <th>PRIMARY_SITE</th>\n",
              "      <th>SITE_SUBTYPE_1</th>\n",
              "      <th>SITE_SUBTYPE_2</th>\n",
              "      <th>...</th>\n",
              "      <th>PUBMED_PMID</th>\n",
              "      <th>ID_STUDY</th>\n",
              "      <th>SAMPLE_TYPE</th>\n",
              "      <th>TUMOUR_ORIGIN</th>\n",
              "      <th>AGE</th>\n",
              "      <th>HGVSP</th>\n",
              "      <th>HGVSC</th>\n",
              "      <th>HGVSG</th>\n",
              "      <th>Description</th>\n",
              "      <th>Sequence</th>\n",
              "    </tr>\n",
              "  </thead>\n",
              "  <tbody>\n",
              "    <tr>\n",
              "      <th>0</th>\n",
              "      <td>MFN2_ENST00000444836</td>\n",
              "      <td>ENST00000444836.5</td>\n",
              "      <td>2274</td>\n",
              "      <td>16877.0</td>\n",
              "      <td>P01-28</td>\n",
              "      <td>1691446</td>\n",
              "      <td>1599713</td>\n",
              "      <td>prostate</td>\n",
              "      <td>NS</td>\n",
              "      <td>NS</td>\n",
              "      <td>...</td>\n",
              "      <td>22610119.0</td>\n",
              "      <td>NaN</td>\n",
              "      <td>surgery fresh/frozen</td>\n",
              "      <td>primary</td>\n",
              "      <td>61.0</td>\n",
              "      <td>ENSP00000416338.1:p.Glu73=</td>\n",
              "      <td>ENST00000444836.5:c.219A&gt;G</td>\n",
              "      <td>1:g.11992598A&gt;G</td>\n",
              "      <td>MFN2_ENST00000444836 ENST00000444836.5 1:11980...</td>\n",
              "      <td>atgtccctgctcttctctcgatgcaactctatcgtcacagtcaaga...</td>\n",
              "    </tr>\n",
              "    <tr>\n",
              "      <th>1</th>\n",
              "      <td>MFN2_ENST00000444836</td>\n",
              "      <td>ENST00000444836.5</td>\n",
              "      <td>2274</td>\n",
              "      <td>16877.0</td>\n",
              "      <td>TCGA-HC-A6AN-01</td>\n",
              "      <td>2262845</td>\n",
              "      <td>2129829</td>\n",
              "      <td>prostate</td>\n",
              "      <td>NS</td>\n",
              "      <td>NS</td>\n",
              "      <td>...</td>\n",
              "      <td>NaN</td>\n",
              "      <td>435.0</td>\n",
              "      <td>NS</td>\n",
              "      <td>primary</td>\n",
              "      <td>67.0</td>\n",
              "      <td>ENSP00000416338.1:p.Glu90=</td>\n",
              "      <td>ENST00000444836.5:c.270G&gt;A</td>\n",
              "      <td>1:g.11992649G&gt;A</td>\n",
              "      <td>MFN2_ENST00000444836 ENST00000444836.5 1:11980...</td>\n",
              "      <td>atgtccctgctcttctctcgatgcaactctatcgtcacagtcaaga...</td>\n",
              "    </tr>\n",
              "    <tr>\n",
              "      <th>2</th>\n",
              "      <td>SELP_ENST00000458599</td>\n",
              "      <td>ENST00000458599.6</td>\n",
              "      <td>1941</td>\n",
              "      <td>10721.0</td>\n",
              "      <td>PR-1701</td>\n",
              "      <td>1669605</td>\n",
              "      <td>1582897</td>\n",
              "      <td>prostate</td>\n",
              "      <td>NS</td>\n",
              "      <td>NS</td>\n",
              "      <td>...</td>\n",
              "      <td>21307934.0</td>\n",
              "      <td>NaN</td>\n",
              "      <td>fresh/frozen - NOS</td>\n",
              "      <td>primary</td>\n",
              "      <td>62.0</td>\n",
              "      <td>NaN</td>\n",
              "      <td>ENST00000458599.6:c.1886+210T&gt;G</td>\n",
              "      <td>1:g.169591216A&gt;C</td>\n",
              "      <td>SELP_ENST00000458599 ENST00000458599.6 1:16959...</td>\n",
              "      <td>atggccaactgccaaatagccatcttgtaccagagattccagagag...</td>\n",
              "    </tr>\n",
              "    <tr>\n",
              "      <th>3</th>\n",
              "      <td>CDH6</td>\n",
              "      <td>ENST00000265071.2</td>\n",
              "      <td>2373</td>\n",
              "      <td>1765.0</td>\n",
              "      <td>PR-09-3566</td>\n",
              "      <td>1691530</td>\n",
              "      <td>1599797</td>\n",
              "      <td>prostate</td>\n",
              "      <td>NS</td>\n",
              "      <td>NS</td>\n",
              "      <td>...</td>\n",
              "      <td>22610119.0</td>\n",
              "      <td>NaN</td>\n",
              "      <td>surgery fresh/frozen</td>\n",
              "      <td>primary</td>\n",
              "      <td>65.0</td>\n",
              "      <td>ENSP00000265071.2:p.Trp57Arg</td>\n",
              "      <td>ENST00000265071.2:c.169T&gt;A</td>\n",
              "      <td>5:g.31267642T&gt;A</td>\n",
              "      <td>CDH6 ENST00000265071.2 5:31193750-31329146(+)</td>\n",
              "      <td>atgagaacttaccgctacttcttgctgctcttttgggtgggccagc...</td>\n",
              "    </tr>\n",
              "    <tr>\n",
              "      <th>4</th>\n",
              "      <td>NCOR2_ENST00000404621</td>\n",
              "      <td>ENST00000404621.5</td>\n",
              "      <td>7377</td>\n",
              "      <td>7673.0</td>\n",
              "      <td>PR-02-2072</td>\n",
              "      <td>1691505</td>\n",
              "      <td>1599772</td>\n",
              "      <td>prostate</td>\n",
              "      <td>NS</td>\n",
              "      <td>NS</td>\n",
              "      <td>...</td>\n",
              "      <td>22610119.0</td>\n",
              "      <td>NaN</td>\n",
              "      <td>surgery fresh/frozen</td>\n",
              "      <td>primary</td>\n",
              "      <td>54.0</td>\n",
              "      <td>ENSP00000384202.1:p.Pro164=</td>\n",
              "      <td>ENST00000404621.5:c.492G&gt;A</td>\n",
              "      <td>12:g.124473051C&gt;T</td>\n",
              "      <td>NCOR2_ENST00000404621 ENST00000404621.5 12:124...</td>\n",
              "      <td>atgtcgggatccacacagcctgtggcacagacgtggagggccactg...</td>\n",
              "    </tr>\n",
              "    <tr>\n",
              "      <th>...</th>\n",
              "      <td>...</td>\n",
              "      <td>...</td>\n",
              "      <td>...</td>\n",
              "      <td>...</td>\n",
              "      <td>...</td>\n",
              "      <td>...</td>\n",
              "      <td>...</td>\n",
              "      <td>...</td>\n",
              "      <td>...</td>\n",
              "      <td>...</td>\n",
              "      <td>...</td>\n",
              "      <td>...</td>\n",
              "      <td>...</td>\n",
              "      <td>...</td>\n",
              "      <td>...</td>\n",
              "      <td>...</td>\n",
              "      <td>...</td>\n",
              "      <td>...</td>\n",
              "      <td>...</td>\n",
              "      <td>...</td>\n",
              "      <td>...</td>\n",
              "    </tr>\n",
              "    <tr>\n",
              "      <th>2788999</th>\n",
              "      <td>SERINC5_ENST00000509193</td>\n",
              "      <td>ENST00000509193.5</td>\n",
              "      <td>1263</td>\n",
              "      <td>18825.0</td>\n",
              "      <td>DA13003</td>\n",
              "      <td>2634953</td>\n",
              "      <td>2495349</td>\n",
              "      <td>prostate</td>\n",
              "      <td>NS</td>\n",
              "      <td>NS</td>\n",
              "      <td>...</td>\n",
              "      <td>NaN</td>\n",
              "      <td>675.0</td>\n",
              "      <td>NS</td>\n",
              "      <td>primary</td>\n",
              "      <td>67.0</td>\n",
              "      <td>NaN</td>\n",
              "      <td>ENST00000509193.5:c.1238+4989T&gt;C</td>\n",
              "      <td>5:g.80141101A&gt;G</td>\n",
              "      <td>SERINC5_ENST00000509193 ENST00000509193.5 5:80...</td>\n",
              "      <td>atgtcagctcagtgctgtgcgggccagctggcctgctgctgtgggt...</td>\n",
              "    </tr>\n",
              "    <tr>\n",
              "      <th>2789000</th>\n",
              "      <td>CHEK2_ENST00000402731</td>\n",
              "      <td>ENST00000402731.5</td>\n",
              "      <td>1545</td>\n",
              "      <td>16627.0</td>\n",
              "      <td>2860310</td>\n",
              "      <td>2860310</td>\n",
              "      <td>2715598</td>\n",
              "      <td>prostate</td>\n",
              "      <td>NS</td>\n",
              "      <td>NS</td>\n",
              "      <td>...</td>\n",
              "      <td>32300177.0</td>\n",
              "      <td>NaN</td>\n",
              "      <td>surgery-fixed</td>\n",
              "      <td>NS</td>\n",
              "      <td>61.0</td>\n",
              "      <td>ENSP00000384835.1:p.Ala363=</td>\n",
              "      <td>ENST00000402731.5:c.1089G&gt;T</td>\n",
              "      <td>22:g.28695793C&gt;A</td>\n",
              "      <td>CHEK2_ENST00000402731 ENST00000402731.5 22:286...</td>\n",
              "      <td>atgtctcgggagtcggatgttgaggctcagcagtctcatggcagca...</td>\n",
              "    </tr>\n",
              "    <tr>\n",
              "      <th>2789001</th>\n",
              "      <td>CAMK2D_ENST00000394524</td>\n",
              "      <td>ENST00000394524.7</td>\n",
              "      <td>1437</td>\n",
              "      <td>1462.0</td>\n",
              "      <td>EOPC-174_tumor_01</td>\n",
              "      <td>2633755</td>\n",
              "      <td>2494151</td>\n",
              "      <td>prostate</td>\n",
              "      <td>NS</td>\n",
              "      <td>NS</td>\n",
              "      <td>...</td>\n",
              "      <td>NaN</td>\n",
              "      <td>534.0</td>\n",
              "      <td>NS</td>\n",
              "      <td>primary</td>\n",
              "      <td>52.0</td>\n",
              "      <td>NaN</td>\n",
              "      <td>ENST00000394524.7:c.161-38748G&gt;A</td>\n",
              "      <td>4:g.113700520C&gt;T</td>\n",
              "      <td>CAMK2D_ENST00000394524 ENST00000394524.7 4:113...</td>\n",
              "      <td>atggcttcgaccacaacctgcaccaggttcacggacgagtatcagc...</td>\n",
              "    </tr>\n",
              "    <tr>\n",
              "      <th>2789002</th>\n",
              "      <td>PCDH15_ENST00000395440</td>\n",
              "      <td>ENST00000395440.5</td>\n",
              "      <td>2160</td>\n",
              "      <td>14674.0</td>\n",
              "      <td>EOPC-174_tumor_01</td>\n",
              "      <td>2633755</td>\n",
              "      <td>2494151</td>\n",
              "      <td>prostate</td>\n",
              "      <td>NS</td>\n",
              "      <td>NS</td>\n",
              "      <td>...</td>\n",
              "      <td>NaN</td>\n",
              "      <td>534.0</td>\n",
              "      <td>NS</td>\n",
              "      <td>primary</td>\n",
              "      <td>52.0</td>\n",
              "      <td>NaN</td>\n",
              "      <td>ENST00000395440.5:c.91+58200G&gt;A</td>\n",
              "      <td>10:g.54605972C&gt;T</td>\n",
              "      <td>PCDH15_ENST00000395440 ENST00000395440.5 10:53...</td>\n",
              "      <td>atgtttcgacagttttatctctggacatgtttagcttcagggatca...</td>\n",
              "    </tr>\n",
              "    <tr>\n",
              "      <th>2789003</th>\n",
              "      <td>PTPRD_ENST00000537002</td>\n",
              "      <td>ENST00000537002.5</td>\n",
              "      <td>4491</td>\n",
              "      <td>9668.0</td>\n",
              "      <td>EOPC-016_tumor_01</td>\n",
              "      <td>2633795</td>\n",
              "      <td>2494191</td>\n",
              "      <td>prostate</td>\n",
              "      <td>NS</td>\n",
              "      <td>NS</td>\n",
              "      <td>...</td>\n",
              "      <td>NaN</td>\n",
              "      <td>534.0</td>\n",
              "      <td>NS</td>\n",
              "      <td>primary</td>\n",
              "      <td>44.0</td>\n",
              "      <td>NaN</td>\n",
              "      <td>ENST00000537002.5:c.211-976C&gt;A</td>\n",
              "      <td>9:g.8634434G&gt;T</td>\n",
              "      <td>PTPRD_ENST00000537002 ENST00000537002.5 9:8314...</td>\n",
              "      <td>atggtgcacgtagccaggctgctgctgctgctcctcactttcttcc...</td>\n",
              "    </tr>\n",
              "  </tbody>\n",
              "</table>\n",
              "<p>2789004 rows × 41 columns</p>\n",
              "</div>\n",
              "      <button class=\"colab-df-convert\" onclick=\"convertToInteractive('df-ecdc297c-4200-4e96-9047-3a709acbf9f9')\"\n",
              "              title=\"Convert this dataframe to an interactive table.\"\n",
              "              style=\"display:none;\">\n",
              "        \n",
              "  <svg xmlns=\"http://www.w3.org/2000/svg\" height=\"24px\"viewBox=\"0 0 24 24\"\n",
              "       width=\"24px\">\n",
              "    <path d=\"M0 0h24v24H0V0z\" fill=\"none\"/>\n",
              "    <path d=\"M18.56 5.44l.94 2.06.94-2.06 2.06-.94-2.06-.94-.94-2.06-.94 2.06-2.06.94zm-11 1L8.5 8.5l.94-2.06 2.06-.94-2.06-.94L8.5 2.5l-.94 2.06-2.06.94zm10 10l.94 2.06.94-2.06 2.06-.94-2.06-.94-.94-2.06-.94 2.06-2.06.94z\"/><path d=\"M17.41 7.96l-1.37-1.37c-.4-.4-.92-.59-1.43-.59-.52 0-1.04.2-1.43.59L10.3 9.45l-7.72 7.72c-.78.78-.78 2.05 0 2.83L4 21.41c.39.39.9.59 1.41.59.51 0 1.02-.2 1.41-.59l7.78-7.78 2.81-2.81c.8-.78.8-2.07 0-2.86zM5.41 20L4 18.59l7.72-7.72 1.47 1.35L5.41 20z\"/>\n",
              "  </svg>\n",
              "      </button>\n",
              "      \n",
              "  <style>\n",
              "    .colab-df-container {\n",
              "      display:flex;\n",
              "      flex-wrap:wrap;\n",
              "      gap: 12px;\n",
              "    }\n",
              "\n",
              "    .colab-df-convert {\n",
              "      background-color: #E8F0FE;\n",
              "      border: none;\n",
              "      border-radius: 50%;\n",
              "      cursor: pointer;\n",
              "      display: none;\n",
              "      fill: #1967D2;\n",
              "      height: 32px;\n",
              "      padding: 0 0 0 0;\n",
              "      width: 32px;\n",
              "    }\n",
              "\n",
              "    .colab-df-convert:hover {\n",
              "      background-color: #E2EBFA;\n",
              "      box-shadow: 0px 1px 2px rgba(60, 64, 67, 0.3), 0px 1px 3px 1px rgba(60, 64, 67, 0.15);\n",
              "      fill: #174EA6;\n",
              "    }\n",
              "\n",
              "    [theme=dark] .colab-df-convert {\n",
              "      background-color: #3B4455;\n",
              "      fill: #D2E3FC;\n",
              "    }\n",
              "\n",
              "    [theme=dark] .colab-df-convert:hover {\n",
              "      background-color: #434B5C;\n",
              "      box-shadow: 0px 1px 3px 1px rgba(0, 0, 0, 0.15);\n",
              "      filter: drop-shadow(0px 1px 2px rgba(0, 0, 0, 0.3));\n",
              "      fill: #FFFFFF;\n",
              "    }\n",
              "  </style>\n",
              "\n",
              "      <script>\n",
              "        const buttonEl =\n",
              "          document.querySelector('#df-ecdc297c-4200-4e96-9047-3a709acbf9f9 button.colab-df-convert');\n",
              "        buttonEl.style.display =\n",
              "          google.colab.kernel.accessAllowed ? 'block' : 'none';\n",
              "\n",
              "        async function convertToInteractive(key) {\n",
              "          const element = document.querySelector('#df-ecdc297c-4200-4e96-9047-3a709acbf9f9');\n",
              "          const dataTable =\n",
              "            await google.colab.kernel.invokeFunction('convertToInteractive',\n",
              "                                                     [key], {});\n",
              "          if (!dataTable) return;\n",
              "\n",
              "          const docLinkHtml = 'Like what you see? Visit the ' +\n",
              "            '<a target=\"_blank\" href=https://colab.research.google.com/notebooks/data_table.ipynb>data table notebook</a>'\n",
              "            + ' to learn more about interactive tables.';\n",
              "          element.innerHTML = '';\n",
              "          dataTable['output_type'] = 'display_data';\n",
              "          await google.colab.output.renderOutput(dataTable, element);\n",
              "          const docLink = document.createElement('div');\n",
              "          docLink.innerHTML = docLinkHtml;\n",
              "          element.appendChild(docLink);\n",
              "        }\n",
              "      </script>\n",
              "    </div>\n",
              "  </div>\n",
              "  "
            ]
          },
          "metadata": {},
          "execution_count": 17
        }
      ],
      "source": [
        "sequencepd.rename(columns={'Accession_number':' ACCESSION_NUMBER'}, inplace=True)\n",
        "df1 = metadata.merge(sequencepd, on=' ACCESSION_NUMBER', how='left')\n",
        "df1"
      ]
    },
    {
      "cell_type": "code",
      "execution_count": null,
      "id": "3077dc3d",
      "metadata": {
        "id": "3077dc3d",
        "colab": {
          "base_uri": "https://localhost:8080/"
        },
        "outputId": "9dd0da51-7edb-4b8d-e84e-5a4f4f482904"
      },
      "outputs": [
        {
          "output_type": "execute_result",
          "data": {
            "text/plain": [
              "0"
            ]
          },
          "metadata": {},
          "execution_count": 18
        }
      ],
      "source": [
        "df1['Sequence'].isna().sum()"
      ]
    },
    {
      "cell_type": "code",
      "execution_count": null,
      "id": "53cfe36b",
      "metadata": {
        "id": "53cfe36b",
        "colab": {
          "base_uri": "https://localhost:8080/"
        },
        "outputId": "dd26256a-95f7-4649-dd43-3b6820435554"
      },
      "outputs": [
        {
          "output_type": "execute_result",
          "data": {
            "text/plain": [
              "55173"
            ]
          },
          "metadata": {},
          "execution_count": 19
        }
      ],
      "source": [
        "metadata[' ACCESSION_NUMBER'].nunique()"
      ]
    },
    {
      "cell_type": "code",
      "execution_count": null,
      "id": "dcb4d124",
      "metadata": {
        "id": "dcb4d124"
      },
      "outputs": [],
      "source": [
        "# df1.to_csv(r'C:\\Users\\harsh\\Downloads\\Dissertation\\full.csv',index=False)"
      ]
    },
    {
      "cell_type": "code",
      "execution_count": null,
      "id": "6f2cdfb6",
      "metadata": {
        "id": "6f2cdfb6",
        "colab": {
          "base_uri": "https://localhost:8080/",
          "height": 817
        },
        "outputId": "d4b77f70-90d9-4c20-89b7-5da594781f59"
      },
      "outputs": [
        {
          "output_type": "execute_result",
          "data": {
            "text/plain": [
              "                      GENE_NAME   ACCESSION_NUMBER   GENE_CDS_LENGTH  \\\n",
              "0          MFN2_ENST00000444836  ENST00000444836.5              2274   \n",
              "2          SELP_ENST00000458599  ENST00000458599.6              1941   \n",
              "3                          CDH6  ENST00000265071.2              2373   \n",
              "4         NCOR2_ENST00000404621  ENST00000404621.5              7377   \n",
              "13        MCF2L_ENST00000375604  ENST00000375604.6              3372   \n",
              "...                         ...                ...               ...   \n",
              "2770628                HIST1H3F  ENST00000618052.1               411   \n",
              "2772219                 ZC3H11B  ENST00000636126.1              2418   \n",
              "2773048  MCRIP1_ENST00000457257  ENST00000457257.5               357   \n",
              "2774360                   GNRH1  ENST00000276414.4               279   \n",
              "2778990                  GPR151  ENST00000311104.2              1260   \n",
              "\n",
              "          HGNC_ID               SAMPLE_NAME   ID_SAMPLE   ID_TUMOUR  \\\n",
              "0         16877.0                    P01-28     1691446     1599713   \n",
              "2         10721.0                   PR-1701     1669605     1582897   \n",
              "3          1765.0                PR-09-3566     1691530     1599797   \n",
              "4          7673.0                PR-02-2072     1691505     1599772   \n",
              "13        14576.0               CPCG0098-F1     2340647     2205630   \n",
              "...           ...                       ...         ...         ...   \n",
              "2770628    4773.0                  05-165M1     2575159     2436496   \n",
              "2772219   25659.0  0085_CRUK_PC_0085_T1_DNA     2457600     2320437   \n",
              "2773048   28007.0               CPCG0001-F1     2197576     2065854   \n",
              "2774360    4419.0  0160_CRUK_PC_0160_T1_DNA     2634965     2495361   \n",
              "2778990   23624.0  0076_CRUK_PC_0076_T1_DNA     2457573     2320410   \n",
              "\n",
              "         PRIMARY_SITE  SITE_SUBTYPE_1  SITE_SUBTYPE_2  ...  PUBMED_PMID  \\\n",
              "0            prostate              NS              NS  ...   22610119.0   \n",
              "2            prostate              NS              NS  ...   21307934.0   \n",
              "3            prostate              NS              NS  ...   22610119.0   \n",
              "4            prostate              NS              NS  ...   22610119.0   \n",
              "13           prostate              NS              NS  ...          NaN   \n",
              "...               ...             ...             ...  ...          ...   \n",
              "2770628      prostate              NS              NS  ...   26928463.0   \n",
              "2772219      prostate              NS              NS  ...          NaN   \n",
              "2773048      prostate              NS              NS  ...          NaN   \n",
              "2774360      prostate              NS              NS  ...          NaN   \n",
              "2778990      prostate              NS              NS  ...          NaN   \n",
              "\n",
              "         ID_STUDY           SAMPLE_TYPE  TUMOUR_ORIGIN   AGE  \\\n",
              "0             NaN  surgery fresh/frozen        primary  61.0   \n",
              "2             NaN    fresh/frozen - NOS        primary  62.0   \n",
              "3             NaN  surgery fresh/frozen        primary  65.0   \n",
              "4             NaN  surgery fresh/frozen        primary  54.0   \n",
              "13          537.0                    NS        primary   NaN   \n",
              "...           ...                   ...            ...   ...   \n",
              "2770628       NaN         autopsy - NOS     metastasis  69.0   \n",
              "2772219     538.0                    NS        primary  61.0   \n",
              "2773048     537.0                    NS             NS   NaN   \n",
              "2774360     538.0                    NS        primary  51.0   \n",
              "2778990     538.0                    NS        primary  59.0   \n",
              "\n",
              "                                 HGVSP                            HGVSC  \\\n",
              "0           ENSP00000416338.1:p.Glu73=       ENST00000444836.5:c.219A>G   \n",
              "2                                  NaN  ENST00000458599.6:c.1886+210T>G   \n",
              "3         ENSP00000265071.2:p.Trp57Arg       ENST00000265071.2:c.169T>A   \n",
              "4          ENSP00000384202.1:p.Pro164=       ENST00000404621.5:c.492G>A   \n",
              "13                                 NaN  ENST00000375604.6:c.364-1852A>T   \n",
              "...                                ...                              ...   \n",
              "2770628     ENSP00000484095.1:p.Ala76=       ENST00000618052.1:c.228G>A   \n",
              "2772219  ENSP00000489836.1:p.Arg510Ter      ENST00000636126.1:c.1528C>T   \n",
              "2773048   ENSP00000408827.2:p.Phe60Leu       ENST00000457257.5:c.180C>A   \n",
              "2774360                            NaN      ENST00000276414.4:c.-589G>C   \n",
              "2778990                            NaN      ENST00000311104.2:c.*424T>C   \n",
              "\n",
              "                     HGVSG                                        Description  \\\n",
              "0          1:g.11992598A>G  MFN2_ENST00000444836 ENST00000444836.5 1:11980...   \n",
              "2         1:g.169591216A>C  SELP_ENST00000458599 ENST00000458599.6 1:16959...   \n",
              "3          5:g.31267642T>A      CDH6 ENST00000265071.2 5:31193750-31329146(+)   \n",
              "4        12:g.124473051C>T  NCOR2_ENST00000404621 ENST00000404621.5 12:124...   \n",
              "13       13:g.113058741A>T  MCF2L_ENST00000375604 ENST00000375604.6 13:113...   \n",
              "...                    ...                                                ...   \n",
              "2770628    6:g.26250378C>T  HIST1H3F ENST00000618052.1 6:26250195-26250605(-)   \n",
              "2772219   1:g.219610535G>A  ZC3H11B ENST00000636126.1 1:219608347-21961314...   \n",
              "2773048   17:g.81824297G>T  MCRIP1_ENST00000457257 ENST00000457257.5 17:81...   \n",
              "2774360    8:g.25423919C>G     GNRH1 ENST00000276414.4 8:25419262-25424654(-)   \n",
              "2778990   5:g.146514430A>G  GPR151 ENST00000311104.2 5:146513103-146516190(-)   \n",
              "\n",
              "                                                  Sequence  \n",
              "0        atgtccctgctcttctctcgatgcaactctatcgtcacagtcaaga...  \n",
              "2        atggccaactgccaaatagccatcttgtaccagagattccagagag...  \n",
              "3        atgagaacttaccgctacttcttgctgctcttttgggtgggccagc...  \n",
              "4        atgtcgggatccacacagcctgtggcacagacgtggagggccactg...  \n",
              "13       atgacggtgcgccggctgtcactgctgtgccgggacctctgggcgc...  \n",
              "...                                                    ...  \n",
              "2770628  atggcacgcacgaagcaaacagctcgtaagtccactggcggcaaag...  \n",
              "2772219  atgcctaatcaaggagaagactgctatttttttttctattctacat...  \n",
              "2773048  atgctgccacaccagaggctgaggggatctggcggtggagcgctag...  \n",
              "2774360  atgaagccaattcaaaaactcctagctggccttattctactgactt...  \n",
              "2778990  atgctggcagctgcctttgcagactctaactccagcagcatgaatg...  \n",
              "\n",
              "[55173 rows x 41 columns]"
            ],
            "text/html": [
              "\n",
              "  <div id=\"df-8d6e82c3-93a1-48e9-9b89-a0d1b54ea235\">\n",
              "    <div class=\"colab-df-container\">\n",
              "      <div>\n",
              "<style scoped>\n",
              "    .dataframe tbody tr th:only-of-type {\n",
              "        vertical-align: middle;\n",
              "    }\n",
              "\n",
              "    .dataframe tbody tr th {\n",
              "        vertical-align: top;\n",
              "    }\n",
              "\n",
              "    .dataframe thead th {\n",
              "        text-align: right;\n",
              "    }\n",
              "</style>\n",
              "<table border=\"1\" class=\"dataframe\">\n",
              "  <thead>\n",
              "    <tr style=\"text-align: right;\">\n",
              "      <th></th>\n",
              "      <th>GENE_NAME</th>\n",
              "      <th>ACCESSION_NUMBER</th>\n",
              "      <th>GENE_CDS_LENGTH</th>\n",
              "      <th>HGNC_ID</th>\n",
              "      <th>SAMPLE_NAME</th>\n",
              "      <th>ID_SAMPLE</th>\n",
              "      <th>ID_TUMOUR</th>\n",
              "      <th>PRIMARY_SITE</th>\n",
              "      <th>SITE_SUBTYPE_1</th>\n",
              "      <th>SITE_SUBTYPE_2</th>\n",
              "      <th>...</th>\n",
              "      <th>PUBMED_PMID</th>\n",
              "      <th>ID_STUDY</th>\n",
              "      <th>SAMPLE_TYPE</th>\n",
              "      <th>TUMOUR_ORIGIN</th>\n",
              "      <th>AGE</th>\n",
              "      <th>HGVSP</th>\n",
              "      <th>HGVSC</th>\n",
              "      <th>HGVSG</th>\n",
              "      <th>Description</th>\n",
              "      <th>Sequence</th>\n",
              "    </tr>\n",
              "  </thead>\n",
              "  <tbody>\n",
              "    <tr>\n",
              "      <th>0</th>\n",
              "      <td>MFN2_ENST00000444836</td>\n",
              "      <td>ENST00000444836.5</td>\n",
              "      <td>2274</td>\n",
              "      <td>16877.0</td>\n",
              "      <td>P01-28</td>\n",
              "      <td>1691446</td>\n",
              "      <td>1599713</td>\n",
              "      <td>prostate</td>\n",
              "      <td>NS</td>\n",
              "      <td>NS</td>\n",
              "      <td>...</td>\n",
              "      <td>22610119.0</td>\n",
              "      <td>NaN</td>\n",
              "      <td>surgery fresh/frozen</td>\n",
              "      <td>primary</td>\n",
              "      <td>61.0</td>\n",
              "      <td>ENSP00000416338.1:p.Glu73=</td>\n",
              "      <td>ENST00000444836.5:c.219A&gt;G</td>\n",
              "      <td>1:g.11992598A&gt;G</td>\n",
              "      <td>MFN2_ENST00000444836 ENST00000444836.5 1:11980...</td>\n",
              "      <td>atgtccctgctcttctctcgatgcaactctatcgtcacagtcaaga...</td>\n",
              "    </tr>\n",
              "    <tr>\n",
              "      <th>2</th>\n",
              "      <td>SELP_ENST00000458599</td>\n",
              "      <td>ENST00000458599.6</td>\n",
              "      <td>1941</td>\n",
              "      <td>10721.0</td>\n",
              "      <td>PR-1701</td>\n",
              "      <td>1669605</td>\n",
              "      <td>1582897</td>\n",
              "      <td>prostate</td>\n",
              "      <td>NS</td>\n",
              "      <td>NS</td>\n",
              "      <td>...</td>\n",
              "      <td>21307934.0</td>\n",
              "      <td>NaN</td>\n",
              "      <td>fresh/frozen - NOS</td>\n",
              "      <td>primary</td>\n",
              "      <td>62.0</td>\n",
              "      <td>NaN</td>\n",
              "      <td>ENST00000458599.6:c.1886+210T&gt;G</td>\n",
              "      <td>1:g.169591216A&gt;C</td>\n",
              "      <td>SELP_ENST00000458599 ENST00000458599.6 1:16959...</td>\n",
              "      <td>atggccaactgccaaatagccatcttgtaccagagattccagagag...</td>\n",
              "    </tr>\n",
              "    <tr>\n",
              "      <th>3</th>\n",
              "      <td>CDH6</td>\n",
              "      <td>ENST00000265071.2</td>\n",
              "      <td>2373</td>\n",
              "      <td>1765.0</td>\n",
              "      <td>PR-09-3566</td>\n",
              "      <td>1691530</td>\n",
              "      <td>1599797</td>\n",
              "      <td>prostate</td>\n",
              "      <td>NS</td>\n",
              "      <td>NS</td>\n",
              "      <td>...</td>\n",
              "      <td>22610119.0</td>\n",
              "      <td>NaN</td>\n",
              "      <td>surgery fresh/frozen</td>\n",
              "      <td>primary</td>\n",
              "      <td>65.0</td>\n",
              "      <td>ENSP00000265071.2:p.Trp57Arg</td>\n",
              "      <td>ENST00000265071.2:c.169T&gt;A</td>\n",
              "      <td>5:g.31267642T&gt;A</td>\n",
              "      <td>CDH6 ENST00000265071.2 5:31193750-31329146(+)</td>\n",
              "      <td>atgagaacttaccgctacttcttgctgctcttttgggtgggccagc...</td>\n",
              "    </tr>\n",
              "    <tr>\n",
              "      <th>4</th>\n",
              "      <td>NCOR2_ENST00000404621</td>\n",
              "      <td>ENST00000404621.5</td>\n",
              "      <td>7377</td>\n",
              "      <td>7673.0</td>\n",
              "      <td>PR-02-2072</td>\n",
              "      <td>1691505</td>\n",
              "      <td>1599772</td>\n",
              "      <td>prostate</td>\n",
              "      <td>NS</td>\n",
              "      <td>NS</td>\n",
              "      <td>...</td>\n",
              "      <td>22610119.0</td>\n",
              "      <td>NaN</td>\n",
              "      <td>surgery fresh/frozen</td>\n",
              "      <td>primary</td>\n",
              "      <td>54.0</td>\n",
              "      <td>ENSP00000384202.1:p.Pro164=</td>\n",
              "      <td>ENST00000404621.5:c.492G&gt;A</td>\n",
              "      <td>12:g.124473051C&gt;T</td>\n",
              "      <td>NCOR2_ENST00000404621 ENST00000404621.5 12:124...</td>\n",
              "      <td>atgtcgggatccacacagcctgtggcacagacgtggagggccactg...</td>\n",
              "    </tr>\n",
              "    <tr>\n",
              "      <th>13</th>\n",
              "      <td>MCF2L_ENST00000375604</td>\n",
              "      <td>ENST00000375604.6</td>\n",
              "      <td>3372</td>\n",
              "      <td>14576.0</td>\n",
              "      <td>CPCG0098-F1</td>\n",
              "      <td>2340647</td>\n",
              "      <td>2205630</td>\n",
              "      <td>prostate</td>\n",
              "      <td>NS</td>\n",
              "      <td>NS</td>\n",
              "      <td>...</td>\n",
              "      <td>NaN</td>\n",
              "      <td>537.0</td>\n",
              "      <td>NS</td>\n",
              "      <td>primary</td>\n",
              "      <td>NaN</td>\n",
              "      <td>NaN</td>\n",
              "      <td>ENST00000375604.6:c.364-1852A&gt;T</td>\n",
              "      <td>13:g.113058741A&gt;T</td>\n",
              "      <td>MCF2L_ENST00000375604 ENST00000375604.6 13:113...</td>\n",
              "      <td>atgacggtgcgccggctgtcactgctgtgccgggacctctgggcgc...</td>\n",
              "    </tr>\n",
              "    <tr>\n",
              "      <th>...</th>\n",
              "      <td>...</td>\n",
              "      <td>...</td>\n",
              "      <td>...</td>\n",
              "      <td>...</td>\n",
              "      <td>...</td>\n",
              "      <td>...</td>\n",
              "      <td>...</td>\n",
              "      <td>...</td>\n",
              "      <td>...</td>\n",
              "      <td>...</td>\n",
              "      <td>...</td>\n",
              "      <td>...</td>\n",
              "      <td>...</td>\n",
              "      <td>...</td>\n",
              "      <td>...</td>\n",
              "      <td>...</td>\n",
              "      <td>...</td>\n",
              "      <td>...</td>\n",
              "      <td>...</td>\n",
              "      <td>...</td>\n",
              "      <td>...</td>\n",
              "    </tr>\n",
              "    <tr>\n",
              "      <th>2770628</th>\n",
              "      <td>HIST1H3F</td>\n",
              "      <td>ENST00000618052.1</td>\n",
              "      <td>411</td>\n",
              "      <td>4773.0</td>\n",
              "      <td>05-165M1</td>\n",
              "      <td>2575159</td>\n",
              "      <td>2436496</td>\n",
              "      <td>prostate</td>\n",
              "      <td>NS</td>\n",
              "      <td>NS</td>\n",
              "      <td>...</td>\n",
              "      <td>26928463.0</td>\n",
              "      <td>NaN</td>\n",
              "      <td>autopsy - NOS</td>\n",
              "      <td>metastasis</td>\n",
              "      <td>69.0</td>\n",
              "      <td>ENSP00000484095.1:p.Ala76=</td>\n",
              "      <td>ENST00000618052.1:c.228G&gt;A</td>\n",
              "      <td>6:g.26250378C&gt;T</td>\n",
              "      <td>HIST1H3F ENST00000618052.1 6:26250195-26250605(-)</td>\n",
              "      <td>atggcacgcacgaagcaaacagctcgtaagtccactggcggcaaag...</td>\n",
              "    </tr>\n",
              "    <tr>\n",
              "      <th>2772219</th>\n",
              "      <td>ZC3H11B</td>\n",
              "      <td>ENST00000636126.1</td>\n",
              "      <td>2418</td>\n",
              "      <td>25659.0</td>\n",
              "      <td>0085_CRUK_PC_0085_T1_DNA</td>\n",
              "      <td>2457600</td>\n",
              "      <td>2320437</td>\n",
              "      <td>prostate</td>\n",
              "      <td>NS</td>\n",
              "      <td>NS</td>\n",
              "      <td>...</td>\n",
              "      <td>NaN</td>\n",
              "      <td>538.0</td>\n",
              "      <td>NS</td>\n",
              "      <td>primary</td>\n",
              "      <td>61.0</td>\n",
              "      <td>ENSP00000489836.1:p.Arg510Ter</td>\n",
              "      <td>ENST00000636126.1:c.1528C&gt;T</td>\n",
              "      <td>1:g.219610535G&gt;A</td>\n",
              "      <td>ZC3H11B ENST00000636126.1 1:219608347-21961314...</td>\n",
              "      <td>atgcctaatcaaggagaagactgctatttttttttctattctacat...</td>\n",
              "    </tr>\n",
              "    <tr>\n",
              "      <th>2773048</th>\n",
              "      <td>MCRIP1_ENST00000457257</td>\n",
              "      <td>ENST00000457257.5</td>\n",
              "      <td>357</td>\n",
              "      <td>28007.0</td>\n",
              "      <td>CPCG0001-F1</td>\n",
              "      <td>2197576</td>\n",
              "      <td>2065854</td>\n",
              "      <td>prostate</td>\n",
              "      <td>NS</td>\n",
              "      <td>NS</td>\n",
              "      <td>...</td>\n",
              "      <td>NaN</td>\n",
              "      <td>537.0</td>\n",
              "      <td>NS</td>\n",
              "      <td>NS</td>\n",
              "      <td>NaN</td>\n",
              "      <td>ENSP00000408827.2:p.Phe60Leu</td>\n",
              "      <td>ENST00000457257.5:c.180C&gt;A</td>\n",
              "      <td>17:g.81824297G&gt;T</td>\n",
              "      <td>MCRIP1_ENST00000457257 ENST00000457257.5 17:81...</td>\n",
              "      <td>atgctgccacaccagaggctgaggggatctggcggtggagcgctag...</td>\n",
              "    </tr>\n",
              "    <tr>\n",
              "      <th>2774360</th>\n",
              "      <td>GNRH1</td>\n",
              "      <td>ENST00000276414.4</td>\n",
              "      <td>279</td>\n",
              "      <td>4419.0</td>\n",
              "      <td>0160_CRUK_PC_0160_T1_DNA</td>\n",
              "      <td>2634965</td>\n",
              "      <td>2495361</td>\n",
              "      <td>prostate</td>\n",
              "      <td>NS</td>\n",
              "      <td>NS</td>\n",
              "      <td>...</td>\n",
              "      <td>NaN</td>\n",
              "      <td>538.0</td>\n",
              "      <td>NS</td>\n",
              "      <td>primary</td>\n",
              "      <td>51.0</td>\n",
              "      <td>NaN</td>\n",
              "      <td>ENST00000276414.4:c.-589G&gt;C</td>\n",
              "      <td>8:g.25423919C&gt;G</td>\n",
              "      <td>GNRH1 ENST00000276414.4 8:25419262-25424654(-)</td>\n",
              "      <td>atgaagccaattcaaaaactcctagctggccttattctactgactt...</td>\n",
              "    </tr>\n",
              "    <tr>\n",
              "      <th>2778990</th>\n",
              "      <td>GPR151</td>\n",
              "      <td>ENST00000311104.2</td>\n",
              "      <td>1260</td>\n",
              "      <td>23624.0</td>\n",
              "      <td>0076_CRUK_PC_0076_T1_DNA</td>\n",
              "      <td>2457573</td>\n",
              "      <td>2320410</td>\n",
              "      <td>prostate</td>\n",
              "      <td>NS</td>\n",
              "      <td>NS</td>\n",
              "      <td>...</td>\n",
              "      <td>NaN</td>\n",
              "      <td>538.0</td>\n",
              "      <td>NS</td>\n",
              "      <td>primary</td>\n",
              "      <td>59.0</td>\n",
              "      <td>NaN</td>\n",
              "      <td>ENST00000311104.2:c.*424T&gt;C</td>\n",
              "      <td>5:g.146514430A&gt;G</td>\n",
              "      <td>GPR151 ENST00000311104.2 5:146513103-146516190(-)</td>\n",
              "      <td>atgctggcagctgcctttgcagactctaactccagcagcatgaatg...</td>\n",
              "    </tr>\n",
              "  </tbody>\n",
              "</table>\n",
              "<p>55173 rows × 41 columns</p>\n",
              "</div>\n",
              "      <button class=\"colab-df-convert\" onclick=\"convertToInteractive('df-8d6e82c3-93a1-48e9-9b89-a0d1b54ea235')\"\n",
              "              title=\"Convert this dataframe to an interactive table.\"\n",
              "              style=\"display:none;\">\n",
              "        \n",
              "  <svg xmlns=\"http://www.w3.org/2000/svg\" height=\"24px\"viewBox=\"0 0 24 24\"\n",
              "       width=\"24px\">\n",
              "    <path d=\"M0 0h24v24H0V0z\" fill=\"none\"/>\n",
              "    <path d=\"M18.56 5.44l.94 2.06.94-2.06 2.06-.94-2.06-.94-.94-2.06-.94 2.06-2.06.94zm-11 1L8.5 8.5l.94-2.06 2.06-.94-2.06-.94L8.5 2.5l-.94 2.06-2.06.94zm10 10l.94 2.06.94-2.06 2.06-.94-2.06-.94-.94-2.06-.94 2.06-2.06.94z\"/><path d=\"M17.41 7.96l-1.37-1.37c-.4-.4-.92-.59-1.43-.59-.52 0-1.04.2-1.43.59L10.3 9.45l-7.72 7.72c-.78.78-.78 2.05 0 2.83L4 21.41c.39.39.9.59 1.41.59.51 0 1.02-.2 1.41-.59l7.78-7.78 2.81-2.81c.8-.78.8-2.07 0-2.86zM5.41 20L4 18.59l7.72-7.72 1.47 1.35L5.41 20z\"/>\n",
              "  </svg>\n",
              "      </button>\n",
              "      \n",
              "  <style>\n",
              "    .colab-df-container {\n",
              "      display:flex;\n",
              "      flex-wrap:wrap;\n",
              "      gap: 12px;\n",
              "    }\n",
              "\n",
              "    .colab-df-convert {\n",
              "      background-color: #E8F0FE;\n",
              "      border: none;\n",
              "      border-radius: 50%;\n",
              "      cursor: pointer;\n",
              "      display: none;\n",
              "      fill: #1967D2;\n",
              "      height: 32px;\n",
              "      padding: 0 0 0 0;\n",
              "      width: 32px;\n",
              "    }\n",
              "\n",
              "    .colab-df-convert:hover {\n",
              "      background-color: #E2EBFA;\n",
              "      box-shadow: 0px 1px 2px rgba(60, 64, 67, 0.3), 0px 1px 3px 1px rgba(60, 64, 67, 0.15);\n",
              "      fill: #174EA6;\n",
              "    }\n",
              "\n",
              "    [theme=dark] .colab-df-convert {\n",
              "      background-color: #3B4455;\n",
              "      fill: #D2E3FC;\n",
              "    }\n",
              "\n",
              "    [theme=dark] .colab-df-convert:hover {\n",
              "      background-color: #434B5C;\n",
              "      box-shadow: 0px 1px 3px 1px rgba(0, 0, 0, 0.15);\n",
              "      filter: drop-shadow(0px 1px 2px rgba(0, 0, 0, 0.3));\n",
              "      fill: #FFFFFF;\n",
              "    }\n",
              "  </style>\n",
              "\n",
              "      <script>\n",
              "        const buttonEl =\n",
              "          document.querySelector('#df-8d6e82c3-93a1-48e9-9b89-a0d1b54ea235 button.colab-df-convert');\n",
              "        buttonEl.style.display =\n",
              "          google.colab.kernel.accessAllowed ? 'block' : 'none';\n",
              "\n",
              "        async function convertToInteractive(key) {\n",
              "          const element = document.querySelector('#df-8d6e82c3-93a1-48e9-9b89-a0d1b54ea235');\n",
              "          const dataTable =\n",
              "            await google.colab.kernel.invokeFunction('convertToInteractive',\n",
              "                                                     [key], {});\n",
              "          if (!dataTable) return;\n",
              "\n",
              "          const docLinkHtml = 'Like what you see? Visit the ' +\n",
              "            '<a target=\"_blank\" href=https://colab.research.google.com/notebooks/data_table.ipynb>data table notebook</a>'\n",
              "            + ' to learn more about interactive tables.';\n",
              "          element.innerHTML = '';\n",
              "          dataTable['output_type'] = 'display_data';\n",
              "          await google.colab.output.renderOutput(dataTable, element);\n",
              "          const docLink = document.createElement('div');\n",
              "          docLink.innerHTML = docLinkHtml;\n",
              "          element.appendChild(docLink);\n",
              "        }\n",
              "      </script>\n",
              "    </div>\n",
              "  </div>\n",
              "  "
            ]
          },
          "metadata": {},
          "execution_count": 21
        }
      ],
      "source": [
        "df2 = df1.drop_duplicates(' ACCESSION_NUMBER')\n",
        "df2"
      ]
    },
    {
      "cell_type": "code",
      "execution_count": null,
      "id": "463a7c13",
      "metadata": {
        "id": "463a7c13"
      },
      "outputs": [],
      "source": [
        "# df2.to_csv(r'C:\\Users\\harsh\\Downloads\\Dissertation\\final.csv',index=False)"
      ]
    },
    {
      "cell_type": "code",
      "execution_count": null,
      "id": "36109a8c",
      "metadata": {
        "id": "36109a8c"
      },
      "outputs": [],
      "source": [
        "# a = pd.concat(g for _, g in df2.groupby(\"Sequence\") if len(g) > 1)\n",
        "# a['Sequence'][0]"
      ]
    },
    {
      "cell_type": "code",
      "execution_count": null,
      "id": "dbd45b03",
      "metadata": {
        "id": "dbd45b03",
        "colab": {
          "base_uri": "https://localhost:8080/",
          "height": 143
        },
        "outputId": "69fa2a3f-102e-4f1c-ac53-374ef4065d32"
      },
      "outputs": [
        {
          "output_type": "execute_result",
          "data": {
            "text/plain": [
              "Empty DataFrame\n",
              "Columns: [GENE_NAME,  ACCESSION_NUMBER,  GENE_CDS_LENGTH,  HGNC_ID,  SAMPLE_NAME,  ID_SAMPLE,  ID_TUMOUR,  PRIMARY_SITE,  SITE_SUBTYPE_1,  SITE_SUBTYPE_2,  SITE_SUBTYPE_3,  PRIMARY_HISTOLOGY,  HISTOLOGY_SUBTYPE_1,  HISTOLOGY_SUBTYPE_2,  HISTOLOGY_SUBTYPE_3,  GENOME_WIDE_SCREEN,  GENOMIC_MUTATION_ID,  LEGACY_MUTATION_ID,  MUTATION_ID,  MUTATION_CDS,  MUTATION_AA,  MUTATION_DESCRIPTION,  MUTATION_ZYGOSITY,  LOH,  GRCH,  MUTATION_GENOME_POSITION,  MUTATION_STRAND,  RESISTANCE_MUTATION,  FATHMM_PREDICTION,  FATHMM_SCORE,  MUTATION_SOMATIC_STATUS,  PUBMED_PMID,  ID_STUDY,  SAMPLE_TYPE,  TUMOUR_ORIGIN,  AGE,  HGVSP,  HGVSC,  HGVSG, Description, Sequence]\n",
              "Index: []\n",
              "\n",
              "[0 rows x 41 columns]"
            ],
            "text/html": [
              "\n",
              "  <div id=\"df-f960e14c-86a8-4c38-9769-cbcf230ffbf0\">\n",
              "    <div class=\"colab-df-container\">\n",
              "      <div>\n",
              "<style scoped>\n",
              "    .dataframe tbody tr th:only-of-type {\n",
              "        vertical-align: middle;\n",
              "    }\n",
              "\n",
              "    .dataframe tbody tr th {\n",
              "        vertical-align: top;\n",
              "    }\n",
              "\n",
              "    .dataframe thead th {\n",
              "        text-align: right;\n",
              "    }\n",
              "</style>\n",
              "<table border=\"1\" class=\"dataframe\">\n",
              "  <thead>\n",
              "    <tr style=\"text-align: right;\">\n",
              "      <th></th>\n",
              "      <th>GENE_NAME</th>\n",
              "      <th>ACCESSION_NUMBER</th>\n",
              "      <th>GENE_CDS_LENGTH</th>\n",
              "      <th>HGNC_ID</th>\n",
              "      <th>SAMPLE_NAME</th>\n",
              "      <th>ID_SAMPLE</th>\n",
              "      <th>ID_TUMOUR</th>\n",
              "      <th>PRIMARY_SITE</th>\n",
              "      <th>SITE_SUBTYPE_1</th>\n",
              "      <th>SITE_SUBTYPE_2</th>\n",
              "      <th>...</th>\n",
              "      <th>PUBMED_PMID</th>\n",
              "      <th>ID_STUDY</th>\n",
              "      <th>SAMPLE_TYPE</th>\n",
              "      <th>TUMOUR_ORIGIN</th>\n",
              "      <th>AGE</th>\n",
              "      <th>HGVSP</th>\n",
              "      <th>HGVSC</th>\n",
              "      <th>HGVSG</th>\n",
              "      <th>Description</th>\n",
              "      <th>Sequence</th>\n",
              "    </tr>\n",
              "  </thead>\n",
              "  <tbody>\n",
              "  </tbody>\n",
              "</table>\n",
              "<p>0 rows × 41 columns</p>\n",
              "</div>\n",
              "      <button class=\"colab-df-convert\" onclick=\"convertToInteractive('df-f960e14c-86a8-4c38-9769-cbcf230ffbf0')\"\n",
              "              title=\"Convert this dataframe to an interactive table.\"\n",
              "              style=\"display:none;\">\n",
              "        \n",
              "  <svg xmlns=\"http://www.w3.org/2000/svg\" height=\"24px\"viewBox=\"0 0 24 24\"\n",
              "       width=\"24px\">\n",
              "    <path d=\"M0 0h24v24H0V0z\" fill=\"none\"/>\n",
              "    <path d=\"M18.56 5.44l.94 2.06.94-2.06 2.06-.94-2.06-.94-.94-2.06-.94 2.06-2.06.94zm-11 1L8.5 8.5l.94-2.06 2.06-.94-2.06-.94L8.5 2.5l-.94 2.06-2.06.94zm10 10l.94 2.06.94-2.06 2.06-.94-2.06-.94-.94-2.06-.94 2.06-2.06.94z\"/><path d=\"M17.41 7.96l-1.37-1.37c-.4-.4-.92-.59-1.43-.59-.52 0-1.04.2-1.43.59L10.3 9.45l-7.72 7.72c-.78.78-.78 2.05 0 2.83L4 21.41c.39.39.9.59 1.41.59.51 0 1.02-.2 1.41-.59l7.78-7.78 2.81-2.81c.8-.78.8-2.07 0-2.86zM5.41 20L4 18.59l7.72-7.72 1.47 1.35L5.41 20z\"/>\n",
              "  </svg>\n",
              "      </button>\n",
              "      \n",
              "  <style>\n",
              "    .colab-df-container {\n",
              "      display:flex;\n",
              "      flex-wrap:wrap;\n",
              "      gap: 12px;\n",
              "    }\n",
              "\n",
              "    .colab-df-convert {\n",
              "      background-color: #E8F0FE;\n",
              "      border: none;\n",
              "      border-radius: 50%;\n",
              "      cursor: pointer;\n",
              "      display: none;\n",
              "      fill: #1967D2;\n",
              "      height: 32px;\n",
              "      padding: 0 0 0 0;\n",
              "      width: 32px;\n",
              "    }\n",
              "\n",
              "    .colab-df-convert:hover {\n",
              "      background-color: #E2EBFA;\n",
              "      box-shadow: 0px 1px 2px rgba(60, 64, 67, 0.3), 0px 1px 3px 1px rgba(60, 64, 67, 0.15);\n",
              "      fill: #174EA6;\n",
              "    }\n",
              "\n",
              "    [theme=dark] .colab-df-convert {\n",
              "      background-color: #3B4455;\n",
              "      fill: #D2E3FC;\n",
              "    }\n",
              "\n",
              "    [theme=dark] .colab-df-convert:hover {\n",
              "      background-color: #434B5C;\n",
              "      box-shadow: 0px 1px 3px 1px rgba(0, 0, 0, 0.15);\n",
              "      filter: drop-shadow(0px 1px 2px rgba(0, 0, 0, 0.3));\n",
              "      fill: #FFFFFF;\n",
              "    }\n",
              "  </style>\n",
              "\n",
              "      <script>\n",
              "        const buttonEl =\n",
              "          document.querySelector('#df-f960e14c-86a8-4c38-9769-cbcf230ffbf0 button.colab-df-convert');\n",
              "        buttonEl.style.display =\n",
              "          google.colab.kernel.accessAllowed ? 'block' : 'none';\n",
              "\n",
              "        async function convertToInteractive(key) {\n",
              "          const element = document.querySelector('#df-f960e14c-86a8-4c38-9769-cbcf230ffbf0');\n",
              "          const dataTable =\n",
              "            await google.colab.kernel.invokeFunction('convertToInteractive',\n",
              "                                                     [key], {});\n",
              "          if (!dataTable) return;\n",
              "\n",
              "          const docLinkHtml = 'Like what you see? Visit the ' +\n",
              "            '<a target=\"_blank\" href=https://colab.research.google.com/notebooks/data_table.ipynb>data table notebook</a>'\n",
              "            + ' to learn more about interactive tables.';\n",
              "          element.innerHTML = '';\n",
              "          dataTable['output_type'] = 'display_data';\n",
              "          await google.colab.output.renderOutput(dataTable, element);\n",
              "          const docLink = document.createElement('div');\n",
              "          docLink.innerHTML = docLinkHtml;\n",
              "          element.appendChild(docLink);\n",
              "        }\n",
              "      </script>\n",
              "    </div>\n",
              "  </div>\n",
              "  "
            ]
          },
          "metadata": {},
          "execution_count": 24
        }
      ],
      "source": [
        "df2[df2.duplicated(keep=False)]"
      ]
    },
    {
      "cell_type": "code",
      "execution_count": null,
      "id": "9222ad7c",
      "metadata": {
        "id": "9222ad7c",
        "colab": {
          "base_uri": "https://localhost:8080/",
          "height": 441
        },
        "outputId": "c4695105-e1b2-4f11-878c-aa4bfe6cd99d"
      },
      "outputs": [
        {
          "output_type": "stream",
          "name": "stderr",
          "text": [
            "/usr/local/lib/python3.7/dist-packages/seaborn/_decorators.py:43: FutureWarning: Pass the following variable as a keyword arg: x. From version 0.12, the only valid positional argument will be `data`, and passing other arguments without an explicit keyword will result in an error or misinterpretation.\n",
            "  FutureWarning\n"
          ]
        },
        {
          "output_type": "execute_result",
          "data": {
            "text/plain": [
              "Text(0.5, 0, 'Primary Histology')"
            ]
          },
          "metadata": {},
          "execution_count": 25
        },
        {
          "output_type": "display_data",
          "data": {
            "text/plain": [
              "<Figure size 864x432 with 1 Axes>"
            ],
            "image/png": "[encoded data removed]"
          },
          "metadata": {
            "needs_background": "light"
          }
        }
      ],
      "source": [
        "plt.figure(figsize=(12,6))\n",
        "sns.countplot(df2[' FATHMM_PREDICTION'],palette='Blues')\n",
        "plt.title('Primary Histology Distribution Plot')\n",
        "plt.xlabel('Primary Histology')"
      ]
    },
    {
      "cell_type": "code",
      "execution_count": null,
      "id": "36b26c50",
      "metadata": {
        "id": "36b26c50",
        "colab": {
          "base_uri": "https://localhost:8080/"
        },
        "outputId": "5d953db3-18b0-4526-ab1c-3c3792ced096"
      },
      "outputs": [
        {
          "output_type": "execute_result",
          "data": {
            "text/plain": [
              "NEUTRAL       34514\n",
              "PATHOGENIC    13033\n",
              "Name:  FATHMM_PREDICTION, dtype: int64"
            ]
          },
          "metadata": {},
          "execution_count": 26
        }
      ],
      "source": [
        "df2[' FATHMM_PREDICTION'].value_counts()"
      ]
    },
    {
      "cell_type": "code",
      "execution_count": null,
      "id": "625cf772",
      "metadata": {
        "id": "625cf772"
      },
      "outputs": [],
      "source": [
        "# function to convert sequence strings into k-mer words, default size = 6 (hexamer words)\n",
        "def getKmers(sequence, size=6):\n",
        "    return [sequence[x:x+size].lower() for x in range(len(sequence) - size + 1)]"
      ]
    },
    {
      "cell_type": "code",
      "execution_count": null,
      "id": "3d3a6123",
      "metadata": {
        "id": "3d3a6123",
        "colab": {
          "base_uri": "https://localhost:8080/"
        },
        "outputId": "998f5fac-075c-4153-d388-c06d800c9bcb"
      },
      "outputs": [
        {
          "output_type": "stream",
          "name": "stderr",
          "text": [
            "/usr/local/lib/python3.7/dist-packages/ipykernel_launcher.py:1: SettingWithCopyWarning: \n",
            "A value is trying to be set on a copy of a slice from a DataFrame.\n",
            "Try using .loc[row_indexer,col_indexer] = value instead\n",
            "\n",
            "See the caveats in the documentation: https://pandas.pydata.org/pandas-docs/stable/user_guide/indexing.html#returning-a-view-versus-a-copy\n",
            "  \"\"\"Entry point for launching an IPython kernel.\n"
          ]
        }
      ],
      "source": [
        "df2['words'] = df2.apply(lambda x: getKmers(x['Sequence']), axis=1)"
      ]
    },
    {
      "cell_type": "code",
      "execution_count": null,
      "id": "4b0dabd3",
      "metadata": {
        "id": "4b0dabd3",
        "colab": {
          "base_uri": "https://localhost:8080/"
        },
        "outputId": "c28818b7-87cd-47e0-cdfc-efb6dea4fe60"
      },
      "outputs": [
        {
          "output_type": "execute_result",
          "data": {
            "text/plain": [
              "2269"
            ]
          },
          "metadata": {},
          "execution_count": 29
        }
      ],
      "source": [
        "len(df2['words'][0])"
      ]
    },
    {
      "cell_type": "code",
      "execution_count": null,
      "id": "d3e7db84",
      "metadata": {
        "id": "d3e7db84",
        "colab": {
          "base_uri": "https://localhost:8080/"
        },
        "outputId": "a7d0daa1-a2b3-422d-f19a-ac845cf81a89"
      },
      "outputs": [
        {
          "output_type": "execute_result",
          "data": {
            "text/plain": [
              "7626"
            ]
          },
          "metadata": {},
          "execution_count": 30
        }
      ],
      "source": [
        "df2[' FATHMM_PREDICTION'].isna().sum()"
      ]
    },
    {
      "cell_type": "code",
      "execution_count": null,
      "id": "756fa8a5",
      "metadata": {
        "id": "756fa8a5",
        "colab": {
          "base_uri": "https://localhost:8080/"
        },
        "outputId": "075d1ef1-ec10-4d2f-980d-df1b45c5d488"
      },
      "outputs": [
        {
          "output_type": "execute_result",
          "data": {
            "text/plain": [
              "5490"
            ]
          },
          "metadata": {},
          "execution_count": 31
        }
      ],
      "source": [
        "df2[' FATHMM_SCORE'].isna().sum()"
      ]
    },
    {
      "cell_type": "code",
      "execution_count": null,
      "id": "79b6f895",
      "metadata": {
        "id": "79b6f895",
        "colab": {
          "base_uri": "https://localhost:8080/"
        },
        "outputId": "664b6188-12d7-48d9-84d0-adb3af8805f3"
      },
      "outputs": [
        {
          "output_type": "stream",
          "name": "stderr",
          "text": [
            "/usr/local/lib/python3.7/dist-packages/pandas/core/generic.py:6392: SettingWithCopyWarning: \n",
            "A value is trying to be set on a copy of a slice from a DataFrame\n",
            "\n",
            "See the caveats in the documentation: https://pandas.pydata.org/pandas-docs/stable/user_guide/indexing.html#returning-a-view-versus-a-copy\n",
            "  return self._update_inplace(result)\n"
          ]
        },
        {
          "output_type": "execute_result",
          "data": {
            "text/plain": [
              "NEUTRAL       34514\n",
              "PATHOGENIC    20659\n",
              "Name:  FATHMM_PREDICTION, dtype: int64"
            ]
          },
          "metadata": {},
          "execution_count": 32
        }
      ],
      "source": [
        "df2[' FATHMM_PREDICTION'].fillna(\"PATHOGENIC\", inplace = True)\n",
        "df2[' FATHMM_PREDICTION'].value_counts()"
      ]
    },
    {
      "cell_type": "code",
      "execution_count": null,
      "id": "59cd7f1f",
      "metadata": {
        "id": "59cd7f1f",
        "colab": {
          "base_uri": "https://localhost:8080/"
        },
        "outputId": "03c75b32-8844-4fc1-a407-57c00f483584"
      },
      "outputs": [
        {
          "output_type": "execute_result",
          "data": {
            "text/plain": [
              "count    49683.000000\n",
              "mean         0.309524\n",
              "std          0.389559\n",
              "min          0.000000\n",
              "25%          0.009600\n",
              "50%          0.059040\n",
              "75%          0.744045\n",
              "max          0.999560\n",
              "Name:  FATHMM_SCORE, dtype: float64"
            ]
          },
          "metadata": {},
          "execution_count": 33
        }
      ],
      "source": [
        "df2[' FATHMM_SCORE'].describe()"
      ]
    },
    {
      "cell_type": "code",
      "execution_count": null,
      "id": "0f823bd3",
      "metadata": {
        "id": "0f823bd3",
        "colab": {
          "base_uri": "https://localhost:8080/"
        },
        "outputId": "5f61b568-a00b-41c2-b8c7-da6de0d20e02"
      },
      "outputs": [
        {
          "output_type": "stream",
          "name": "stderr",
          "text": [
            "/usr/local/lib/python3.7/dist-packages/ipykernel_launcher.py:3: SettingWithCopyWarning: \n",
            "A value is trying to be set on a copy of a slice from a DataFrame.\n",
            "Try using .loc[row_indexer,col_indexer] = value instead\n",
            "\n",
            "See the caveats in the documentation: https://pandas.pydata.org/pandas-docs/stable/user_guide/indexing.html#returning-a-view-versus-a-copy\n",
            "  This is separate from the ipykernel package so we can avoid doing imports until\n"
          ]
        },
        {
          "output_type": "execute_result",
          "data": {
            "text/plain": [
              "0    34514\n",
              "1    20659\n",
              "Name:  FATHMM_PREDICTION, dtype: int64"
            ]
          },
          "metadata": {},
          "execution_count": 34
        }
      ],
      "source": [
        "from sklearn.preprocessing import LabelEncoder\n",
        "labelencoder_Y = LabelEncoder()\n",
        "df2[' FATHMM_PREDICTION'] = labelencoder_Y.fit_transform(df2[' FATHMM_PREDICTION'])\n",
        "df2[' FATHMM_PREDICTION'].value_counts()"
      ]
    },
    {
      "cell_type": "code",
      "execution_count": null,
      "id": "0f398843",
      "metadata": {
        "id": "0f398843",
        "colab": {
          "base_uri": "https://localhost:8080/",
          "height": 206
        },
        "outputId": "7df48f4c-61b3-4d67-b0bc-30767dfa6fcd"
      },
      "outputs": [
        {
          "output_type": "execute_result",
          "data": {
            "text/plain": [
              "                                                words   FATHMM_PREDICTION\n",
              "0   [atgtcc, tgtccc, gtccct, tccctg, ccctgc, cctgc...                   1\n",
              "2   [atggcc, tggcca, ggccaa, gccaac, ccaact, caact...                   0\n",
              "3   [atgaga, tgagaa, gagaac, agaact, gaactt, aactt...                   1\n",
              "4   [atgtcg, tgtcgg, gtcggg, tcggga, cgggat, gggat...                   0\n",
              "13  [atgacg, tgacgg, gacggt, acggtg, cggtgc, ggtgc...                   0"
            ],
            "text/html": [
              "\n",
              "  <div id=\"df-718d40c6-68cf-41af-8462-416b59091a60\">\n",
              "    <div class=\"colab-df-container\">\n",
              "      <div>\n",
              "<style scoped>\n",
              "    .dataframe tbody tr th:only-of-type {\n",
              "        vertical-align: middle;\n",
              "    }\n",
              "\n",
              "    .dataframe tbody tr th {\n",
              "        vertical-align: top;\n",
              "    }\n",
              "\n",
              "    .dataframe thead th {\n",
              "        text-align: right;\n",
              "    }\n",
              "</style>\n",
              "<table border=\"1\" class=\"dataframe\">\n",
              "  <thead>\n",
              "    <tr style=\"text-align: right;\">\n",
              "      <th></th>\n",
              "      <th>words</th>\n",
              "      <th>FATHMM_PREDICTION</th>\n",
              "    </tr>\n",
              "  </thead>\n",
              "  <tbody>\n",
              "    <tr>\n",
              "      <th>0</th>\n",
              "      <td>[atgtcc, tgtccc, gtccct, tccctg, ccctgc, cctgc...</td>\n",
              "      <td>1</td>\n",
              "    </tr>\n",
              "    <tr>\n",
              "      <th>2</th>\n",
              "      <td>[atggcc, tggcca, ggccaa, gccaac, ccaact, caact...</td>\n",
              "      <td>0</td>\n",
              "    </tr>\n",
              "    <tr>\n",
              "      <th>3</th>\n",
              "      <td>[atgaga, tgagaa, gagaac, agaact, gaactt, aactt...</td>\n",
              "      <td>1</td>\n",
              "    </tr>\n",
              "    <tr>\n",
              "      <th>4</th>\n",
              "      <td>[atgtcg, tgtcgg, gtcggg, tcggga, cgggat, gggat...</td>\n",
              "      <td>0</td>\n",
              "    </tr>\n",
              "    <tr>\n",
              "      <th>13</th>\n",
              "      <td>[atgacg, tgacgg, gacggt, acggtg, cggtgc, ggtgc...</td>\n",
              "      <td>0</td>\n",
              "    </tr>\n",
              "  </tbody>\n",
              "</table>\n",
              "</div>\n",
              "      <button class=\"colab-df-convert\" onclick=\"convertToInteractive('df-718d40c6-68cf-41af-8462-416b59091a60')\"\n",
              "              title=\"Convert this dataframe to an interactive table.\"\n",
              "              style=\"display:none;\">\n",
              "        \n",
              "  <svg xmlns=\"http://www.w3.org/2000/svg\" height=\"24px\"viewBox=\"0 0 24 24\"\n",
              "       width=\"24px\">\n",
              "    <path d=\"M0 0h24v24H0V0z\" fill=\"none\"/>\n",
              "    <path d=\"M18.56 5.44l.94 2.06.94-2.06 2.06-.94-2.06-.94-.94-2.06-.94 2.06-2.06.94zm-11 1L8.5 8.5l.94-2.06 2.06-.94-2.06-.94L8.5 2.5l-.94 2.06-2.06.94zm10 10l.94 2.06.94-2.06 2.06-.94-2.06-.94-.94-2.06-.94 2.06-2.06.94z\"/><path d=\"M17.41 7.96l-1.37-1.37c-.4-.4-.92-.59-1.43-.59-.52 0-1.04.2-1.43.59L10.3 9.45l-7.72 7.72c-.78.78-.78 2.05 0 2.83L4 21.41c.39.39.9.59 1.41.59.51 0 1.02-.2 1.41-.59l7.78-7.78 2.81-2.81c.8-.78.8-2.07 0-2.86zM5.41 20L4 18.59l7.72-7.72 1.47 1.35L5.41 20z\"/>\n",
              "  </svg>\n",
              "      </button>\n",
              "      \n",
              "  <style>\n",
              "    .colab-df-container {\n",
              "      display:flex;\n",
              "      flex-wrap:wrap;\n",
              "      gap: 12px;\n",
              "    }\n",
              "\n",
              "    .colab-df-convert {\n",
              "      background-color: #E8F0FE;\n",
              "      border: none;\n",
              "      border-radius: 50%;\n",
              "      cursor: pointer;\n",
              "      display: none;\n",
              "      fill: #1967D2;\n",
              "      height: 32px;\n",
              "      padding: 0 0 0 0;\n",
              "      width: 32px;\n",
              "    }\n",
              "\n",
              "    .colab-df-convert:hover {\n",
              "      background-color: #E2EBFA;\n",
              "      box-shadow: 0px 1px 2px rgba(60, 64, 67, 0.3), 0px 1px 3px 1px rgba(60, 64, 67, 0.15);\n",
              "      fill: #174EA6;\n",
              "    }\n",
              "\n",
              "    [theme=dark] .colab-df-convert {\n",
              "      background-color: #3B4455;\n",
              "      fill: #D2E3FC;\n",
              "    }\n",
              "\n",
              "    [theme=dark] .colab-df-convert:hover {\n",
              "      background-color: #434B5C;\n",
              "      box-shadow: 0px 1px 3px 1px rgba(0, 0, 0, 0.15);\n",
              "      filter: drop-shadow(0px 1px 2px rgba(0, 0, 0, 0.3));\n",
              "      fill: #FFFFFF;\n",
              "    }\n",
              "  </style>\n",
              "\n",
              "      <script>\n",
              "        const buttonEl =\n",
              "          document.querySelector('#df-718d40c6-68cf-41af-8462-416b59091a60 button.colab-df-convert');\n",
              "        buttonEl.style.display =\n",
              "          google.colab.kernel.accessAllowed ? 'block' : 'none';\n",
              "\n",
              "        async function convertToInteractive(key) {\n",
              "          const element = document.querySelector('#df-718d40c6-68cf-41af-8462-416b59091a60');\n",
              "          const dataTable =\n",
              "            await google.colab.kernel.invokeFunction('convertToInteractive',\n",
              "                                                     [key], {});\n",
              "          if (!dataTable) return;\n",
              "\n",
              "          const docLinkHtml = 'Like what you see? Visit the ' +\n",
              "            '<a target=\"_blank\" href=https://colab.research.google.com/notebooks/data_table.ipynb>data table notebook</a>'\n",
              "            + ' to learn more about interactive tables.';\n",
              "          element.innerHTML = '';\n",
              "          dataTable['output_type'] = 'display_data';\n",
              "          await google.colab.output.renderOutput(dataTable, element);\n",
              "          const docLink = document.createElement('div');\n",
              "          docLink.innerHTML = docLinkHtml;\n",
              "          element.appendChild(docLink);\n",
              "        }\n",
              "      </script>\n",
              "    </div>\n",
              "  </div>\n",
              "  "
            ]
          },
          "metadata": {},
          "execution_count": 35
        }
      ],
      "source": [
        "prostatedata = df2[['words', ' FATHMM_PREDICTION']].copy()\n",
        "prostatedata.head()"
      ]
    },
    {
      "cell_type": "code",
      "execution_count": null,
      "id": "78dc7c3e",
      "metadata": {
        "id": "78dc7c3e",
        "colab": {
          "base_uri": "https://localhost:8080/",
          "height": 206
        },
        "outputId": "92447180-7a37-40cf-ed37-2551b7e689aa"
      },
      "outputs": [
        {
          "output_type": "execute_result",
          "data": {
            "text/plain": [
              "                                               words  IsCancer\n",
              "0  [atgtcc, tgtccc, gtccct, tccctg, ccctgc, cctgc...         1\n",
              "1  [atggcc, tggcca, ggccaa, gccaac, ccaact, caact...         0\n",
              "2  [atgaga, tgagaa, gagaac, agaact, gaactt, aactt...         1\n",
              "3  [atgtcg, tgtcgg, gtcggg, tcggga, cgggat, gggat...         0\n",
              "4  [atgacg, tgacgg, gacggt, acggtg, cggtgc, ggtgc...         0"
            ],
            "text/html": [
              "\n",
              "  <div id=\"df-8e86f1f5-06f0-4856-b086-66c618ed5330\">\n",
              "    <div class=\"colab-df-container\">\n",
              "      <div>\n",
              "<style scoped>\n",
              "    .dataframe tbody tr th:only-of-type {\n",
              "        vertical-align: middle;\n",
              "    }\n",
              "\n",
              "    .dataframe tbody tr th {\n",
              "        vertical-align: top;\n",
              "    }\n",
              "\n",
              "    .dataframe thead th {\n",
              "        text-align: right;\n",
              "    }\n",
              "</style>\n",
              "<table border=\"1\" class=\"dataframe\">\n",
              "  <thead>\n",
              "    <tr style=\"text-align: right;\">\n",
              "      <th></th>\n",
              "      <th>words</th>\n",
              "      <th>IsCancer</th>\n",
              "    </tr>\n",
              "  </thead>\n",
              "  <tbody>\n",
              "    <tr>\n",
              "      <th>0</th>\n",
              "      <td>[atgtcc, tgtccc, gtccct, tccctg, ccctgc, cctgc...</td>\n",
              "      <td>1</td>\n",
              "    </tr>\n",
              "    <tr>\n",
              "      <th>1</th>\n",
              "      <td>[atggcc, tggcca, ggccaa, gccaac, ccaact, caact...</td>\n",
              "      <td>0</td>\n",
              "    </tr>\n",
              "    <tr>\n",
              "      <th>2</th>\n",
              "      <td>[atgaga, tgagaa, gagaac, agaact, gaactt, aactt...</td>\n",
              "      <td>1</td>\n",
              "    </tr>\n",
              "    <tr>\n",
              "      <th>3</th>\n",
              "      <td>[atgtcg, tgtcgg, gtcggg, tcggga, cgggat, gggat...</td>\n",
              "      <td>0</td>\n",
              "    </tr>\n",
              "    <tr>\n",
              "      <th>4</th>\n",
              "      <td>[atgacg, tgacgg, gacggt, acggtg, cggtgc, ggtgc...</td>\n",
              "      <td>0</td>\n",
              "    </tr>\n",
              "  </tbody>\n",
              "</table>\n",
              "</div>\n",
              "      <button class=\"colab-df-convert\" onclick=\"convertToInteractive('df-8e86f1f5-06f0-4856-b086-66c618ed5330')\"\n",
              "              title=\"Convert this dataframe to an interactive table.\"\n",
              "              style=\"display:none;\">\n",
              "        \n",
              "  <svg xmlns=\"http://www.w3.org/2000/svg\" height=\"24px\"viewBox=\"0 0 24 24\"\n",
              "       width=\"24px\">\n",
              "    <path d=\"M0 0h24v24H0V0z\" fill=\"none\"/>\n",
              "    <path d=\"M18.56 5.44l.94 2.06.94-2.06 2.06-.94-2.06-.94-.94-2.06-.94 2.06-2.06.94zm-11 1L8.5 8.5l.94-2.06 2.06-.94-2.06-.94L8.5 2.5l-.94 2.06-2.06.94zm10 10l.94 2.06.94-2.06 2.06-.94-2.06-.94-.94-2.06-.94 2.06-2.06.94z\"/><path d=\"M17.41 7.96l-1.37-1.37c-.4-.4-.92-.59-1.43-.59-.52 0-1.04.2-1.43.59L10.3 9.45l-7.72 7.72c-.78.78-.78 2.05 0 2.83L4 21.41c.39.39.9.59 1.41.59.51 0 1.02-.2 1.41-.59l7.78-7.78 2.81-2.81c.8-.78.8-2.07 0-2.86zM5.41 20L4 18.59l7.72-7.72 1.47 1.35L5.41 20z\"/>\n",
              "  </svg>\n",
              "      </button>\n",
              "      \n",
              "  <style>\n",
              "    .colab-df-container {\n",
              "      display:flex;\n",
              "      flex-wrap:wrap;\n",
              "      gap: 12px;\n",
              "    }\n",
              "\n",
              "    .colab-df-convert {\n",
              "      background-color: #E8F0FE;\n",
              "      border: none;\n",
              "      border-radius: 50%;\n",
              "      cursor: pointer;\n",
              "      display: none;\n",
              "      fill: #1967D2;\n",
              "      height: 32px;\n",
              "      padding: 0 0 0 0;\n",
              "      width: 32px;\n",
              "    }\n",
              "\n",
              "    .colab-df-convert:hover {\n",
              "      background-color: #E2EBFA;\n",
              "      box-shadow: 0px 1px 2px rgba(60, 64, 67, 0.3), 0px 1px 3px 1px rgba(60, 64, 67, 0.15);\n",
              "      fill: #174EA6;\n",
              "    }\n",
              "\n",
              "    [theme=dark] .colab-df-convert {\n",
              "      background-color: #3B4455;\n",
              "      fill: #D2E3FC;\n",
              "    }\n",
              "\n",
              "    [theme=dark] .colab-df-convert:hover {\n",
              "      background-color: #434B5C;\n",
              "      box-shadow: 0px 1px 3px 1px rgba(0, 0, 0, 0.15);\n",
              "      filter: drop-shadow(0px 1px 2px rgba(0, 0, 0, 0.3));\n",
              "      fill: #FFFFFF;\n",
              "    }\n",
              "  </style>\n",
              "\n",
              "      <script>\n",
              "        const buttonEl =\n",
              "          document.querySelector('#df-8e86f1f5-06f0-4856-b086-66c618ed5330 button.colab-df-convert');\n",
              "        buttonEl.style.display =\n",
              "          google.colab.kernel.accessAllowed ? 'block' : 'none';\n",
              "\n",
              "        async function convertToInteractive(key) {\n",
              "          const element = document.querySelector('#df-8e86f1f5-06f0-4856-b086-66c618ed5330');\n",
              "          const dataTable =\n",
              "            await google.colab.kernel.invokeFunction('convertToInteractive',\n",
              "                                                     [key], {});\n",
              "          if (!dataTable) return;\n",
              "\n",
              "          const docLinkHtml = 'Like what you see? Visit the ' +\n",
              "            '<a target=\"_blank\" href=https://colab.research.google.com/notebooks/data_table.ipynb>data table notebook</a>'\n",
              "            + ' to learn more about interactive tables.';\n",
              "          element.innerHTML = '';\n",
              "          dataTable['output_type'] = 'display_data';\n",
              "          await google.colab.output.renderOutput(dataTable, element);\n",
              "          const docLink = document.createElement('div');\n",
              "          docLink.innerHTML = docLinkHtml;\n",
              "          element.appendChild(docLink);\n",
              "        }\n",
              "      </script>\n",
              "    </div>\n",
              "  </div>\n",
              "  "
            ]
          },
          "metadata": {},
          "execution_count": 36
        }
      ],
      "source": [
        "prostatedata.rename({' FATHMM_PREDICTION': 'IsCancer', 'words': 'words'}, axis=1, inplace=True)\n",
        "prostatedata.reset_index(drop=True,inplace=True)\n",
        "prostatedata.head()"
      ]
    },
    {
      "cell_type": "code",
      "execution_count": null,
      "id": "bf9c2ec3",
      "metadata": {
        "id": "bf9c2ec3"
      },
      "outputs": [],
      "source": [
        "texts = list(prostatedata['words'])\n",
        "for item in range(len(texts)):\n",
        "    texts[item] = ' '.join(texts[item])\n",
        "y_data = prostatedata.iloc[:, 1].values "
      ]
    },
    {
      "cell_type": "code",
      "execution_count": null,
      "id": "f8370e75",
      "metadata": {
        "id": "f8370e75",
        "colab": {
          "base_uri": "https://localhost:8080/"
        },
        "outputId": "7b6f6c27-c9a9-4b37-e51f-5dfffdaf2d20"
      },
      "outputs": [
        {
          "output_type": "stream",
          "name": "stdout",
          "text": [
            "atgaga tgagaa gagaac agaact gaactt aactta acttac cttacc ttaccg taccgc accgct ccgcta cgctac gctact ctactt tacttc acttct cttctt ttcttg tcttgc cttgct ttgctg tgctgc gctgct ctgctc tgctct gctctt ctcttt tctttt cttttg ttttgg tttggg ttgggt tgggtg gggtgg ggtggg gtgggc tgggcc gggcca ggccag gccagc ccagcc cagccc agccct gcccta ccctac cctacc ctaccc taccca acccaa cccaac ccaact caactc aactct actctc ctctct tctctc ctctca tctcaa ctcaac tcaact caactc aactcc actcca ctccac tccact ccacta cactat actatc ctatca tatcaa atcaaa tcaaag caaaga aaagag aagagg agagga gaggac aggact ggacta gactag actagt ctagtg tagtgg agtggt gtggtt tggttt ggtttc gtttcc tttccc ttccca tcccag cccagc ccagca cagcaa agcaaa gcaaag caaaga aaagaa aagaaa agaaaa gaaaag aaaagg aaaggg aagggc agggcc gggccc ggccct gccctg ccctgg cctgga ctggag tggagc ggagct gagctc agctct gctctc ctctct tctctg ctctgg tctgga ctggaa tggaaa ggaaac gaaaca aaacag aacagc acagca cagcaa agcaaa gcaaaa caaaaa aaaaat aaaatg aaatga aatgag atgagc tgagct gagctg agctga gctgaa ctgaac tgaacc gaaccg aaccgt accgtt ccgttc cgttca gttcaa ttcaaa tcaaaa caaaaa aaaaag aaaagg aaagga aaggag aggagc ggagct gagctg agctgg gctgga ctggat tggatg ggatgt gatgtg atgtgg tgtgga gtggaa tggaat ggaatc gaatca aatcag atcagt tcagtt cagttc agttct gttctt ttcttt tctttc ctttct tttctc ttctcc tctcct ctcctg tcctgg cctgga ctggag tggagg ggagga gaggaa aggaat ggaata gaatac aataca atacac tacaca acacag cacagg acagga caggat aggatc ggatcc gatccg atccga tccgat ccgatt cgatta gattat attatc ttatca tatcag atcagt tcagta cagtat agtatg gtatgt tatgtg atgtgg tgtggg gtgggc tgggca gggcaa ggcaag gcaagt caagtt aagtta agttac gttaca ttacat tacatt acattc cattca attcag ttcaga tcagac cagacc agacca gaccag accagg ccagga caggat aggata ggatag gataga atagag tagagg agagga gaggag aggaga ggagat gagatg agatgg gatgga atggat tggatc ggatca gatcac atcact tcactt cactta acttaa cttaaa ttaaat taaata aaatat aatata atatat tatatc atatcc tatcct atcctt tccttt cctttc ctttca tttcag ttcagg tcagga caggag aggaga ggagat gagatg agatgg gatgga atggag tggagc ggagca gagcag agcagg gcagga caggag aggaga ggagat gagatc agatct gatctc atctct tctctt ctcttc tcttca cttcat ttcatt tcatta cattat attatt ttatta tattaa attaat ttaatg taatga aatgaa atgaaa tgaaaa gaaaac aaaaca aaacac aacaca acacag cacagg acaggc caggcg aggcga ggcgac gcgaca cgacat gacata acatac cataca atacag tacagg acaggc caggcc aggcca ggccac gccacc ccacca caccaa accaag ccaaga caagag aagagg agaggc gaggct aggctg ggctgg gctgga ctggac tggaca ggacag gacagg acaggg caggga agggaa gggaag ggaaga gaagaa aagaaa agaaaa gaaaaa aaaaac aaaacc aaaccc aacccg acccgt cccgtt ccgttt cgttta gtttac tttaca ttacat tacatc acatcc catcct atcctt tccttc ccttcg cttcga ttcgag tcgagc cgagct gagctc agctca gctcaa ctcaag tcaagc caagct aagcta agctat gctata ctataa tataaa ataaac taaaca aaacag aacaga acagaa cagaag agaagg gaagga aaggac aggaca ggacag gacagg acaggg caggga agggag gggaga ggagac gagacc agaccc gacccg acccgt cccgtg ccgtgg cgtgga gtggag tggagc ggagcc gagccc agcccg gcccga cccgag ccgagt cgagtc gagtct agtctg gtctga tctgaa ctgaat tgaatt gaattc aattca attcat ttcatc tcatca catcat atcatc tcatca catcaa atcaag tcaaga caagat aagatc agatcc gatcca atccat tccatg ccatga catgac atgaca tgacat gacatc acatca catcaa atcaat tcaatg caatga aatgac atgaca tgacaa gacaat acaatg caatga aatgaa atgaac tgaacc gaacca aaccaa accaat ccaata caatat aatatt atattc tattca attcac ttcacc tcacca caccaa accaag ccaagg caagga aaggag aggagg ggaggt gaggtt aggttt ggttta gtttac tttaca ttacac tacaca acacag cacagc acagcc cagcca agccac gccact ccactg cactgt actgtc ctgtcc tgtccc gtccct tccctg ccctga cctgaa ctgaaa tgaaat gaaatg aaatgt aatgtc atgtct tgtctg gtctga tctgat ctgatg tgatgt gatgtc atgtcg tgtcgg gtcggt tcggta cggtac ggtaca gtacat tacatt acattt catttg atttgt tttgtt ttgttg tgttgt gttgtc ttgtcc tgtcca gtccaa tccaag ccaagt caagtc aagtca agtcac gtcact tcactg cactgc actgcg ctgcga tgcgac gcgacg cgacgg gacgga acggat cggatg ggatgc gatgca atgcag tgcaga gcagat cagatg agatga gatgat atgatc tgatcc gatcca atccaa tccaac ccaaca caacat aacata acatat catatg atatgg tatggg atggga tgggaa gggaac ggaaca gaacag aacagt acagtg cagtgc agtgct gtgcta tgctaa gctaaa ctaaag taaagt aaagtt aagttg agttgt gttgtc ttgtct tgtcta gtctac tctaca ctacag tacagt acagta cagtat agtatt gtattc tattct attcta ttctac tctaca ctacag tacagg acaggg caggga agggac gggaca ggacag gacagc acagcc cagccc agccct gcccta ccctat cctatt ctattt tatttt attttt tttttc ttttca tttcag ttcagt tcagtt cagttg agttga gttgaa ttgaat tgaatc gaatca aatcag atcaga tcagaa cagaaa agaaac gaaaca aaacag aacagg acaggt caggta aggtat ggtatt gtatta tattat attatc ttatca tatcaa atcaag tcaaga caagac aagaca agacag gacagc acagct cagctt agcttt gctttg ctttgc tttgct ttgctc tgctca gctcaa ctcaac tcaaca caacat aacatg acatgg catgga atggat tggatc ggatcg gatcga atcgag tcgaga cgagaa gagaaa agaaaa gaaaac aaaaca aaacag aacagg acaggg caggga agggag gggagc ggagca gagcag agcagt gcagta cagtac agtacc gtacca taccaa accaag ccaagt caagtg aagtgg agtggt gtggtg tggtga ggtgat gtgatt tgattc gattca attcaa ttcaag tcaagc caagcc aagcca agccaa gccaag ccaagg caagga aaggat aggata ggatat gatatg atatgg tatggg atgggc tgggcg gggcgg ggcggc gcggcc cggcca ggccag gccaga ccagat cagatg agatgg gatggg atggga tgggag gggagg ggagga gaggat aggatt ggatta gattat attatc ttatct tatctg atctgg tctggg ctggga tgggac gggacc ggacca gaccac accacc ccacca caccac accacc ccaccg caccgt accgtg ccgtga cgtgaa gtgaac tgaaca gaacat aacatc acatca catcac atcaca tcacac cacact acactg cactga actgac ctgact tgactg gactga actgat ctgatg tgatgt gatgtc atgtca tgtcaa gtcaac tcaacg caacga aacgac acgaca cgacaa gacaac acaacc caaccc aaccct accctc ccctcc cctccc ctcccc tccccg ccccga cccgat ccgatt cgattc gattcc attccc ttcccc tccccc ccccca ccccag cccaga ccagag cagagt agagta gagtac agtaca gtacat tacata acatac catacc atacca taccag accagt ccagtt cagttt agttta gtttaa tttaaa ttaaaa taaaac aaaact aaactc aactcc actcct ctcctg tcctga cctgaa ctgaat tgaatc gaatct aatctt atcttc tcttct cttctc ttctcc tctcca ctccac tccacc ccaccg caccgg accggg ccgggg cgggga ggggac gggaca ggacac gacacc acacca caccaa accaat ccaatt caattg aattgg attggc ttggca tggcag ggcaga gcagaa cagaat agaatc gaatca aatcaa atcaaa tcaaag caaagc aaagcc aagcca agccag gccagc ccagcg cagcga agcgac gcgacg cgacgc gacgct acgctg cgctga gctgat ctgatg tgatgt gatgtg atgtgg tgtggg gtggga tgggag gggaga ggagaa gagaaa agaaaa gaaaat aaaatg aaatgc aatgct atgctg tgctga gctgaa ctgaaa tgaaat gaaatt aaattg aattga attgag ttgagt tgagta gagtac agtaca gtacag tacagc acagca cagcat agcatc gcatca catcac atcaca tcacag cacaga acagac cagacg agacgg gacggt acggtg cggtga ggtgag gtgagg tgaggg gagggg aggggc ggggct gggctg ggctgg gctgga ctggat tggata ggatat gatatg atatgt tatgtt atgttt tgtttg gtttga tttgat ttgatg tgatgt gatgtc atgtca tgtcat gtcatc tcatca catcac atcacc tcaccg caccga accgac ccgacc cgacca gaccag accagg ccagga caggaa aggaaa ggaaac gaaacc aaaccc aaccca acccag cccagg ccagga caggaa aggaag ggaagg gaaggg aaggga agggat gggatt ggatta gattat attata ttataa tataac ataact taactg aactgt actgtc ctgtca tgtcaa gtcaaa tcaaaa caaaaa aaaaag aaaagc aaagct aagctc agctct gctctt ctcttg tcttgg cttgga ttggac tggact ggactt gacttt actttg ctttga tttgaa ttgaaa tgaaaa gaaaag aaaaga aaagaa aagaag agaaga gaagaa aagaaa agaaag gaaagt aaagtg aagtgt agtgta gtgtat tgtata gtatac tatacc ataccc taccct accctt ccctta ccttaa cttaaa ttaaag taaagt aaagtg aagtgg agtgga gtggaa tggaag ggaagc gaagcc aagcct agcctc gcctcc cctcca ctccaa tccaat ccaatc caatcc aatcct atcctt tcctta ccttat cttatg ttatgt tatgtt atgttg tgttga gttgag ttgagc tgagcc gagcca agccac gccacg ccacga cacgat acgatt cgattt gatttc atttct tttctc ttctct tctcta ctctac tctact ctactt tacttg acttgg cttggg ttgggg tggggc ggggcc gggcct ggcctt gccttt cctttc ctttca tttcaa ttcaaa tcaaag caaaga aaagat aagatt agattc gattca attcag ttcagc tcagcc cagcca agccac gccacg ccacgg cacggt acggtt cggtta ggttag gttaga ttagaa tagaat agaatt gaattg aattgt attgtg ttgtgg tgtggt gtggtg tggtgg ggtgga gtggag tggagg ggagga gaggat aggatg ggatgt gatgta atgtag tgtaga gtagat tagatg agatga gatgag atgagc tgagcc gagcca agccac gccacc ccacct cacctg acctgt cctgtc ctgtct tgtctt gtcttc tcttca cttcag ttcagc tcagca cagcaa agcaaa gcaaac caaact aaactg aactgg actggc ctggcc tggcct ggccta gcctac cctaca ctacat tacatc acatct catctt atctta tcttac cttaca ttacaa tacaaa acaaat caaata aaataa aataag ataaga taagag aagaga agagaa gagaag agaaga gaagat aagatg agatgc gatgct atgctc tgctca gctcag ctcaga tcagat cagata agataa gataaa ataaac taaaca aaacac aacacc acacca caccac accaca ccacaa cacaat acaata caatag aatagg ataggc taggct aggctc ggctcc gctccg ctccgt tccgtc ccgtca cgtcac gtcaca tcacag cacagc acagcc cagccc agccca gcccaa cccaag ccaaga caagat aagatc agatcc gatcca atccag tccaga ccagat cagatg agatgc gatgct atgctg tgctgc gctgcc ctgcca tgccag gccagg ccagga caggaa aggaat ggaatc gaatcc aatcct atcctg tcctgt cctgtc ctgtca tgtcaa gtcaag tcaagt caagta aagtac agtact gtactc tactct actctg ctctgt tctgta ctgtag tgtaga gtagat tagatc agatcg gatcga atcgac tcgaca cgacac gacaca acacac cacaca acacag cacaga acagat cagata agatat gatatg atatgg tatgga atggac tggaca ggacag gacaga acagaa cagaat agaata gaatat aatatt atattc tattca attcaa ttcaac tcaaca caacat aacatt acattg cattga attgat ttgatt tgattc gattct attctg ttctgg tctgga ctggaa tggaaa ggaaat gaaatg aaatgg aatggt atggtt tggttc ggttcg gttcga ttcgat tcgatt cgattt gatttt attttt ttttta ttttac tttaca ttacat tacatc acatcg catcga atcgaa tcgaaa cgaaac gaaact aaactt aacttc acttct cttctt ttcttg tcttga cttgac ttgacc tgaccg gaccga accgag ccgaga cgagaa gagaaa agaaac gaaaca aaacac aacact acactg cactgc actgct ctgcta tgctat gctatg ctatgg tatggc atggca tggcac ggcaca gcacaa cacaac acaaca caacat aacatt acatta cattac attaca ttacag tacagt acagtg cagtga agtgat gtgata tgatag gatagc atagca tagcaa agcaac gcaaca caacag aacaga acagag cagaga agagat gagatc agatca gatcaa atcaat tcaata caataa aataat ataatc taatcc aatcca atccaa tccaaa ccaaag caaagc aaagca aagcaa agcaaa gcaaag caaagt aaagta aagtag agtagt gtagtc tagtcg agtcga gtcgag tcgagt cgagta gagtac agtacc gtacct tacctc acctct cctcta ctctat tctata ctatat tatata atatat tatatt atatta tattaa attaaa ttaaag taaagt aaagtt aagttc agttct gttcta ttctag tctaga ctagat tagatg agatgt gatgtc atgtca tgtcaa gtcaat tcaatg caatga aatgac atgaca tgacaa gacaac acaacg caacgc aacgcc acgccc cgcccc gcccca ccccag cccaga ccagaa cagaat agaatt gaattt aatttg atttgc tttgct ttgctg tgctga gctgag ctgagt tgagtt gagttc agttct gttcta ttctat tctatg ctatga tatgaa atgaaa tgaaac gaaact aaactt aacttt actttt cttttg ttttgt tttgtc ttgtct tgtctg gtctgt tctgtg ctgtga tgtgaa gtgaaa tgaaaa gaaaaa aaaaag aaaagc aaagca aagcaa agcaaa gcaaag caaagg aaaggc aaggca aggcag ggcaga gcagat cagatc agatca gatcag atcagt tcagtt cagttg agttga gttgat ttgatt tgattc gattca attcag ttcaga tcagac cagacc agaccc gaccct accctg ccctgc cctgca ctgcat tgcatg gcatgc catgct atgctg tgctgt gctgtt ctgttg tgttga gttgac ttgaca tgacaa gacaag acaagg caagga aaggat aggatg ggatga gatgac atgacc tgaccc gaccct accctt ccctta ccttat cttata ttatag tatagt atagtg tagtgg agtgga gtggac tggaca ggacac gacacc acacca caccaa accaat ccaatt caattt aatttt attttc ttttcg tttcgt ttcgtt tcgttt cgtttt gttttc ttttcc tttcct ttcctt tccttg ccttgg cttggc ttggcc tggccc ggcccc gcccct cccctg ccctga cctgaa ctgaag tgaagc gaagca aagcag agcagc gcagcc cagcca agccag gccagt ccagtg cagtgg agtggc gtggct tggctc ggctca gctcaa ctcaaa tcaaac caaact aaactt aacttt acttta ctttac tttacc ttacca taccat accatt ccattc cattca attcaa ttcaag tcaaga caagac aagaca agacaa gacaac acaaca caacaa aacaaa acaaag caaaga aaagac aagaca agacaa gacaac acaaca caacac aacacg acacgg cacggc acggcg cggcgg ggcggg gcggga cgggaa gggaat ggaatc gaatct aatctt atctta tcttaa cttaac ttaact taactc aactcg actcgg ctcgga tcggaa cggaaa ggaaaa gaaaaa aaaaat aaaatg aaatgg aatggc atggct tggcta ggctat gctata ctataa tataat ataata taatag aataga atagac tagaca agacac gacacg acacga cacgag acgaga cgagat gagatg agatga gatgag atgagc tgagca gagcac agcacc gcacct caccta acctat cctatc ctatct tatctc atctct tctctt ctcttg tcttgc cttgcc ttgcct tgcctg gcctgt cctgtg ctgtgg tgtggt gtggtc tggtca ggtcat gtcatt tcattt catttc atttca tttcag ttcaga tcagac cagaca agacaa gacaac acaacg caacga aacgac acgact cgacta gactac actacc ctaccc taccca acccag cccagt ccagtt cagttc agttca gttcaa ttcaaa tcaaag caaagc aaagca aagcag agcagc gcagca cagcac agcact gcactg cactgg actggg ctggga tgggac gggaca ggacag gacagt acagtg cagtga agtgac gtgact tgactg gactgt actgtc ctgtcc tgtccg gtccgg tccggg ccgggt cgggtc gggtct ggtctg gtctgt tctgtg ctgtgc tgtgca gtgcat tgcatg gcatgt catgtg atgtga tgtgac gtgacc tgacca gaccac accacc ccacca caccac accacg ccacgg cacggg acggga cgggaa gggaac ggaaca gaacat aacatg acatgc catgca atgcaa tgcaat gcaatc caatcc aatcct atcctg tcctgc cctgcc ctgcca tgccat gccatg ccatgc catgcg atgcgg tgcgga gcggag cggagg ggaggc gaggcg aggcgc ggcgct gcgctc cgctca gctcat ctcatc tcatcc catcca atccac tccacc ccaccc cacccc acccca ccccac cccacg ccacgg cacggg acggga cgggac gggact ggactg gactga actgag ctgagc tgagca gagcac agcacg gcacgg cacggg acgggg cggggg gggggc ggggct gggctc ggctct gctctg ctctgg tctggt ctggtt tggttg ggttgc gttgcc ttgcca tgccat gccatc ccatcc catcct atcctt tccttc ccttct cttctg ttctgt tctgtg ctgtgc tgtgca gtgcat tgcatc gcatcg catcgt atcgtg tcgtga cgtgat gtgatc tgatcc gatcct atccta tcctac cctact ctacta tactag actagt ctagtg tagtga agtgac gtgaca tgacag gacagt acagtg cagtgg agtggt gtggtg tggtgc ggtgct gtgctg tgctgt gctgtt ctgttt tgtttg gtttgc tttgca ttgcag tgcagc gcagct cagctc agctct gctctg ctctga tctgag ctgagg tgaggc gaggcg aggcgg ggcggc gcggca cggcag ggcagc gcagcg cagcga agcgaa gcgaaa cgaaaa gaaaaa aaaaaa aaaaaa aaaaag aaaaga aaagag aagagc agagcc gagcct agcctt gccttt cctttg ctttga tttgat ttgatc tgatca gatcat atcatt tcattt catttc atttcc tttcca ttccaa tccaaa ccaaag caaaga aaagag aagagg agagga gaggac aggaca ggacat gacatc acatca catcag atcaga tcagag cagaga agagat gagata agataa gataac ataaca taacat aacatt acattg cattgt attgtc ttgtca tgtcag gtcagt tcagtt cagtta agttac gttaca ttacaa tacaac acaacg caacga aacgac acgacg cgacga gacgaa acgaag cgaagg gaaggt aaggtg aggtgg ggtggt gtggtg tggtgg ggtgga gtggag tggaga ggagag gagagg agagga gaggag aggagg ggagga gaggac aggaca ggacac gacacc acaccc caccca acccag cccagg ccaggc caggct aggctt ggcttt gctttt cttttg ttttga tttgat ttgata tgatat gatatc atatcg tatcgg atcggc tcggca cggcac ggcacc gcaccc caccct accctg ccctga cctgag ctgagg tgagga gaggaa aggaat ggaatc gaatcc aatcct atcctg tcctga cctgaa ctgaag tgaagc gaagcc aagcca agccat gccata ccatag cataga atagag tagagg agagga gaggac aggaca ggacaa gacaac acaaca caacaa aacaaa acaaat caaatt aaatta aattac attacg ttacga tacgaa acgaag cgaagg gaaggg aaggga agggac gggaca ggacat gacatt acattg cattgt attgtg ttgtgc tgtgcc gtgccc tgcccg gcccga cccgaa ccgaag cgaagc gaagcc aagccc agccct gccctt cccttt cctttt cttttc ttttcc tttcct ttccta tcctac cctacc ctaccc tacccc accccg ccccga cccgac ccgacg cgacgg gacgga acggac cggact ggactc gactcc actcca ctccaa tccaac ccaaca caacag aacagc acagct cagctc agctcg gctcgc ctcgcg tcgcga cgcgac gcgaca cgacaa gacaac acaaca caacac aacacc acaccg caccga accgat ccgatg cgatgt gatgtc atgtca tgtcag gtcaga tcagag cagaga agagat gagatt agattt gatttc atttca tttcat ttcatt tcatta cattaa attaac ttaacc taacca aaccaa accaaa ccaaag caaagg aaaggt aaggtt aggtta ggttaa gttaaa ttaaag taaagg aaagga aaggaa aggaaa ggaaaa gaaaat aaaatg aaatga aatgac atgaca tgacac gacacg acacgg cacgga acggac cggacc ggaccc gacccc acccca ccccac cccact ccactg cactgc actgcc ctgccc tgcccc gccccg ccccgc cccgcc ccgcca cgccat gccata ccatac catacg atacga tacgac acgact cgactc gactcc actcct ctcctt tccttg ccttgg cttggc ttggcc tggcca ggccac gccact ccactt cactta acttac cttacg ttacgc tacgcc acgcct cgccta gcctat cctatg ctatga tatgaa atgaag tgaagg gaaggc aaggca aggcac ggcact gcactg cactgg actggc ctggct tggctc ggctcc gctccg ctccgt tccgtg ccgtgg cgtggc gtggcg tggcgg ggcgga gcggat cggatt ggattc gattcc attccc ttccct tccctg ccctga cctgag ctgagc tgagct gagctc agctcg gctcgc ctcgct tcgctg cgctgg gctgga ctggag tggagt ggagtc gagtca agtcag gtcagt tcagtg cagtga agtgac gtgacc tgacca gaccac accacg ccacgg cacgga acggat cggatg ggatgc gatgca atgcag tgcaga gcagat cagatc agatca gatcaa atcaag tcaaga caagac aagact agacta gactat actatg ctatga tatgat atgatt tgatta gattac attacc ttacct tacctt acctta ccttag cttagt ttagtg tagtga agtgac gtgact tgactg gactgg actggg ctgggg tgggga ggggac gggacc ggacct gacctc acctcg cctcga ctcgat tcgatt cgattc gattca attcaa ttcaaa tcaaaa caaaaa aaaaag aaaagc aaagct aagctt agcttg gcttgc cttgca ttgcag tgcaga gcagat cagata agatat gatatg atatgt tatgta atgtat tgtatg gtatgg tatgga atggag tggagg ggagga gaggag aggagt ggagtg gagtgg agtgga gtggac tggaca ggacag gacagt acagtg cagtga agtgac gtgaca tgacaa gacaaa acaaag caaaga aaagac aagact agactc gactcc actcct ctccta tcctaa\n",
            "[1 0 1 ... 1 0 0]\n"
          ]
        }
      ],
      "source": [
        "print(texts[2])\n",
        "print(y_data)"
      ]
    },
    {
      "cell_type": "code",
      "execution_count": null,
      "id": "57daf6bd",
      "metadata": {
        "id": "57daf6bd"
      },
      "outputs": [],
      "source": [
        "from sklearn.feature_extraction.text import CountVectorizer\n",
        "cv = CountVectorizer(ngram_range=(4,4))\n",
        "X = cv.fit_transform(texts)"
      ]
    },
    {
      "cell_type": "code",
      "execution_count": null,
      "id": "830b7c46",
      "metadata": {
        "id": "830b7c46"
      },
      "outputs": [],
      "source": [
        "#y=Validation/test labels;z = prediction scores\n",
        "def plotROC(y,z,pstr=''):\n",
        "    #fpr=false positive rate;tpr = true positive rate;tt = threshold \n",
        "    fpr,tpr,tt=roc_curve(y,z)\n",
        "    #Find area under the curve for ROC\n",
        "    roc_auc = auc(fpr,tpr)\n",
        "    plt.figure()\n",
        "    plt.plot(tt,fpr,'o--',tt,tpr,'x--');plt.xlabel('threshold');plt.ylabel('Percentage');plt.legend(['FPR','TPR']);plt.grid();plt.title(pstr)\n",
        "    plt.figure()\n",
        "    plt.plot(fpr,tpr,'o--');plt.xlabel('FPR');plt.ylabel('TPR');plt.grid();plt.title('ROC '+pstr+' AUC: '+str(roc_auc))\n",
        "    return roc_auc\n",
        "\n",
        "#y=Validation/test labels;z = prediction scores\n",
        "def plotPRC(y,z,pstr=''):\n",
        "    P, R, tt = precision_recall_curve(y,z)\n",
        "    pr_auc = average_precision_score(y,z)\n",
        "    plt.figure()\n",
        "    plt.plot(tt,R[:-1],'o--',tt,P[:-1],'x--');plt.xlabel('threshold');plt.ylabel('Percentage');plt.legend(['Recall','Precision']);plt.grid();plt.title(pstr)\n",
        "    plt.figure()\n",
        "    plt.plot(R,P,'o--');plt.xlabel('Recall');plt.ylabel('Precision');plt.grid();plt.title('PRC '+pstr+' AUC: '+str(pr_auc))\n",
        "    return pr_auc"
      ]
    },
    {
      "cell_type": "code",
      "execution_count": null,
      "id": "e158fe75",
      "metadata": {
        "id": "e158fe75"
      },
      "outputs": [],
      "source": [
        "# Splitting the dataset into the training set and test set\n",
        "from sklearn.model_selection import StratifiedKFold\n",
        "from sklearn.naive_bayes import MultinomialNB\n",
        "nbclassifier = MultinomialNB(alpha=0.1)\n",
        "# nbclassifier.fit(X_train, y_train)\n",
        "#Initialising the startified k-fold CV with 5 folds\n",
        "skf = StratifiedKFold(n_splits=5)\n",
        "#Lists to hold, Accuracy, AUC-ROC, AUC-PR for all the 5 folds\n",
        "accuracy_stratified = []\n",
        "roc_auc_stratified = []\n",
        "pr_auc_stratified = []\n",
        "from sklearn.model_selection import train_test_split\n",
        "X_train, X_test, y_train, y_test = train_test_split(texts, \n",
        "                                                    y_data, \n",
        "                                                    test_size = 0.20, \n",
        "                                                    random_state=42)"
      ]
    },
    {
      "cell_type": "code",
      "execution_count": null,
      "id": "1388f857",
      "metadata": {
        "id": "1388f857",
        "colab": {
          "base_uri": "https://localhost:8080/",
          "height": 1000
        },
        "outputId": "e003c9c2-6257-43f9-cf17-c81da8caae07"
      },
      "outputs": [
        {
          "output_type": "stream",
          "name": "stdout",
          "text": [
            "Fold  0 Accuracy: 0.7555052106932487\n",
            "Fold  0 AUC ROC: 0.8281038176787763\n",
            "Fold  0 AUC PR: 0.7414115439006019\n",
            "Fold  1 Accuracy: 0.7422745808790213\n",
            "Fold  1 AUC ROC: 0.81765919569462\n",
            "Fold  1 AUC PR: 0.720944735699113\n",
            "Fold  2 Accuracy: 0.7650203896692342\n",
            "Fold  2 AUC ROC: 0.8367455912023323\n",
            "Fold  2 AUC PR: 0.7565939798984642\n",
            "Fold  3 Accuracy: 0.7228566249773427\n",
            "Fold  3 AUC ROC: 0.7866976454767238\n",
            "Fold  3 AUC PR: 0.6817014325809735\n",
            "Fold  4 Accuracy: 0.7313757476889614\n",
            "Fold  4 AUC ROC: 0.7944524731878719\n",
            "Fold  4 AUC PR: 0.6931546321439988\n"
          ]
        },
        {
          "output_type": "display_data",
          "data": {
            "text/plain": [
              "<Figure size 432x288 with 1 Axes>"
            ],
            "image/png": "[encoded data removed]"
          },
          "metadata": {
            "needs_background": "light"
          }
        },
        {
          "output_type": "display_data",
          "data": {
            "text/plain": [
              "<Figure size 432x288 with 1 Axes>"
            ],
            "image/png": "[encoded data removed]"
          },
          "metadata": {
            "needs_background": "light"
          }
        },
        {
          "output_type": "display_data",
          "data": {
            "text/plain": [
              "<Figure size 432x288 with 1 Axes>"
            ],
            "image/png": "[encoded data removed]"
          },
          "metadata": {
            "needs_background": "light"
          }
        },
        {
          "output_type": "display_data",
          "data": {
            "text/plain": [
              "<Figure size 432x288 with 1 Axes>"
            ],
            "image/png": "[encoded data removed]"
          },
          "metadata": {
            "needs_background": "light"
          }
        },
        {
          "output_type": "display_data",
          "data": {
            "text/plain": [
              "<Figure size 432x288 with 1 Axes>"
            ],
            "image/png": "[encoded data removed]"
          },
          "metadata": {
            "needs_background": "light"
          }
        },
        {
          "output_type": "display_data",
          "data": {
            "text/plain": [
              "<Figure size 432x288 with 1 Axes>"
            ],
            "image/png": "[encoded data removed]"
          },
          "metadata": {
            "needs_background": "light"
          }
        },
        {
          "output_type": "display_data",
          "data": {
            "text/plain": [
              "<Figure size 432x288 with 1 Axes>"
            ],
            "image/png": "[encoded data removed]"
          },
          "metadata": {
            "needs_background": "light"
          }
        },
        {
          "output_type": "display_data",
          "data": {
            "text/plain": [
              "<Figure size 432x288 with 1 Axes>"
            ],
            "image/png": "[encoded data removed]"
          },
          "metadata": {
            "needs_background": "light"
          }
        },
        {
          "output_type": "display_data",
          "data": {
            "text/plain": [
              "<Figure size 432x288 with 1 Axes>"
            ],
            "image/png": "[encoded data removed]"
          },
          "metadata": {
            "needs_background": "light"
          }
        },
        {
          "output_type": "display_data",
          "data": {
            "text/plain": [
              "<Figure size 432x288 with 1 Axes>"
            ],
            "image/png": "[encoded data removed]"
          },
          "metadata": {
            "needs_background": "light"
          }
        },
        {
          "output_type": "display_data",
          "data": {
            "text/plain": [
              "<Figure size 432x288 with 1 Axes>"
            ],
            "image/png": "[encoded data removed]"
          },
          "metadata": {
            "needs_background": "light"
          }
        },
        {
          "output_type": "display_data",
          "data": {
            "text/plain": [
              "<Figure size 432x288 with 1 Axes>"
            ],
            "image/png": "[encoded data removed]"
          },
          "metadata": {
            "needs_background": "light"
          }
        },
        {
          "output_type": "display_data",
          "data": {
            "text/plain": [
              "<Figure size 432x288 with 1 Axes>"
            ],
            "image/png": "[encoded data removed]"
          },
          "metadata": {
            "needs_background": "light"
          }
        },
        {
          "output_type": "display_data",
          "data": {
            "text/plain": [
              "<Figure size 432x288 with 1 Axes>"
            ],
            "image/png": "[encoded data removed]"
          },
          "metadata": {
            "needs_background": "light"
          }
        },
        {
          "output_type": "display_data",
          "data": {
            "text/plain": [
              "<Figure size 432x288 with 1 Axes>"
            ],
            "image/png": "[encoded data removed]"
          },
          "metadata": {
            "needs_background": "light"
          }
        },
        {
          "output_type": "display_data",
          "data": {
            "text/plain": [
              "<Figure size 432x288 with 1 Axes>"
            ],
            "image/png": "[encoded data removed]"
          },
          "metadata": {
            "needs_background": "light"
          }
        },
        {
          "output_type": "display_data",
          "data": {
            "text/plain": [
              "<Figure size 432x288 with 1 Axes>"
            ],
            "image/png": "[encoded data removed]"
          },
          "metadata": {
            "needs_background": "light"
          }
        },
        {
          "output_type": "display_data",
          "data": {
            "text/plain": [
              "<Figure size 432x288 with 1 Axes>"
            ],
            "image/png": "[encoded data removed]"
          },
          "metadata": {
            "needs_background": "light"
          }
        },
        {
          "output_type": "display_data",
          "data": {
            "text/plain": [
              "<Figure size 432x288 with 1 Axes>"
            ],
            "image/png": "[encoded data removed]"
          },
          "metadata": {
            "needs_background": "light"
          }
        },
        {
          "output_type": "display_data",
          "data": {
            "text/plain": [
              "<Figure size 432x288 with 1 Axes>"
            ],
            "image/png": "[encoded data removed]"
          },
          "metadata": {
            "needs_background": "light"
          }
        }
      ],
      "source": [
        "# X : Training data and y : Is the training labels\n",
        "# Function to return the Accuracy, AUC-ROC, AUC-PR values in the form of list for all folds\n",
        "def modeloutputmetrics(X,y):\n",
        "    for i, (tr_idx, v_idx) in enumerate(skf.split(X, y)):\n",
        "        Xtr, Xv = X[tr_idx], X[v_idx]\n",
        "        ytr, yv = y[tr_idx], y[v_idx]\n",
        "        #Fit the model\n",
        "        nbclassifier.fit(Xtr, ytr)\n",
        "        #Finding the score\n",
        "        score_nb = nbclassifier.score(Xv,yv)\n",
        "        accuracy_stratified.append(score_nb)\n",
        "        print('Fold ',i,'Accuracy:',score_nb)\n",
        "        #Predicting the scores on the validation set\n",
        "        z = nbclassifier.predict_proba(Xv)[:,1]\n",
        "        #Plotting AUC-ROC curve\n",
        "        roc_auc = plotROC(yv,z,pstr='Validation fold: ' + str(i))\n",
        "        roc_auc_stratified.append(roc_auc)\n",
        "        print('Fold ',i,'AUC ROC:',roc_auc)\n",
        "        #Plotting AUC-PR curves\n",
        "        pr_auc = plotPRC(yv,z,pstr='Validation fold: ' + str(i))\n",
        "        pr_auc_stratified.append(pr_auc)\n",
        "        print('Fold ',i,'AUC PR:',pr_auc)\n",
        "    return accuracy_stratified,roc_auc_stratified,pr_auc_stratified\n",
        "\n",
        "# Calculating the Accuracy, AUC-ROC, AUC-PR values\n",
        "acc,roc,pr = modeloutputmetrics(X,y_data)"
      ]
    },
    {
      "cell_type": "code",
      "execution_count": null,
      "id": "beca29b7",
      "metadata": {
        "id": "beca29b7",
        "colab": {
          "base_uri": "https://localhost:8080/"
        },
        "outputId": "7958ab19-8310-4033-b1be-e333ad1c8692"
      },
      "outputs": [
        {
          "output_type": "stream",
          "name": "stdout",
          "text": [
            "The mean of accuracies across all folds is: 0.7434065107815616\n",
            "The standard deviation of accuracies across all folds is: 0.015374372394247592\n",
            "The mean of AUC-ROC across all folds is: 0.8127317446480647\n",
            "The standard deviation of AUC-ROC across all folds is: 0.019230971448100414\n",
            "The mean of AUC-PR across all folds is: 0.7187612648446302\n",
            "The standard deviation of AUC-PR across all folds is: 0.028207260839385965\n"
          ]
        }
      ],
      "source": [
        "import numpy as np\n",
        "# Calculating the mean and standard deviation for all the performance metrics across folds\n",
        "print('The mean of accuracies across all folds is: ' + str(np.mean(acc)))\n",
        "print('The standard deviation of accuracies across all folds is: ' + str(np.std(acc)))\n",
        "print('The mean of AUC-ROC across all folds is: ' + str(np.mean(roc)))\n",
        "print('The standard deviation of AUC-ROC across all folds is: ' + str(np.std(roc)))\n",
        "print('The mean of AUC-PR across all folds is: ' + str(np.mean(pr)))\n",
        "print('The standard deviation of AUC-PR across all folds is: ' + str(np.std(pr)))"
      ]
    },
    {
      "cell_type": "code",
      "execution_count": null,
      "id": "c24248a2",
      "metadata": {
        "id": "c24248a2"
      },
      "outputs": [],
      "source": [
        "#y_pred = nbclassifier.predict(X_test)"
      ]
    },
    {
      "cell_type": "code",
      "execution_count": null,
      "id": "6796aab7",
      "metadata": {
        "id": "6796aab7",
        "colab": {
          "base_uri": "https://localhost:8080/"
        },
        "outputId": "931a9dfb-11b5-499b-c49f-e7097f8de508"
      },
      "outputs": [
        {
          "output_type": "stream",
          "name": "stdout",
          "text": [
            "Confusion matrix\n",
            "\n"
          ]
        }
      ],
      "source": [
        "from sklearn.metrics import accuracy_score, f1_score, precision_score, recall_score\n",
        "print(\"Confusion matrix\\n\")\n",
        "# print(pd.crosstab(pd.Series(y_test, name='Actual'), pd.Series(y_pred, name='Predicted')))\n",
        "# def get_metrics(y_test, y_predicted):\n",
        "#     accuracy = accuracy_score(y_test, y_predicted)\n",
        "#     precision = precision_score(y_test, y_predicted, average='weighted')\n",
        "#     recall = recall_score(y_test, y_predicted, average='weighted')\n",
        "#     f1 = f1_score(y_test, y_predicted, average='weighted')\n",
        "#     return accuracy, precision, recall, f1\n",
        "# accuracy, precision, recall, f1 = get_metrics(y_test, y_pred)\n",
        "# print(\"accuracy = %.3f \\nprecision = %.3f \\nrecall = %.3f \\nf1 = %.3f\" % (accuracy, precision, recall, f1))"
      ]
    },
    {
      "cell_type": "code",
      "execution_count": null,
      "id": "b22858ac",
      "metadata": {
        "id": "b22858ac"
      },
      "outputs": [],
      "source": [
        "def ROC(y,z,pstr=''):\n",
        "    fpr,tpr,tt=roc_curve(y,z)\n",
        "    roc_auc = auc(fpr,tpr)\n",
        "    return roc_auc\n",
        "\n",
        "def PRC(y,z,pstr=''):\n",
        "    P, R, tt = precision_recall_curve(y,z)\n",
        "    pr_auc = average_precision_score(y,z)\n",
        "    return pr_auc"
      ]
    },
    {
      "cell_type": "code",
      "execution_count": null,
      "id": "951c724c",
      "metadata": {
        "id": "951c724c"
      },
      "outputs": [],
      "source": [
        "from sklearn.svm import SVC\n",
        "from sklearn.linear_model import LogisticRegression,Perceptron\n",
        "pr = Perceptron(max_iter=100, tol=0.001)\n",
        "svc_linear = SVC(C = 2, kernel='linear')\n",
        "svc_kernel = SVC(C = 2, kernel='rbf', gamma='scale')\n",
        "lr=LogisticRegression(C = 0.0018329807108324356,max_iter = 1000,penalty = 'l2')\n",
        "acc_pr, acc_lr, acc_linsvc, acc_kersvc = [],[],[],[]\n",
        "roc_pr, roc_lr, roc_linsvc, roc_kersvc = [],[],[],[]\n",
        "pr_perc, pr_lr, pr_linsvc, pr_kersvc = [],[],[],[]"
      ]
    },
    {
      "cell_type": "code",
      "execution_count": null,
      "id": "cd4149d0",
      "metadata": {
        "id": "cd4149d0",
        "colab": {
          "base_uri": "https://localhost:8080/"
        },
        "outputId": "03c9fd3b-0776-4fe4-b329-378b27e82a17"
      },
      "outputs": [
        {
          "output_type": "stream",
          "name": "stdout",
          "text": [
            "Perceptron:\n",
            "Mean accuracy for Perceptron:  0.8561795969602215\n",
            "Standard deviation of accuracy for Perceptron:  0.0030088979707706826\n",
            "Mean AUC-ROC for Perceptron:  0.8984544828049208\n",
            "Standard deviation of AUC-ROC for Perceptron:  0.004202071951651967\n",
            "Mean AUC-PR for Perceptron:  0.856514930441534\n",
            "Standard deviation of AUC-PR for Perceptron:  0.0030589889902563855\n",
            "*****************************************************************************************\n",
            "Logistic Regression:\n",
            "Mean accuracy for Logistic Regression:  0.8405559124045388\n",
            "Standard deviation of accuracy for Logistic Regression:  0.004463919123685327\n",
            "Mean AUC-ROC for Logistic Regression:  0.9190001289530463\n",
            "Standard deviation of AUC-ROC for Logistic Regression:  0.0037815614685902305\n",
            "Mean AUC-PR for Logistic Regression:  0.8819505567615284\n",
            "Standard deviation of AUC-PR for Logistic Regression:  0.004256091281303124\n",
            "*****************************************************************************************\n"
          ]
        }
      ],
      "source": [
        "for i, (train_index, test_index) in enumerate(skf.split(X, y_data)):\n",
        "    Xtr_bst, Xv_bst, ytr_bst, yv_bst = X[train_index], X[test_index], y_data[train_index], y_data[test_index]\n",
        "    #############################################################################################\n",
        "    # Perceptron\n",
        "    pr.fit(Xtr_bst, ytr_bst)\n",
        "    acc_pr.append(pr.score(Xv_bst, yv_bst))\n",
        "    z_pr = pr.decision_function(Xv_bst)\n",
        "    roc_pr.append(ROC(yv_bst,z_pr,pstr='Validation fold: ' + str(i)))\n",
        "    pr_perc.append(PRC(yv_bst,z_pr,pstr='Validation fold: ' + str(i)))\n",
        "    #############################################################################################\n",
        "    # Logistic Regression\n",
        "    lr.fit(Xtr_bst, ytr_bst)\n",
        "    acc_lr.append(lr.score(Xv_bst, yv_bst))\n",
        "    z_lr = lr.decision_function(Xv_bst)\n",
        "    roc_lr.append(ROC(yv_bst,z_lr,pstr='Validation fold: ' + str(i)))\n",
        "    pr_lr.append(PRC(yv_bst,z_lr,pstr='Validation fold: ' + str(i)))\n",
        "    #############################################################################################\n",
        "#     # Linear SVM\n",
        "#     svc_linear.fit(Xtr_bst, ytr_bst)\n",
        "#     acc_linsvc.append(svc_linear.score(Xv_bst, yv_bst))\n",
        "#     z_lin = svc_linear.decision_function(Xv_bst)\n",
        "#     roc_linsvc.append(ROC(yv_bst,z_lin,pstr='Validation fold: ' + str(i)))\n",
        "#     pr_linsvc.append(PRC(yv_bst,z_lin,pstr='Validation fold: ' + str(i)))\n",
        "#     #############################################################################################\n",
        "#     # Kernel SVM\n",
        "#     svc_kernel.fit(Xtr_bst, ytr_bst)\n",
        "#     acc_kersvc.append(svc_kernel.score(Xv_bst, yv_bst))\n",
        "#     z_ker = svc_kernel.decision_function(Xv_bst)\n",
        "#     roc_kersvc.append(ROC(yv_bst,z_ker,pstr='Validation fold: ' + str(i)))\n",
        "#     pr_kersvc.append(PRC(yv_bst,z_ker,pstr='Validation fold: ' + str(i)))\n",
        "    #############################################################################################\n",
        "    \n",
        "print(\"Perceptron:\")\n",
        "print(\"Mean accuracy for Perceptron: \", np.mean(acc_pr))\n",
        "print(\"Standard deviation of accuracy for Perceptron: \", np.std(acc_pr))\n",
        "print(\"Mean AUC-ROC for Perceptron: \", np.mean(roc_pr))\n",
        "print(\"Standard deviation of AUC-ROC for Perceptron: \", np.std(roc_pr))\n",
        "print(\"Mean AUC-PR for Perceptron: \", np.mean(pr_perc))\n",
        "print(\"Standard deviation of AUC-PR for Perceptron: \", np.std(pr_perc))\n",
        "print(\"*****************************************************************************************\")\n",
        "print(\"Logistic Regression:\")\n",
        "print(\"Mean accuracy for Logistic Regression: \", np.mean(acc_lr))\n",
        "print(\"Standard deviation of accuracy for Logistic Regression: \", np.std(acc_lr))\n",
        "print(\"Mean AUC-ROC for Logistic Regression: \", np.mean(roc_lr))\n",
        "print(\"Standard deviation of AUC-ROC for Logistic Regression: \", np.std(roc_lr))\n",
        "print(\"Mean AUC-PR for Logistic Regression: \", np.mean(pr_lr))\n",
        "print(\"Standard deviation of AUC-PR for Logistic Regression: \", np.std(pr_lr))\n",
        "print(\"*****************************************************************************************\")\n",
        "# print(\"Linear SVM:\")\n",
        "# print(\"Mean accuracy for Linear SVM: \", np.mean(acc_linsvc))\n",
        "# print(\"Standard deviation of accuracy for Linear SVM: \", np.std(acc_linsvc))\n",
        "# print(\"Mean AUC-ROC for Linear SVM: \", np.mean(roc_linsvc))\n",
        "# print(\"Standard deviation of AUC-ROC for Linear SVM: \", np.std(roc_linsvc))\n",
        "# print(\"Mean AUC-PR for Linear SVM: \", np.mean(pr_linsvc))\n",
        "# print(\"Standard deviation of AUC-PR for Linear SVM: \", np.std(pr_linsvc))\n",
        "# print(\"*****************************************************************************************\")\n",
        "# print(\"Kernel SVM:\")\n",
        "# print(\"Mean accuracy for Kernel SVM: \", np.mean(acc_kersvc))\n",
        "# print(\"Standard deviation of accuracy for Kernel SVM: \", np.std(acc_kersvc))\n",
        "# print(\"Mean AUC-ROC for Kernel SVM: \", np.mean(roc_kersvc))\n",
        "# print(\"Standard deviation of AUC-ROC for Kernel SVM: \", np.std(roc_kersvc))\n",
        "# print(\"Mean AUC-PR for Kernel SVM: \", np.mean(pr_kersvc))\n",
        "# print(\"Standard deviation of AUC-PR for Kernel SVM: \", np.std(pr_kersvc))\n",
        "# print(\"*****************************************************************************************\")"
      ]
    },
    {
      "cell_type": "code",
      "execution_count": null,
      "id": "fade083a",
      "metadata": {
        "id": "fade083a"
      },
      "outputs": [],
      "source": [
        "# seperating the texts to train and test\n",
        "X_train, X_test, y_train, y_test = train_test_split(texts,\n",
        "                                                    y_data,\n",
        "                                                   random_state=42,\n",
        "                                                   test_size=0.3,\n",
        "                                                   stratify=y_data)"
      ]
    },
    {
      "cell_type": "code",
      "execution_count": null,
      "id": "e079466a",
      "metadata": {
        "id": "e079466a",
        "colab": {
          "base_uri": "https://localhost:8080/"
        },
        "outputId": "15ba3703-04a6-4cde-9bc8-9adbd7f9abe3"
      },
      "outputs": [
        {
          "output_type": "execute_result",
          "data": {
            "text/plain": [
              "(38621, 16552)"
            ]
          },
          "metadata": {},
          "execution_count": 50
        }
      ],
      "source": [
        "len(X_train), len(X_test)"
      ]
    },
    {
      "cell_type": "code",
      "execution_count": null,
      "id": "c4c6a782",
      "metadata": {
        "id": "c4c6a782",
        "colab": {
          "base_uri": "https://localhost:8080/"
        },
        "outputId": "6e3463b4-bfa0-479b-b0c8-00bb53e08822"
      },
      "outputs": [
        {
          "output_type": "execute_result",
          "data": {
            "text/plain": [
              "((38621, 2), (16552, 2))"
            ]
          },
          "metadata": {},
          "execution_count": 51
        }
      ],
      "source": [
        "# converting the labels to categorical one hot encoded format\n",
        "from tensorflow.keras.utils import to_categorical\n",
        "y_train = to_categorical(y_train)\n",
        "y_test = to_categorical(y_test)\n",
        "y_train.shape, y_test.shape"
      ]
    },
    {
      "cell_type": "code",
      "execution_count": null,
      "id": "4db97e11",
      "metadata": {
        "id": "4db97e11",
        "colab": {
          "base_uri": "https://localhost:8080/"
        },
        "outputId": "d71953ff-e273-42b8-e0fe-0cd2336ae208"
      },
      "outputs": [
        {
          "output_type": "stream",
          "name": "stdout",
          "text": [
            "Found 4127 unique tokens.\n"
          ]
        }
      ],
      "source": [
        "from tensorflow.keras.preprocessing.text import Tokenizer\n",
        "from tensorflow.keras.preprocessing.sequence import pad_sequences\n",
        "\n",
        "tokenizer = Tokenizer()\n",
        "tokenizer.fit_on_texts(X_train)\n",
        "word_index = tokenizer.word_index\n",
        "print('Found %s unique tokens.' % len(word_index))\n",
        "VOCAB_SIZE = len(word_index)"
      ]
    },
    {
      "cell_type": "code",
      "execution_count": null,
      "id": "5fdd41ac",
      "metadata": {
        "scrolled": true,
        "id": "5fdd41ac",
        "colab": {
          "base_uri": "https://localhost:8080/"
        },
        "outputId": "f31cd1cc-ea4a-4c8e-c829-6a3a4b8eab02"
      },
      "outputs": [
        {
          "output_type": "stream",
          "name": "stdout",
          "text": [
            "Sample 1 sequence:  [174, 824, 987, 1480, 772, 403, 46, 296, 1213, 1477, 1429, 963, 618, 216, 1010, 1483, 988, 1843, 1411, 593, 1810, 744, 697, 852, 617, 406, 150, 955, 1911, 2437, 3203, 4073, 4050, 3866, 3905, 3584, 2159, 1292, 436, 323, 54, 902, 441, 463, 410, 271, 154, 86, 558, 386, 986, 1418, 2539, 2129, 3704, 3605, 3309, 2674, 2552, 1855, 412, 1577, 905, 78, 26, 129, 786, 1719, 794, 1482, 1529, 1668, 3069, 2788, 2529, 2992, 3848, 3228, 2467, 3609, 945, 1507, 3213, 2296, 1587, 1022, 1090, 2952, 3570, 3709, 2173, 1067, 2388, 2235, 2945, 2629, 979, 539, 594, 1202, 1281, 2346, 1855, 2952, 3570, 3343, 1809, 1918, 1543, 2560, 2798, 3288, 2128, 1806, 132, 240, 778, 2424, 2802, 2249, 3261, 2258, 1195, 1032, 1895, 2309, 1563, 1289, 1145, 424, 171, 820, 681, 2440, 2533, 3265, 2471, 1249, 1154, 279, 78, 63, 15, 172, 719, 631, 801, 770, 2857, 2590, 2482, 2760, 1996, 713, 2136, 2158, 2299, 2486, 1996, 57, 35, 37, 3, 13, 26, 3, 13, 26, 3, 13, 26, 129, 786, 828, 352, 1072, 1113, 453, 1466, 1652, 2055, 1319, 513, 153, 783, 2018, 333, 253, 372, 534, 581, 752, 403, 792, 353, 385, 360, 393, 134, 367, 407, 833, 638, 473, 615, 411, 213, 153, 436, 200, 3, 13, 26, 129, 786, 828, 352, 398, 156, 3, 13, 26, 3, 13, 26, 129, 344, 1606, 1104, 2358, 3497, 3890, 3124, 2716, 297, 748, 1025, 2730, 3188, 1801, 1468, 2228, 844, 1177, 2212, 1081, 991, 451, 1263, 349, 142, 343, 145, 40, 49, 787, 939, 933, 1440, 585, 694, 852, 1675, 1011, 549, 967, 1267, 794, 430, 194, 87, 134, 543, 1120, 316, 213, 153, 436, 200, 129, 786, 828, 352, 398, 156, 3, 152, 1100, 333, 253, 372, 431, 1725, 1398, 1735, 1952, 2100, 287, 35, 37, 3, 375, 1127, 1449, 1732, 2279, 1303, 853, 1243, 1614, 1617, 1229, 825, 436, 200, 3, 13, 26, 3, 13, 63, 466, 1132, 1614, 2227, 2315, 1863, 1463, 867, 686, 130, 508, 987, 325, 89, 26, 3, 375, 1127, 2265, 2650, 2605, 1463, 1050, 156, 3, 13, 26, 3, 13, 26, 224, 489, 808, 512, 522, 138, 99, 757, 827, 1108, 1551, 2088, 677, 1029, 1268, 768, 89, 829, 1257, 1721, 2120, 2425, 177, 199, 536, 438, 467, 705, 357, 473, 276, 766, 1771, 872, 694, 1842, 2262, 2419, 982, 767, 436, 323, 50, 1726, 936, 871, 1135, 1856, 279, 78, 60, 100, 147, 181, 108, 83, 476, 1307, 781, 319, 651, 1306, 1362, 1654, 781, 308, 374, 1230, 1379, 812, 1206, 1088, 763, 1822, 2105, 1519, 2060, 535, 1075, 479, 541, 536, 711, 1747, 1465, 1702, 1430, 1741, 1910, 1933, 1107, 993, 1543, 509, 352, 383, 197, 433, 462, 718, 1117, 628, 11, 89, 26, 3, 13, 63, 134, 543, 328, 303, 212, 80, 79, 302, 131, 20, 5, 281, 571, 922, 1164, 1055, 694, 488, 1266, 731, 1363, 1130, 1359, 535, 1339, 3044, 2753, 2723, 2030, 1889, 628, 11, 93, 112, 23, 2, 1, 10, 221, 789, 612, 1482, 814, 187, 582, 1113, 453, 1247, 1530, 828, 380, 1690, 2536, 2116, 2377, 1364, 568, 238, 156, 3, 375, 1127, 894, 942, 1765, 459, 1342, 1019, 1595, 1396, 1491, 1771, 631, 625, 1061, 2336, 2389, 3207, 2769, 3008, 1004, 2011, 1389, 1907, 1496, 1580, 1566, 1316, 569, 243, 249, 138, 243, 664, 290, 332, 426, 408, 990, 808, 855, 674, 319, 255, 993, 481, 142, 792, 561, 659, 770, 522, 138, 833, 2672, 2972, 3192, 3129, 2888, 2411, 2139, 1616, 330, 975, 1317, 1542, 1271, 1274, 747, 1399, 1629, 1728, 1338, 1138, 621, 633, 2068, 1397, 1547, 1080, 1931, 2142, 1065, 934, 401, 776, 171, 335, 360, 393, 134, 543, 1273, 1180, 547, 1036, 1870, 1058, 1211, 1794, 839, 1053, 1550, 2351, 1582, 1711, 451, 1263, 881, 619, 584, 449, 1416, 1096, 903, 532, 302, 877, 1360, 1197, 942, 2064, 1990, 2144, 1064, 1524, 1978, 1042, 685, 1325, 514, 98, 6, 58, 133, 961, 489, 1062, 538, 953, 248, 1219, 3322, 3190, 3381, 3277, 2649, 902, 441, 463, 313, 1017, 664, 819, 1133, 2540, 2417, 1634, 1590, 1280, 776, 171, 820, 1004, 834, 1405, 510, 866, 3051, 2851, 1998, 3116, 2148, 1480, 772, 1606, 731, 602, 665, 201, 115, 169, 195, 144, 478, 215, 610, 146, 340, 465, 226, 283, 182, 113, 375, 242, 749, 842, 1353, 2731, 3490, 3649, 3184, 2208, 64, 807, 1094, 1819, 1682, 846, 993, 2311, 2715, 2116, 2130, 1632, 1767, 1666, 1290, 2245, 2598, 2527, 2222, 2316, 338, 1185, 738, 983, 755, 1447, 1499, 1139, 527, 352, 1208, 365, 225, 1239, 1509, 641, 1540, 1054, 2092, 3331, 3603, 2690, 1124, 1020, 21, 127, 1585, 1847, 3337, 3988, 4089, 2706, 2104, 1478, 281, 1596, 1609, 1439, 1865, 1050, 257, 50, 250, 930, 2390, 1065, 1769, 2145, 3094, 2518, 2979, 3609, 2398, 1958, 1439, 1972, 1182, 1175, 864, 1143, 1105, 325, 163, 1100, 1840, 2468, 2988, 3400, 3004, 1630, 1865, 1050, 156, 3, 375, 1127, 2265, 3497, 3375, 2771, 3104, 387, 2259, 1534, 1166, 611, 1050, 393, 466, 1642, 2460, 1718, 1631, 809, 821, 584, 85, 663, 353, 697, 852, 526, 140, 20, 267, 2297, 3220, 2890, 2803, 1056, 181, 95, 496, 772, 1129, 653, 294, 902, 518, 685, 1430, 174, 94, 545, 927, 970, 943, 1274, 262, 209, 166, 198, 95, 998, 1781, 2179, 1389, 989, 465, 226, 732, 1097, 1611, 3169, 2490, 985, 611, 867, 197, 433, 702, 1542, 1271, 1536, 881, 347, 672, 565, 2633, 1544, 404, 1296, 1790, 483, 736, 529, 178, 207, 323, 50, 376, 1307, 1820, 1693, 1256, 2040, 1988, 1477, 1429, 963, 1503, 2286, 2675, 3280, 2733, 2054, 552, 1115, 731, 1655, 1772, 1730, 1475, 2094, 2038, 1834, 2110, 1133, 1537, 678, 327, 493, 481, 861, 1324, 1372, 3532, 3388, 2569, 2804, 2645, 2478, 2533, 3448, 2319, 1242, 137, 505, 1599, 542, 775, 503, 634, 327, 591, 839, 187, 223, 298, 164, 387, 1327, 2876, 3181, 2691, 2242, 1939, 487, 684, 3044, 2753, 2723, 3249, 2331, 803, 493, 1543, 2560, 2568, 3231, 2998, 2794, 623, 471, 524, 1118, 1003, 3052, 3212, 2121, 1296, 1790, 260, 1400, 910, 191, 259, 805, 1340, 1737, 1158, 1711, 2108, 3627, 3140, 2941, 3196, 1146, 1077, 515, 1536, 349, 199, 536, 438, 307, 244, 483, 736, 935, 290, 901, 1651, 831, 1348, 965, 266, 608, 1364, 1722, 1646, 1267, 794, 1482, 329, 107, 185, 194, 37, 402, 1054, 2092, 1311, 2052, 917, 1922, 3016, 2503, 2975, 2545, 1948, 1153, 701, 1010, 745, 588, 943, 2154, 835, 463, 2150, 2844, 2569, 1387, 2107, 418, 2071, 1696, 2952, 3984, 3868, 3224, 3214, 2463, 916, 295, 1261, 368, 697, 852, 1175, 1849, 1541, 1712, 2069, 1733, 2910, 2770, 2464, 2525, 2347, 587, 277, 1382, 2138, 1753, 1666, 3845, 3909, 3518, 3076, 2877, 1074, 200, 3, 91, 484, 1497, 1763, 1908, 2095, 2801, 3958, 3938, 2782, 2003, 2367, 112, 433, 702, 940, 1155, 348, 142, 46, 296, 688, 1033, 1625, 1920, 1941, 2665, 2781, 3193, 2193, 1473, 267, 2297, 3220, 3500, 2585, 2367, 112, 23, 281, 707, 2358, 3497, 3375, 3655, 3488, 454, 1061, 329, 107, 497, 1805, 1753, 2275, 2521, 1863, 2451, 3451, 2829, 2507, 2752, 2148, 2276, 1442, 1165, 650, 1521, 2302, 2186, 2565, 3233, 3595, 3208, 3886, 3943, 3625, 293, 613, 418, 175, 272, 658, 1485, 1811, 1613, 1893, 3405, 3618, 3418, 3739, 3726, 1477, 2212, 1081, 327, 88, 154, 86, 66, 16, 128, 579, 378, 113, 13, 63, 1300, 2587, 3681, 3246, 3454, 1983, 3146, 3186, 2631, 3090, 2188, 485, 966, 580, 1494, 796, 1018, 2966, 2636, 3243, 2921, 3469, 3053, 3082, 730, 1744, 1445, 1549, 2159, 2233, 1201, 1874, 3016, 3550, 3413, 3694, 3426, 795, 1862, 1598, 1030, 2036, 1269, 2076, 2870, 3181, 2529, 2489, 1638, 890, 2027, 3153, 3319, 3235, 3519, 3348, 3784, 3475, 3026, 3039, 3990, 3452, 2176, 858, 1424, 414, 1909, 2646, 2359, 1516, 1145, 261, 70, 22, 1, 296, 386, 1535, 1105, 325, 620, 242, 370, 3213, 3682, 3575, 3361, 2995, 3420, 3010, 3353, 3289, 3521, 1994, 2815, 3344, 3620, 3851, 3882, 1987, 1067, 213, 729, 1201, 1722, 947, 1266, 731, 1655, 2013, 1750, 1740, 1989, 1917, 914, 2140, 2731, 3490, 2726, 3244, 3539, 3602, 2647, 2402, 1561, 16, 422, 3048, 3545, 3802, 4009, 4072, 2673, 1619, 2039, 1416, 1369, 1281, 1154, 279, 978, 1929, 1701, 1800, 2628, 1280, 776, 171, 335, 1046, 365, 148, 297, 748, 168, 230, 119, 65, 732, 1596, 2775, 2647, 2402, 3201, 688, 1370, 1901, 1107, 993, 769, 619, 406, 599, 3048, 3255, 3318, 2780, 2923, 364, 438, 272, 414, 592, 1041, 1214, 617, 584, 85, 394, 598, 662, 1504, 1603, 520, 148, 1312, 2531, 2860, 3699, 3564, 3513, 1514, 2109, 781, 319, 651, 1508, 2041, 3139, 2466, 2622, 2712, 2793, 1801, 1468, 1173, 599, 338, 1185, 1035, 1728, 1311, 325, 93, 136, 164, 304, 59, 13, 60, 54, 474, 1909, 2158, 2299, 2803, 3541, 1641, 1904, 1376, 1889, 628, 408, 917, 1922, 1157, 1078, 512, 1088, 819, 1180, 1499, 2321, 1148, 1559, 1105, 325, 89, 63, 466, 1132, 2679, 2453, 1863, 1463, 1709, 1113, 478, 1599, 542, 643, 374, 2239, 1148, 934, 1181, 667, 92, 413, 237, 593, 227, 704, 1489, 3534, 3378, 3672, 3926, 3102, 3711, 3312, 2538, 1939, 1088, 2068, 2417, 3243, 3411, 2892, 3068, 2898, 3146, 2203, 1993, 2955, 3199, 2833, 2878, 2285, 556, 255, 1574, 969, 417, 1216, 836, 254, 532, 511, 923, 1241, 2288, 1190, 1310, 1205, 1492, 1834, 972, 303, 618, 122, 384, 1265, 1530, 1761, 1184, 2666, 3436, 3567, 3463, 2649, 118, 124, 946, 1257, 2491, 3225, 3931, 2960, 3086, 3809, 3902, 3525, 2693, 2019, 299, 22, 33, 392, 387, 25, 172, 217, 981, 2751, 2842, 3020, 2553, 1249, 1154, 1265, 2313, 1417, 934, 401, 125, 73, 133, 1540, 2950, 3502, 2954, 2106, 1931, 1189, 509, 352, 398, 156, 129, 786, 3026, 2568, 2499, 2229, 1883, 1368, 945, 1455, 1164, 1055, 635, 360, 156, 3, 375, 1528, 1058, 1211, 751, 190, 144, 453, 293, 270, 484, 679, 1018, 1947, 1081, 569, 1919, 2497, 1518, 2146, 2148, 1480, 772, 1129, 653, 2633, 3079, 1563, 2151, 2555, 2383, 1442, 1037, 313, 258, 757, 1963, 1672, 1630, 2963, 3526, 3578, 3158, 2928, 3251, 1927, 636, 140, 20, 5, 2, 33, 392, 361, 301, 211, 483, 736, 2420, 2861, 3749, 3910, 3725, 1159, 271, 154, 109, 126, 40, 49, 34, 265, 158, 97, 172, 217, 45, 186, 733, 1186, 668, 334, 244, 483, 191, 843, 827, 616, 884, 1914, 2672, 3371, 3620, 3124, 2415, 1164, 1055, 694, 1176, 590, 352, 398, 257, 54, 506, 937, 1003, 794, 1482, 814, 187, 896, 1658, 1058, 1211, 751, 154, 446, 958, 1094, 1365, 1044, 1009, 1500, 2005, 625, 1374, 868, 685, 1742, 585, 635, 498, 298, 96, 656, 1314, 2250, 2719, 3887, 3741, 3685, 2780, 2208, 64, 81, 102, 119, 975, 1317, 940, 430, 996, 1762, 2326, 2135, 3417, 3959, 3255, 2499, 1736, 780, 204, 268, 820, 1004, 834, 236, 125, 540, 959, 1455]\n",
            "\n",
            "Shape of train data tensor: (38621, 12606)\n"
          ]
        }
      ],
      "source": [
        "X_train_seq = tokenizer.texts_to_sequences(X_train)\n",
        "print('Sample 1 sequence: ', X_train_seq[0])\n",
        "print()\n",
        "X_train_padded = pad_sequences(X_train_seq, maxlen=len(X_train[0]))\n",
        "print('Shape of train data tensor:', X_train_padded.shape)"
      ]
    },
    {
      "cell_type": "code",
      "execution_count": null,
      "id": "60c96c86",
      "metadata": {
        "scrolled": true,
        "id": "60c96c86",
        "colab": {
          "base_uri": "https://localhost:8080/"
        },
        "outputId": "3c199127-454d-4a44-e5ee-18be5adf964a"
      },
      "outputs": [
        {
          "output_type": "stream",
          "name": "stdout",
          "text": [
            "Sample 1 sequence:  [65, 186, 48, 434, 268, 820, 1004, 1728, 1338, 502, 647, 1106, 1492, 1582, 3195, 2278, 3222, 3549, 3692, 1370, 982, 1731, 1160, 1981, 1389, 1591, 857, 2762, 1887, 1946, 1844, 2695, 1420, 1351, 1450, 312, 2438, 3486, 3447, 3580, 3829, 2241, 3034, 2353, 2728, 1897, 3006, 2203, 1123, 1729, 2898, 3146, 3590, 3822, 3865, 3922, 1439, 1972, 1045, 851, 517, 97, 468, 2050, 2805, 2518, 3327, 3559, 1610, 1635, 1419, 1173, 228, 150, 955, 693, 602, 297, 748, 1025, 2394, 2307, 2447, 2144, 818, 1794, 2345, 1621, 2975, 3905, 4036, 3085, 3013, 2612, 3295, 2231, 3496, 3875, 3028, 3151, 2303, 1498, 465, 798, 765, 923, 758, 1217, 1602, 1285, 175, 467, 705, 1203, 873, 1980, 2450, 1605, 3175, 2919, 1863, 2908, 2103, 1456, 515, 287, 123, 446, 679, 721, 1159, 1991, 1875, 1753, 2275, 2021, 2665, 2855, 2837, 2098, 1280, 220, 70, 265, 182, 1471, 774, 1165, 1871, 1808, 985, 611, 1960, 365, 148, 297, 748, 1025, 2394, 2307, 3061, 2932, 2958, 3031, 1616, 1254, 1741, 1860, 2509, 3168, 3638, 3967, 3995, 2023, 2173, 2088, 1804, 2227, 2056, 2970, 3321, 3229, 1460, 1906, 1378, 1896, 1005, 231, 35, 44, 54, 118, 311, 446, 958, 1259, 2449, 1775, 850, 218, 124, 87, 1300, 2587, 3681, 3246, 3454, 1234, 1936, 1270, 530, 223, 686, 958, 1358, 1486, 1628, 411, 443, 503, 634, 569, 1919, 1783, 964, 611, 867, 911, 1028, 2694, 3651, 3761, 3246, 2551, 1690, 2530, 2382, 1716, 2095, 2801, 1828, 1631, 809, 821, 406, 366, 698, 1170, 1717, 938, 2040, 2184, 2343, 2493, 3249, 2331, 803, 591, 839, 187, 223, 911, 1028, 1328, 1302, 1906, 1378, 846, 173, 676, 1762, 2326, 2135, 3417, 3049, 925, 1707, 2599, 2393, 2529, 1986, 1347, 968, 53, 312, 159, 61, 12, 310, 1025, 1225, 2509, 2021, 2392, 2638, 2813, 1447, 1499, 1255, 862, 1192, 338, 549, 1690, 2262, 2234, 2194, 2021, 2392, 2638, 2597, 696, 213, 153, 1102, 1870, 892, 1969, 1146, 314, 354, 2142, 2831, 2382, 1716, 2725, 2793, 2808, 2244, 3179, 2145, 2501, 2133, 2350, 1173, 228, 150, 85, 394, 81, 508, 682, 1138, 621, 589, 178, 207, 492, 134, 367, 407, 833, 1444, 1584, 1089, 724, 1279, 435, 660, 2641, 2505, 1975, 2072, 3342, 3373, 2744, 2467, 2448, 40, 49, 110, 101, 422, 338, 549, 537, 1675, 1391, 1235, 2666, 2788, 2529, 1986, 2197, 826, 981, 1187, 718, 1117, 830, 184, 229, 652, 205, 339, 121, 68, 366, 251, 859, 1837, 1637, 913, 1967, 1651, 616, 3012, 3430, 3222, 3654, 3707, 718, 1178, 1411, 359, 641, 754, 786, 1761, 1184, 2666, 2788, 2097, 1727, 1045, 309, 46, 267, 462, 1458, 1678, 2909, 2417, 3243, 3252, 2746, 2725, 2793, 2808, 3437, 3050, 2377, 1364, 1722, 1646, 1275, 1184, 1558, 2327, 1519, 2076, 1291, 1738, 1089, 2245, 1469, 985, 764, 2508, 2262, 2234, 1921, 1196, 2125, 997, 848, 166, 106, 12, 4, 73, 188, 577, 878, 1140, 2264, 2240, 1935, 2217, 2455, 2093, 1450, 312, 2438, 1641, 964, 1451, 3451, 2885, 3353, 3289, 3521, 1994, 696, 443, 615, 411, 2388, 2022, 3117, 3404, 3191, 759, 513, 533, 710, 691, 755, 1447, 1499, 2321, 2849, 2419, 982, 1510, 823, 1720, 1849, 2510, 2567, 3041, 3568, 1259, 2449, 1828, 768, 93, 484, 130, 102, 362, 1608, 1377, 1315, 1169, 527, 352, 1208, 2204, 2326, 3412, 3961, 3377, 602, 1312, 1880, 1605, 2269, 1343, 1142, 699, 824, 567, 1792, 847, 1120, 316, 371, 255, 993, 769, 1407, 1776, 1177, 2868, 3553, 2973, 2467, 1898, 656, 1314, 1358, 1486, 1024, 766, 1533, 280, 94, 362, 1741, 1786, 2268, 2488, 1692, 317, 948, 532, 101, 167, 844, 1241, 1245, 1517, 2311, 2607, 2873, 2157, 2683, 2024, 1832, 661, 214, 558, 1213, 1588, 1371, 885, 636, 140, 663, 353, 1063, 1004, 1149, 495, 975, 1187, 1049, 1460, 2475, 2186, 2506, 3384, 3347, 739, 458, 633, 763, 2894, 2800, 2930, 2024, 2054, 2085, 2944, 2662, 1994, 696, 2388, 2836, 3728, 2961, 1320, 60, 100, 147, 61, 285, 1445, 2862, 3085, 3576, 3455, 3653, 3305, 2797, 31, 336, 2286, 2675, 3731, 3472, 2287, 2696, 3049, 925, 1206, 487, 762, 1384, 568, 223, 197, 66, 180, 1210, 1541, 2586, 2106, 895, 355, 446, 1497, 1610, 3063, 4038, 4091, 2890, 2803, 2572, 1203, 873, 1980, 2450, 2032, 2643, 1413, 1739, 703, 988, 976, 234, 80, 79, 101, 422, 797, 1235, 2666, 3436, 2902, 2047, 1561, 90, 604, 378, 1471, 774, 1165, 755, 1604, 1554, 1329, 1804, 1879, 2306, 2315, 3915, 3741, 3864, 3988, 4023, 3063, 2592, 2616, 1072, 1113, 478, 1599, 3260, 2824, 2622, 2712, 2793, 1801, 1619, 2761, 1911, 1609, 1782, 2784, 2395, 471, 1219, 1042, 1381, 1743, 1523, 1992, 2037, 2060, 847, 1120, 316, 213, 374, 823, 862, 406, 150, 955, 1360, 1597, 2454, 3400, 2932, 2133, 3145, 3088, 1177, 2212, 1447, 1499, 1255, 1720, 1644, 1188, 1625, 1594, 1506, 1112, 459, 1342, 1019, 1595, 2966, 3215, 2527, 3090, 2976, 1427, 1461, 1419, 1173, 366, 844, 1241, 1770, 2722, 2497, 2917, 3205, 2793, 2808, 3129, 3538, 2567, 2104, 3201, 1489, 2343, 3809, 3907, 3685, 2780, 2923, 733, 1369, 2830, 1900, 1827, 1467, 2161, 1860, 1365, 1920, 2871, 3315, 3096, 2732, 1548, 2960, 2382, 1569, 2752, 2470, 2606, 1887, 1166, 1729, 2898, 2289, 3069, 3000, 2371, 1468, 1779, 85, 210, 1110, 1431, 2091, 1732, 2681, 1692, 317, 2033, 3234, 2432, 1635, 2355, 2976, 1427, 2411, 3136, 3442, 1569, 2752, 2243, 1138, 229, 652, 239, 359, 811, 25, 172, 900, 1965, 1860, 1819, 1682, 846, 1574, 919, 2046, 1815, 3616, 3963, 4089, 3346, 3734, 3882, 1987, 2481, 2105, 1519, 461, 346, 146, 103, 117, 748, 1636, 2432, 3063, 3325, 3358, 409, 198, 108, 151, 218, 311, 446, 958, 1094, 2509, 2256, 2506, 2414, 1473, 10, 16, 68, 366, 920, 2510, 2567, 2104, 1478, 56, 158, 2167, 1534, 1946, 2657, 3511, 3761, 3246, 2551, 967, 1267, 1304, 1514, 2630, 3364, 2744, 3487, 3568, 1259, 2307, 2447, 2253, 1551, 3450, 2717, 2097, 2451, 2318, 1859, 1349, 2164, 997, 1077, 538, 471, 524, 2390, 1065, 1559, 1105, 2276, 1951, 1829, 1375, 1594, 1888, 1229, 825, 318, 1261, 1028, 1462, 1158, 1711, 671, 464, 524, 349, 429, 517, 97, 31, 21, 80, 646, 1657, 1588, 2377, 1897, 2038, 1615, 2251, 1221, 1797, 1084, 183, 139, 217, 981, 654, 482, 398, 156, 129, 1548, 1417, 1559, 1408, 1792, 847, 1273, 1180, 547, 1036, 520, 370, 725, 587, 476, 51, 843, 1963, 1672, 1975, 1942, 2333, 868, 417, 1405, 2779, 2317, 2765, 1942, 2333, 1805, 1174, 785, 1710, 2736, 2325, 1817, 1925, 1905, 563, 332, 528, 151, 425, 804, 1394, 1505, 925, 1206, 487, 564, 479, 541, 84, 104, 110, 511, 923, 758, 1217, 760, 200, 402, 2950, 3502, 2578, 3068, 2090, 530, 896, 2204, 2326, 3203, 3564, 3513, 1435, 471, 1219, 835, 284, 363, 1602, 2018, 333, 1583, 1388, 1498, 1244, 1686, 1047, 1452, 521, 660, 1496, 1730, 1348, 965, 614, 2150, 3730, 3874, 3781, 3642, 1413, 1342, 168, 230, 119, 975, 654, 1026, 1035, 1149, 495, 975, 654, 554, 537, 617, 1192, 799, 612, 1155, 1189, 509, 728, 1425, 1859, 3583, 3558, 3693, 3862, 3710, 1674, 1731, 1160, 815, 236, 125, 73, 188, 448, 118, 311, 446, 958, 1358, 1674, 2164, 1885, 717, 1057, 2166, 1401, 1740, 1989, 1912, 3813, 4017, 2827, 1999, 1145, 424, 369, 588, 943, 1274, 262, 209, 166, 557, 205, 1436, 1488, 1370, 1901, 1107, 993, 481, 199, 1031, 1778, 1453, 1713, 1228, 214, 558, 386, 795, 1862, 1589, 3200, 3658, 3075, 2899, 2759, 752, 1606, 731, 1363, 1134, 2383, 1951, 1829, 1666, 1196, 825, 783, 1226, 444, 1570, 898, 820, 1004, 1149, 1430, 174, 356, 256, 220, 79, 511, 626, 1188, 1470, 2101, 1990, 2253, 1566, 1316, 991, 675, 1218, 935, 763, 2894, 2800, 3294, 3455, 3653, 3305, 3446, 367, 407, 99, 306, 239, 593, 1137, 442, 387, 1327, 1132, 1738, 1378, 1103, 1344, 638, 473, 1622, 2598, 3386, 3646, 3521, 2868, 3215, 2527, 3090, 2188, 859, 2145, 3094, 2518, 2402, 1478, 56, 158, 97, 31, 155, 216, 457, 377, 75, 2259, 2241, 1714, 2221, 2688, 1598, 1764, 2009, 1103, 1344, 1444, 1584, 1294, 2125, 1885, 717, 1057, 2593, 2805, 2518, 2979, 3104, 387, 2259, 1534, 1946, 1376, 1889, 628, 11, 93, 112, 433, 702, 940, 1482, 814, 187, 238, 257, 100, 147, 652, 205, 339, 765, 923, 1177, 2868, 1808, 1878, 1376, 1347, 234, 310, 1636, 2432, 3063, 2592, 3454, 1352, 1078, 855, 674, 473, 276, 428, 1503, 1000, 904, 1938, 1927, 862, 406, 599, 797, 1502, 1678, 2043, 1822, 2105, 1838, 1618, 2356, 3581, 3354, 3632, 3737, 2586, 3133, 2625, 288, 259, 805, 872, 635, 498, 911, 368, 697, 488, 1266, 1104, 1027, 1150, 2987, 2434, 1634, 2221, 2735, 1567, 818, 2070, 1875, 1811, 1613, 1024, 766, 994, 247, 1441, 1039, 903, 1390, 546, 1648, 1983, 3146, 3590, 3228, 3487, 3559, 1763, 3132, 2702, 2287, 2355, 2188, 574, 1181, 2338, 3137, 4041, 4080, 4084, 3510, 3459, 1385, 1711, 451, 1263, 881, 347, 140, 20, 5, 47, 733, 1369, 1757, 2680, 3147, 2799, 3175, 2581, 2665, 2855, 3529, 3434, 3427, 2816, 2695, 2564, 3113, 3059, 3259, 3878, 3653, 2729, 2732, 786, 1761, 2205, 2927, 3761, 3586, 3358, 2916, 3373, 3560, 3883, 3780, 1732, 2279, 3537, 2310, 1886, 1124, 2547, 719, 1340, 1284, 1861, 2006, 1256, 391, 732, 1097, 1611, 1403, 1967, 1891, 2619, 2756, 3013, 1564, 1816, 1608, 1377, 1315, 885, 636, 1092, 693, 602, 297, 748, 168, 632, 256, 912, 1019, 1595, 1645, 1521, 1804, 1617, 1568, 846, 1131, 839, 1041, 947, 309, 432, 1258, 1610, 3063, 2592, 2551, 1690, 1098, 934, 1181, 667, 572, 793, 1120, 1329, 677, 470, 516, 2040, 2184, 1433, 1716, 2725, 2793, 1801, 1468, 2228, 920, 1427, 2550, 2193, 2922, 143, 656, 2292, 1763, 1908, 2320, 2049, 767, 783, 1285, 175, 272, 455, 1997, 2607, 2419, 982, 767, 1102, 1627, 894, 1699, 1989, 1112, 1930, 1101, 866, 1639, 1204, 884, 531, 42, 12, 80, 79, 302, 604, 378, 575, 344, 1606, 1104, 1027, 1150, 2987, 2598, 2527, 2222, 2228, 698, 1168, 1600, 1893, 1021, 1499, 1255, 1720, 1776, 1177, 2868, 3553, 3643, 3038, 3669, 2013, 3278, 2594, 2673, 2604, 2188, 574, 401, 776, 171, 335, 360, 257, 100, 878, 1140, 735, 1172, 1990, 1664, 1313, 1355, 282, 792, 931, 950, 1843, 826, 339, 121, 167, 698, 1168, 1600, 1893, 1021, 1913, 1221, 1797, 1084, 183, 32, 849, 1367, 2782, 3225, 3492, 559, 1092, 693, 1363, 1130, 1359, 2977, 3345, 3418, 3739, 3944, 2343, 2586, 2106, 2333, 637, 689, 548, 1491, 1533, 280, 924, 1438, 1069, 1313, 1355, 541, 1031, 3046, 3221, 3731, 3283, 3529, 2702, 3114, 3289, 3521, 1994, 2815, 2717, 2529, 2893, 2463, 2251, 573, 691, 548, 1491, 596, 1436, 1988, 1760, 1245, 1991, 919, 284, 315, 1169, 1464, 980, 1178, 1411, 1526, 2959, 2267, 3102, 3472, 2287, 1419, 2228, 698, 1188, 1470, 2101, 2618, 3059, 2579, 3144, 2012, 1777, 2456, 2257, 1908, 2320, 2381, 2187, 1005, 1310, 262, 107, 497, 637, 689, 1871, 2636, 3064, 2353, 1832, 661, 214, 66, 16, 68, 599, 338, 382, 383, 197, 66, 16, 68, 228, 228, 366, 251, 859, 550, 1907, 2641, 3282, 2133, 3145, 2188, 859, 1837, 1069, 1475, 1146, 314, 324, 329, 107, 354, 837, 347, 669, 1756, 2077, 2178, 2269, 2036, 1268, 2494, 990, 1062, 687, 288, 259, 956, 1607, 1377, 1315, 885, 862, 406, 150, 85, 210, 1110, 2398, 2267, 1800, 2143, 869, 232, 121, 128, 85, 20, 296, 1489, 2465, 2411, 3136, 3737, 2586, 2106, 1976, 814, 1041, 1646, 590, 1246, 1983, 2289, 3069, 3030, 2305, 2147, 2131, 655, 312, 159, 816, 827, 1108, 1551, 2481, 1151, 523, 395, 28, 137, 165, 467, 705, 357, 473, 276, 428, 618, 189, 317, 2033, 2339, 2730, 2207, 2074, 2217, 2455, 2544, 1101, 866, 1388, 1498, 1326, 2839, 2257, 2300, 2671, 2735, 1637, 1551, 3450, 2800, 2930, 2024, 1832, 760, 492, 15, 39, 67, 184, 621, 633, 819, 1133, 1537, 678, 327, 88, 154, 86, 66, 180, 490, 485, 330, 975, 1187, 718, 1695, 521, 340, 1326, 648, 356, 1179, 510, 71, 179, 424, 171, 962, 1207, 530, 238, 393, 1300, 2241, 1714, 2221, 1877, 989, 1253, 1301, 98, 49, 787, 1260, 2152, 2479, 2476, 2489, 3482, 2788, 2097, 1463, 867, 197, 66, 221, 789, 612, 1155, 1189, 1003, 812, 1707, 1676, 735, 1029, 1268, 2709, 1951, 3036, 3368, 3886, 3967, 3900, 865, 1839, 1509, 811, 1327, 1132, 2679, 2240, 2392, 2741, 2526, 1017, 249, 138, 243, 664, 290, 576, 1533, 2354, 1785, 1635, 2355, 3088, 1177, 2212, 1604, 563, 303, 618, 216, 254, 299, 265, 182, 113, 152, 116, 114, 110, 101, 128, 85, 20, 10, 16, 68, 228, 150, 955, 1911, 1609, 1439, 2543, 1546, 389, 608, 1897, 717, 784, 826, 339, 400, 877, 1911, 2437, 2135, 2350, 1779, 579, 378, 575, 786, 1761, 980, 1695, 2166, 2619, 2756, 3576, 3455, 3897, 3962, 3989, 2178, 3175, 2919, 2274, 1881, 1931, 1189, 509, 380, 537, 1175, 1849, 1191, 1569, 2671, 2735, 1567, 884, 2956, 2747]\n",
            "\n",
            "Shape of test data tensor: (16552, 12606)\n"
          ]
        }
      ],
      "source": [
        "X_test_seq = tokenizer.texts_to_sequences(X_test)\n",
        "print('Sample 1 sequence: ',X_test_seq[0])\n",
        "print()\n",
        "X_test_padded = pad_sequences(X_test_seq, maxlen= len(X_train[0]))\n",
        "print('Shape of test data tensor:', X_test_padded.shape)"
      ]
    },
    {
      "cell_type": "code",
      "execution_count": null,
      "id": "fb6f9c05",
      "metadata": {
        "id": "fb6f9c05",
        "colab": {
          "base_uri": "https://localhost:8080/"
        },
        "outputId": "aaabf38d-37b5-4fc0-bf61-9d459e049e19"
      },
      "outputs": [
        {
          "output_type": "stream",
          "name": "stdout",
          "text": [
            "Looking in indexes: https://pypi.org/simple, https://us-python.pkg.dev/colab-wheels/public/simple/\n",
            "Requirement already satisfied: mlxtend in /usr/local/lib/python3.7/dist-packages (0.14.0)\n",
            "Requirement already satisfied: scipy>=0.17 in /usr/local/lib/python3.7/dist-packages (from mlxtend) (1.7.3)\n",
            "Requirement already satisfied: numpy>=1.10.4 in /usr/local/lib/python3.7/dist-packages (from mlxtend) (1.21.6)\n",
            "Requirement already satisfied: pandas>=0.17.1 in /usr/local/lib/python3.7/dist-packages (from mlxtend) (1.3.5)\n",
            "Requirement already satisfied: setuptools in /usr/local/lib/python3.7/dist-packages (from mlxtend) (57.4.0)\n",
            "Requirement already satisfied: matplotlib>=1.5.1 in /usr/local/lib/python3.7/dist-packages (from mlxtend) (3.2.2)\n",
            "Requirement already satisfied: scikit-learn>=0.18 in /usr/local/lib/python3.7/dist-packages (from mlxtend) (1.0.2)\n",
            "Requirement already satisfied: cycler>=0.10 in /usr/local/lib/python3.7/dist-packages (from matplotlib>=1.5.1->mlxtend) (0.11.0)\n",
            "Requirement already satisfied: kiwisolver>=1.0.1 in /usr/local/lib/python3.7/dist-packages (from matplotlib>=1.5.1->mlxtend) (1.4.4)\n",
            "Requirement already satisfied: pyparsing!=2.0.4,!=2.1.2,!=2.1.6,>=2.0.1 in /usr/local/lib/python3.7/dist-packages (from matplotlib>=1.5.1->mlxtend) (3.0.9)\n",
            "Requirement already satisfied: python-dateutil>=2.1 in /usr/local/lib/python3.7/dist-packages (from matplotlib>=1.5.1->mlxtend) (2.8.2)\n",
            "Requirement already satisfied: typing-extensions in /usr/local/lib/python3.7/dist-packages (from kiwisolver>=1.0.1->matplotlib>=1.5.1->mlxtend) (4.1.1)\n",
            "Requirement already satisfied: pytz>=2017.3 in /usr/local/lib/python3.7/dist-packages (from pandas>=0.17.1->mlxtend) (2022.2.1)\n",
            "Requirement already satisfied: six>=1.5 in /usr/local/lib/python3.7/dist-packages (from python-dateutil>=2.1->matplotlib>=1.5.1->mlxtend) (1.15.0)\n",
            "Requirement already satisfied: threadpoolctl>=2.0.0 in /usr/local/lib/python3.7/dist-packages (from scikit-learn>=0.18->mlxtend) (3.1.0)\n",
            "Requirement already satisfied: joblib>=0.11 in /usr/local/lib/python3.7/dist-packages (from scikit-learn>=0.18->mlxtend) (1.1.0)\n"
          ]
        }
      ],
      "source": [
        "!pip install mlxtend"
      ]
    },
    {
      "cell_type": "code",
      "execution_count": null,
      "id": "257a9708",
      "metadata": {
        "id": "257a9708"
      },
      "outputs": [],
      "source": [
        "from sklearn.metrics import confusion_matrix\n",
        "from mlxtend.plotting import plot_confusion_matrix\n",
        "CLASS_NUM = 2\n",
        "# the funciton will draw a heat map\n",
        "def eval_NN_model(model, X_test, y_test, title= 'Heat map'):\n",
        "    predictions = model.predict(X_test)\n",
        "    preds_int = np.argmax(predictions, axis = 1)\n",
        "    y_test_int = np.argmax(y_test, axis = 1)\n",
        "    cm = confusion_matrix(y_test_int, preds_int)\n",
        "    plot_confusion_matrix(cm, figsize=(4,4), hide_ticks=True ,cmap=plt.cm.Blues)\n",
        "    plt.title(title)\n",
        "    plt.xticks(range(CLASS_NUM), [str(i) for i in range(CLASS_NUM)], fontsize=12)\n",
        "    plt.yticks(range(CLASS_NUM), [str(i) for i in range(CLASS_NUM)], fontsize=12)\n",
        "    plt.show()\n",
        "    \n",
        "    f1_test = f1_score(y_test_int, preds_int, average = 'macro')\n",
        "    print('test F1 score: {:.3f}'.format(f1_test))\n",
        "    precision_test = precision_score(y_test_int, preds_int)\n",
        "    print('test precision: {:.3f}'.format(precision_test))\n",
        "    recall_test = recall_score(y_test_int, preds_int)\n",
        "    print('test recall: {:.3f}'.format(recall_test))\n",
        "    accuracy_test = accuracy_score(y_test_int, preds_int)\n",
        "    print('test accuracy: {:.3f}'.format(accuracy_test))\n"
      ]
    },
    {
      "cell_type": "code",
      "execution_count": null,
      "id": "750711cb",
      "metadata": {
        "id": "750711cb"
      },
      "outputs": [],
      "source": [
        "import tensorflow as tf\n",
        "from tensorflow.keras.models import Sequential\n",
        "from tensorflow.keras.layers import Dense, LSTM, Embedding, Conv1D\n",
        "from tensorflow.keras.layers import MaxPool1D, Flatten, Dropout\n",
        "es = tf.keras.callbacks.EarlyStopping(monitor='val_accuracy',\n",
        "                                      patience= 5, restore_best_weights= True)"
      ]
    },
    {
      "cell_type": "code",
      "execution_count": null,
      "id": "e923147d",
      "metadata": {
        "id": "e923147d"
      },
      "outputs": [],
      "source": [
        "chkpt1 = tf.keras.callbacks.ModelCheckpoint(\n",
        "    'weights/ANN_weights', monitor='val_accuracy', verbose=0, save_best_only=True,\n",
        "    save_weights_only=True\n",
        ")"
      ]
    },
    {
      "cell_type": "code",
      "execution_count": null,
      "id": "a210f643",
      "metadata": {
        "id": "a210f643",
        "colab": {
          "base_uri": "https://localhost:8080/"
        },
        "outputId": "31fe49ab-3828-4693-d8e2-a7ba101e1db7"
      },
      "outputs": [
        {
          "output_type": "stream",
          "name": "stdout",
          "text": [
            "Model: \"sequential\"\n",
            "_________________________________________________________________\n",
            " Layer (type)                Output Shape              Param #   \n",
            "=================================================================\n",
            " embedding (Embedding)       (None, 12606, 50)         206400    \n",
            "                                                                 \n",
            " flatten (Flatten)           (None, 630300)            0         \n",
            "                                                                 \n",
            " dense (Dense)               (None, 100)               63030100  \n",
            "                                                                 \n",
            " dense_1 (Dense)             (None, 50)                5050      \n",
            "                                                                 \n",
            " dense_2 (Dense)             (None, 2)                 102       \n",
            "                                                                 \n",
            "=================================================================\n",
            "Total params: 63,241,652\n",
            "Trainable params: 63,241,652\n",
            "Non-trainable params: 0\n",
            "_________________________________________________________________\n"
          ]
        },
        {
          "output_type": "stream",
          "name": "stderr",
          "text": [
            "/usr/local/lib/python3.7/dist-packages/keras/optimizer_v2/adam.py:105: UserWarning: The `lr` argument is deprecated, use `learning_rate` instead.\n",
            "  super(Adam, self).__init__(name, **kwargs)\n"
          ]
        }
      ],
      "source": [
        "EMB_DIM = 50\n",
        "model_ANN = Sequential()\n",
        "model_ANN.add(Embedding(VOCAB_SIZE+1, EMB_DIM, input_length = X_train_padded.shape[1]))\n",
        "model_ANN.add(Flatten())\n",
        "model_ANN.add(Dense(100, activation='relu'))\n",
        "model_ANN.add(Dense(50, activation='relu'))\n",
        "model_ANN.add(Dense(2, activation='softmax'))\n",
        "optimizer = tf.keras.optimizers.Adam(lr=0.0001)\n",
        "\n",
        "model_ANN.compile(loss='categorical_crossentropy', optimizer=optimizer, metrics=['accuracy'])\n",
        "model_ANN.summary()"
      ]
    },
    {
      "cell_type": "code",
      "execution_count": null,
      "id": "71c5b6bb",
      "metadata": {
        "scrolled": true,
        "id": "71c5b6bb",
        "colab": {
          "base_uri": "https://localhost:8080/"
        },
        "outputId": "9a32dd6c-4f34-4c9b-f2a7-bb9443a90811"
      },
      "outputs": [
        {
          "output_type": "stream",
          "name": "stdout",
          "text": [
            "Epoch 1/100\n",
            "1207/1207 [==============================] - 37s 28ms/step - loss: 0.6621 - accuracy: 0.6244 - val_loss: 0.6542 - val_accuracy: 0.6269\n",
            "Epoch 2/100\n",
            "1207/1207 [==============================] - 33s 27ms/step - loss: 0.6013 - accuracy: 0.6829 - val_loss: 0.5377 - val_accuracy: 0.7542\n",
            "Epoch 3/100\n",
            "1207/1207 [==============================] - 32s 27ms/step - loss: 0.3167 - accuracy: 0.8857 - val_loss: 0.4465 - val_accuracy: 0.7953\n",
            "Epoch 4/100\n",
            "1207/1207 [==============================] - 32s 27ms/step - loss: 0.1471 - accuracy: 0.9563 - val_loss: 0.4757 - val_accuracy: 0.7991\n",
            "Epoch 5/100\n",
            "1207/1207 [==============================] - 32s 27ms/step - loss: 0.0934 - accuracy: 0.9729 - val_loss: 0.5212 - val_accuracy: 0.8010\n",
            "Epoch 6/100\n",
            "1207/1207 [==============================] - 33s 27ms/step - loss: 0.0744 - accuracy: 0.9786 - val_loss: 0.6137 - val_accuracy: 0.8040\n",
            "Epoch 7/100\n",
            "1207/1207 [==============================] - 32s 27ms/step - loss: 0.0609 - accuracy: 0.9809 - val_loss: 0.6290 - val_accuracy: 0.8043\n",
            "Epoch 8/100\n",
            "1207/1207 [==============================] - 30s 25ms/step - loss: 0.0511 - accuracy: 0.9824 - val_loss: 0.6111 - val_accuracy: 0.7985\n",
            "Epoch 9/100\n",
            "1207/1207 [==============================] - 30s 25ms/step - loss: 0.0474 - accuracy: 0.9829 - val_loss: 0.6703 - val_accuracy: 0.8035\n",
            "Epoch 10/100\n",
            "1207/1207 [==============================] - 32s 27ms/step - loss: 0.0420 - accuracy: 0.9838 - val_loss: 0.7307 - val_accuracy: 0.8044\n",
            "Epoch 11/100\n",
            "1207/1207 [==============================] - 30s 25ms/step - loss: 0.0376 - accuracy: 0.9844 - val_loss: 0.6651 - val_accuracy: 0.8000\n",
            "Epoch 12/100\n",
            "1207/1207 [==============================] - 30s 25ms/step - loss: 0.0348 - accuracy: 0.9849 - val_loss: 0.6327 - val_accuracy: 0.7819\n",
            "Epoch 13/100\n",
            "1207/1207 [==============================] - 33s 27ms/step - loss: 0.0322 - accuracy: 0.9856 - val_loss: 0.8214 - val_accuracy: 0.8049\n",
            "Epoch 14/100\n",
            "1207/1207 [==============================] - 30s 25ms/step - loss: 0.0305 - accuracy: 0.9860 - val_loss: 0.7822 - val_accuracy: 0.8020\n",
            "Epoch 15/100\n",
            "1207/1207 [==============================] - 30s 25ms/step - loss: 0.0293 - accuracy: 0.9866 - val_loss: 0.6935 - val_accuracy: 0.7919\n",
            "Epoch 16/100\n",
            "1207/1207 [==============================] - 30s 25ms/step - loss: 0.0273 - accuracy: 0.9864 - val_loss: 0.7654 - val_accuracy: 0.8013\n",
            "Epoch 17/100\n",
            "1207/1207 [==============================] - 30s 25ms/step - loss: 0.0259 - accuracy: 0.9870 - val_loss: 0.7601 - val_accuracy: 0.7931\n",
            "Epoch 18/100\n",
            "1207/1207 [==============================] - 30s 25ms/step - loss: 0.0245 - accuracy: 0.9875 - val_loss: 0.7675 - val_accuracy: 0.7982\n",
            "Took 565.558 seconds to train\n"
          ]
        }
      ],
      "source": [
        "import time\n",
        "\n",
        "eps = 100\n",
        "start = time.time()\n",
        "history1 = model_ANN.fit(X_train_padded, y_train, validation_data = (X_test_padded, y_test),\n",
        "          epochs = eps, batch_size = 32, shuffle = True, callbacks = [es, chkpt1])\n",
        "\n",
        "end = time.time()\n",
        "print('Took {:.3f} seconds to train'.format(end-start))"
      ]
    },
    {
      "cell_type": "code",
      "execution_count": null,
      "id": "1759ae5e",
      "metadata": {
        "id": "1759ae5e",
        "colab": {
          "base_uri": "https://localhost:8080/"
        },
        "outputId": "493c52f8-2b06-485d-e2ad-370028a9b839"
      },
      "outputs": [
        {
          "output_type": "execute_result",
          "data": {
            "text/plain": [
              "<tensorflow.python.training.tracking.util.CheckpointLoadStatus at 0x7fcfbe0b7750>"
            ]
          },
          "metadata": {},
          "execution_count": 61
        }
      ],
      "source": [
        "model_ANN.load_weights('weights/ANN_weights')"
      ]
    },
    {
      "cell_type": "code",
      "execution_count": null,
      "id": "d3954dfc",
      "metadata": {
        "id": "d3954dfc",
        "colab": {
          "base_uri": "https://localhost:8080/",
          "height": 378
        },
        "outputId": "10b61489-6a48-410b-c2f8-1bddb3c0a5d4"
      },
      "outputs": [
        {
          "output_type": "display_data",
          "data": {
            "text/plain": [
              "<Figure size 288x288 with 1 Axes>"
            ],
            "image/png": "[encoded data removed]"
          },
          "metadata": {
            "needs_background": "light"
          }
        },
        {
          "output_type": "stream",
          "name": "stdout",
          "text": [
            "test F1 score: 0.773\n",
            "test precision: 0.855\n",
            "test recall: 0.577\n",
            "test accuracy: 0.805\n"
          ]
        }
      ],
      "source": [
        "eval_NN_model(model_ANN, X_test_padded, y_test)"
      ]
    },
    {
      "cell_type": "code",
      "source": [
        "history_dict = history1.history\n",
        "loss_values = history_dict['loss']\n",
        "val_loss_values = history_dict['val_loss']\n",
        "accuracy = history_dict['accuracy']\n",
        "val_accuracy = history_dict['val_accuracy']\n",
        "  \n",
        "epochs = range(1, len(loss_values) + 1)\n",
        "fig, ax = plt.subplots(1, 2, figsize=(14, 6))\n",
        "#\n",
        "# Plot the model accuracy vs Epochs\n",
        "#\n",
        "ax[0].plot(epochs, accuracy, 'b', label='Training accuracy', color= 'g')\n",
        "ax[0].plot(epochs, val_accuracy, 'b', label='Validation accuracy', color = 'r')\n",
        "ax[0].set_title('Training & Validation Accuracy', fontsize=16)\n",
        "ax[0].set_xlabel('Epochs', fontsize=16)\n",
        "ax[0].set_ylabel('Accuracy', fontsize=16)\n",
        "ax[0].legend()\n",
        "#\n",
        "# Plot the loss vs Epochs\n",
        "#\n",
        "ax[1].plot(epochs, loss_values, 'b', label='Training loss', color='g')\n",
        "ax[1].plot(epochs, val_loss_values, 'b', label='Validation loss', color = 'r')\n",
        "ax[1].set_title('Training & Validation Loss', fontsize=16)\n",
        "ax[1].set_xlabel('Epochs', fontsize=16)\n",
        "ax[1].set_ylabel('Loss', fontsize=16)\n",
        "ax[1].legend()"
      ],
      "metadata": {
        "colab": {
          "base_uri": "https://localhost:8080/",
          "height": 347
        },
        "id": "3Gi8-EXN4mRj",
        "outputId": "e8a24caa-e15d-4deb-c19b-f526c80c5674"
      },
      "id": "3Gi8-EXN4mRj",
      "execution_count": null,
      "outputs": [
        {
          "output_type": "execute_result",
          "data": {
            "text/plain": [
              "<matplotlib.legend.Legend at 0x7fcfbd380610>"
            ]
          },
          "metadata": {},
          "execution_count": 63
        },
        {
          "output_type": "display_data",
          "data": {
            "text/plain": [
              "<Figure size 1008x432 with 2 Axes>"
            ],
            "image/png": "[encoded data removed]"
          },
          "metadata": {
            "needs_background": "light"
          }
        }
      ]
    },
    {
      "cell_type": "code",
      "execution_count": null,
      "id": "b0f41f88",
      "metadata": {
        "id": "b0f41f88"
      },
      "outputs": [],
      "source": [
        "chkpt2 = tf.keras.callbacks.ModelCheckpoint(\n",
        "    'weights/RNN_weights', monitor='val_accuracy', verbose=0, save_best_only=True,\n",
        "    save_weights_only=True\n",
        ")"
      ]
    },
    {
      "cell_type": "code",
      "execution_count": null,
      "id": "56eb82ba",
      "metadata": {
        "id": "56eb82ba",
        "colab": {
          "base_uri": "https://localhost:8080/"
        },
        "outputId": "fe797891-a3aa-4230-ff4c-06aba626e440"
      },
      "outputs": [
        {
          "output_type": "stream",
          "name": "stdout",
          "text": [
            "Model: \"sequential_1\"\n",
            "_________________________________________________________________\n",
            " Layer (type)                Output Shape              Param #   \n",
            "=================================================================\n",
            " embedding_1 (Embedding)     (None, 12606, 50)         206400    \n",
            "                                                                 \n",
            " lstm (LSTM)                 (None, 12606, 50)         20200     \n",
            "                                                                 \n",
            " lstm_1 (LSTM)               (None, 50)                20200     \n",
            "                                                                 \n",
            " dense_3 (Dense)             (None, 2)                 102       \n",
            "                                                                 \n",
            "=================================================================\n",
            "Total params: 246,902\n",
            "Trainable params: 246,902\n",
            "Non-trainable params: 0\n",
            "_________________________________________________________________\n"
          ]
        }
      ],
      "source": [
        "LSTM_UNITS = 50\n",
        "\n",
        "model_RNN = Sequential()\n",
        "model_RNN.add(Embedding(VOCAB_SIZE+1, EMB_DIM, input_length = X_train_padded.shape[1]))\n",
        "model_RNN.add(LSTM(units = LSTM_UNITS, return_sequences = True))\n",
        "model_RNN.add(LSTM(units = LSTM_UNITS))\n",
        "model_RNN.add(Dense(CLASS_NUM, activation = 'softmax'))\n",
        "\n",
        "model_RNN.compile(loss = 'categorical_crossentropy', \n",
        "                  optimizer = 'adam', metrics = ['accuracy'])\n",
        "model_RNN.summary()"
      ]
    },
    {
      "cell_type": "code",
      "execution_count": null,
      "id": "6047a54e",
      "metadata": {
        "id": "6047a54e",
        "colab": {
          "base_uri": "https://localhost:8080/"
        },
        "outputId": "6597cb12-c1f3-45eb-ac9b-3b7572880692"
      },
      "outputs": [
        {
          "output_type": "stream",
          "name": "stdout",
          "text": [
            "Epoch 1/10\n",
            "1207/1207 [==============================] - 863s 710ms/step - loss: 0.6370 - accuracy: 0.6497 - val_loss: 0.6098 - val_accuracy: 0.6826\n",
            "Epoch 2/10\n",
            "1207/1207 [==============================] - 853s 707ms/step - loss: 0.5461 - accuracy: 0.7328 - val_loss: 0.5770 - val_accuracy: 0.7157\n",
            "Epoch 3/10\n",
            "1207/1207 [==============================] - 866s 718ms/step - loss: 0.4650 - accuracy: 0.7922 - val_loss: 0.5603 - val_accuracy: 0.7370\n",
            "Epoch 4/10\n",
            "1207/1207 [==============================] - 860s 712ms/step - loss: 0.3929 - accuracy: 0.8342 - val_loss: 0.5676 - val_accuracy: 0.7539\n",
            "Epoch 5/10\n",
            "1207/1207 [==============================] - 862s 714ms/step - loss: 0.3295 - accuracy: 0.8674 - val_loss: 0.5883 - val_accuracy: 0.7623\n",
            "Epoch 6/10\n",
            "1207/1207 [==============================] - 861s 713ms/step - loss: 0.2778 - accuracy: 0.8915 - val_loss: 0.6181 - val_accuracy: 0.7690\n",
            "Epoch 7/10\n",
            "1207/1207 [==============================] - 864s 716ms/step - loss: 0.2386 - accuracy: 0.9084 - val_loss: 0.6748 - val_accuracy: 0.7783\n",
            "Epoch 8/10\n",
            "1207/1207 [==============================] - 859s 712ms/step - loss: 0.2047 - accuracy: 0.9237 - val_loss: 0.6934 - val_accuracy: 0.7821\n",
            "Epoch 9/10\n",
            "1207/1207 [==============================] - 858s 711ms/step - loss: 0.1767 - accuracy: 0.9347 - val_loss: 0.7079 - val_accuracy: 0.7844\n",
            "Epoch 10/10\n",
            "1207/1207 [==============================] - 862s 714ms/step - loss: 0.1575 - accuracy: 0.9392 - val_loss: 0.7438 - val_accuracy: 0.7874\n",
            "Took 8664.592 seconds to train\n"
          ]
        }
      ],
      "source": [
        "start = time.time()\n",
        "history2 = model_RNN.fit(X_train_padded, y_train, validation_data = (X_test_padded, y_test),\n",
        "          epochs = 10, batch_size = 32, shuffle = True, callbacks = [es, chkpt2])\n",
        "end = time.time()\n",
        "print('Took {:.3f} seconds to train'.format(end-start))"
      ]
    },
    {
      "cell_type": "code",
      "execution_count": null,
      "id": "e0193a28",
      "metadata": {
        "id": "e0193a28",
        "colab": {
          "base_uri": "https://localhost:8080/",
          "height": 378
        },
        "outputId": "6d6f5193-cf06-4c7e-a90b-61a4aecbfbab"
      },
      "outputs": [
        {
          "output_type": "display_data",
          "data": {
            "text/plain": [
              "<Figure size 288x288 with 1 Axes>"
            ],
            "image/png": "[encoded data removed]"
          },
          "metadata": {
            "needs_background": "light"
          }
        },
        {
          "output_type": "stream",
          "name": "stdout",
          "text": [
            "test F1 score: 0.772\n",
            "test precision: 0.722\n",
            "test recall: 0.703\n",
            "test accuracy: 0.787\n"
          ]
        }
      ],
      "source": [
        "model_RNN.load_weights('weights/RNN_weights')\n",
        "eval_NN_model(model_RNN, X_test_padded, y_test)"
      ]
    },
    {
      "cell_type": "code",
      "source": [
        "history_dict = history2.history\n",
        "loss_values = history_dict['loss']\n",
        "val_loss_values = history_dict['val_loss']\n",
        "accuracy = history_dict['accuracy']\n",
        "val_accuracy = history_dict['val_accuracy']\n",
        "  \n",
        "epochs = range(1, len(loss_values) + 1)\n",
        "fig, ax = plt.subplots(1, 2, figsize=(14, 6))\n",
        "#\n",
        "# Plot the model accuracy vs Epochs\n",
        "#\n",
        "ax[0].plot(epochs, accuracy, 'b', label='Training accuracy', color= 'g')\n",
        "ax[0].plot(epochs, val_accuracy, 'b', label='Validation accuracy', color = 'r')\n",
        "ax[0].set_title('Training & Validation Accuracy', fontsize=16)\n",
        "ax[0].set_xlabel('Epochs', fontsize=16)\n",
        "ax[0].set_ylabel('Accuracy', fontsize=16)\n",
        "ax[0].legend()\n",
        "#\n",
        "# Plot the loss vs Epochs\n",
        "#\n",
        "ax[1].plot(epochs, loss_values, 'b', label='Training loss', color='g')\n",
        "ax[1].plot(epochs, val_loss_values, 'b', label='Validation loss', color = 'r')\n",
        "ax[1].set_title('Training & Validation Loss', fontsize=16)\n",
        "ax[1].set_xlabel('Epochs', fontsize=16)\n",
        "ax[1].set_ylabel('Loss', fontsize=16)\n",
        "ax[1].legend()"
      ],
      "metadata": {
        "id": "nHAVCf3Lmrj4"
      },
      "id": "nHAVCf3Lmrj4",
      "execution_count": null,
      "outputs": []
    },
    {
      "cell_type": "code",
      "execution_count": null,
      "id": "2320837f",
      "metadata": {
        "id": "2320837f"
      },
      "outputs": [],
      "source": [
        "chkpt3 = tf.keras.callbacks.ModelCheckpoint(\n",
        "    'weights/CNN_weights', monitor='val_accuracy', verbose=0, save_best_only=True,\n",
        "    save_weights_only=True\n",
        ")"
      ]
    },
    {
      "cell_type": "code",
      "execution_count": null,
      "id": "45631532",
      "metadata": {
        "id": "45631532",
        "colab": {
          "base_uri": "https://localhost:8080/"
        },
        "outputId": "f6a7ea2f-147f-4e79-cd2f-6241b703d9e2"
      },
      "outputs": [
        {
          "output_type": "stream",
          "name": "stdout",
          "text": [
            "Model: \"sequential_2\"\n",
            "_________________________________________________________________\n",
            " Layer (type)                Output Shape              Param #   \n",
            "=================================================================\n",
            " embedding_2 (Embedding)     (None, 12606, 50)         206400    \n",
            "                                                                 \n",
            " conv1d (Conv1D)             (None, 12604, 100)        15100     \n",
            "                                                                 \n",
            " max_pooling1d (MaxPooling1D  (None, 6302, 100)        0         \n",
            " )                                                               \n",
            "                                                                 \n",
            " conv1d_1 (Conv1D)           (None, 6300, 100)         30100     \n",
            "                                                                 \n",
            " max_pooling1d_1 (MaxPooling  (None, 3150, 100)        0         \n",
            " 1D)                                                             \n",
            "                                                                 \n",
            " flatten_1 (Flatten)         (None, 315000)            0         \n",
            "                                                                 \n",
            " dropout (Dropout)           (None, 315000)            0         \n",
            "                                                                 \n",
            " dense_4 (Dense)             (None, 2)                 630002    \n",
            "                                                                 \n",
            "=================================================================\n",
            "Total params: 881,602\n",
            "Trainable params: 881,602\n",
            "Non-trainable params: 0\n",
            "_________________________________________________________________\n"
          ]
        },
        {
          "output_type": "stream",
          "name": "stderr",
          "text": [
            "/usr/local/lib/python3.7/dist-packages/keras/optimizer_v2/adam.py:105: UserWarning: The `lr` argument is deprecated, use `learning_rate` instead.\n",
            "  super(Adam, self).__init__(name, **kwargs)\n"
          ]
        }
      ],
      "source": [
        "model_CNN = Sequential()\n",
        "model_CNN.add(Embedding(VOCAB_SIZE+1, EMB_DIM, input_length = X_train_padded.shape[1]))\n",
        "model_CNN.add(Conv1D(filters = 100, kernel_size = 3, activation='relu'))\n",
        "model_CNN.add(MaxPool1D(pool_size = 2, strides=2))\n",
        "model_CNN.add(Conv1D(filters = 100, kernel_size = 3, activation='relu'))\n",
        "model_CNN.add(MaxPool1D(pool_size = 2, strides=2))\n",
        "model_CNN.add(Flatten())\n",
        "model_CNN.add(Dropout(0.5))\n",
        "model_CNN.add(Dense(CLASS_NUM, activation= 'softmax'))\n",
        "optimizer = tf.keras.optimizers.Adam(lr=0.0001)\n",
        "\n",
        "model_CNN.compile(loss = 'categorical_crossentropy', \n",
        "                  optimizer = optimizer, metrics = ['accuracy'])\n",
        "model_CNN.summary()"
      ]
    },
    {
      "cell_type": "code",
      "execution_count": null,
      "id": "9679c05e",
      "metadata": {
        "id": "9679c05e",
        "colab": {
          "base_uri": "https://localhost:8080/"
        },
        "outputId": "2795fb9a-6281-4889-d58d-2b4f58f9823f"
      },
      "outputs": [
        {
          "output_type": "stream",
          "name": "stdout",
          "text": [
            "Epoch 1/100\n",
            "1207/1207 [==============================] - 106s 81ms/step - loss: 0.6568 - accuracy: 0.6259 - val_loss: 0.6518 - val_accuracy: 0.6336\n",
            "Epoch 2/100\n",
            "1207/1207 [==============================] - 97s 80ms/step - loss: 0.6322 - accuracy: 0.6511 - val_loss: 0.6275 - val_accuracy: 0.6554\n",
            "Epoch 3/100\n",
            "1207/1207 [==============================] - 97s 80ms/step - loss: 0.5768 - accuracy: 0.7108 - val_loss: 0.5909 - val_accuracy: 0.6860\n",
            "Epoch 4/100\n",
            "1207/1207 [==============================] - 97s 80ms/step - loss: 0.5044 - accuracy: 0.7732 - val_loss: 0.5675 - val_accuracy: 0.6941\n",
            "Epoch 5/100\n",
            "1207/1207 [==============================] - 97s 80ms/step - loss: 0.4371 - accuracy: 0.8138 - val_loss: 0.5259 - val_accuracy: 0.7429\n",
            "Epoch 6/100\n",
            "1207/1207 [==============================] - 96s 80ms/step - loss: 0.3764 - accuracy: 0.8465 - val_loss: 0.5036 - val_accuracy: 0.7629\n",
            "Epoch 7/100\n",
            "1207/1207 [==============================] - 97s 80ms/step - loss: 0.3271 - accuracy: 0.8739 - val_loss: 0.4958 - val_accuracy: 0.7673\n",
            "Epoch 8/100\n",
            "1207/1207 [==============================] - 96s 80ms/step - loss: 0.2891 - accuracy: 0.8900 - val_loss: 0.4829 - val_accuracy: 0.7751\n",
            "Epoch 9/100\n",
            "1207/1207 [==============================] - 96s 79ms/step - loss: 0.2571 - accuracy: 0.9045 - val_loss: 0.4837 - val_accuracy: 0.7815\n",
            "Epoch 10/100\n",
            "1207/1207 [==============================] - 96s 80ms/step - loss: 0.2302 - accuracy: 0.9164 - val_loss: 0.4856 - val_accuracy: 0.7847\n",
            "Epoch 11/100\n",
            "1207/1207 [==============================] - 96s 80ms/step - loss: 0.2073 - accuracy: 0.9257 - val_loss: 0.5358 - val_accuracy: 0.7806\n",
            "Epoch 12/100\n",
            "1207/1207 [==============================] - 96s 79ms/step - loss: 0.1892 - accuracy: 0.9324 - val_loss: 0.4909 - val_accuracy: 0.7891\n",
            "Epoch 13/100\n",
            "1207/1207 [==============================] - 96s 79ms/step - loss: 0.1721 - accuracy: 0.9399 - val_loss: 0.5041 - val_accuracy: 0.7924\n",
            "Epoch 14/100\n",
            "1207/1207 [==============================] - 96s 79ms/step - loss: 0.1560 - accuracy: 0.9478 - val_loss: 0.5082 - val_accuracy: 0.7946\n",
            "Epoch 15/100\n",
            "1207/1207 [==============================] - 96s 79ms/step - loss: 0.1460 - accuracy: 0.9512 - val_loss: 0.5166 - val_accuracy: 0.7941\n",
            "Epoch 16/100\n",
            "1207/1207 [==============================] - 96s 79ms/step - loss: 0.1346 - accuracy: 0.9557 - val_loss: 0.5371 - val_accuracy: 0.7980\n",
            "Epoch 17/100\n",
            "1207/1207 [==============================] - 95s 79ms/step - loss: 0.1256 - accuracy: 0.9586 - val_loss: 0.5382 - val_accuracy: 0.7954\n",
            "Epoch 18/100\n",
            "1207/1207 [==============================] - 96s 79ms/step - loss: 0.1215 - accuracy: 0.9607 - val_loss: 0.5439 - val_accuracy: 0.7933\n",
            "Epoch 19/100\n",
            "1207/1207 [==============================] - 96s 79ms/step - loss: 0.1127 - accuracy: 0.9644 - val_loss: 0.5776 - val_accuracy: 0.7982\n",
            "Epoch 20/100\n",
            "1207/1207 [==============================] - 95s 79ms/step - loss: 0.1073 - accuracy: 0.9665 - val_loss: 0.5654 - val_accuracy: 0.8002\n",
            "Epoch 21/100\n",
            "1207/1207 [==============================] - 95s 79ms/step - loss: 0.1035 - accuracy: 0.9675 - val_loss: 0.5944 - val_accuracy: 0.7997\n",
            "Epoch 22/100\n",
            "1207/1207 [==============================] - 96s 79ms/step - loss: 0.0975 - accuracy: 0.9700 - val_loss: 0.6035 - val_accuracy: 0.8015\n",
            "Epoch 23/100\n",
            "1207/1207 [==============================] - 96s 79ms/step - loss: 0.0946 - accuracy: 0.9708 - val_loss: 0.5929 - val_accuracy: 0.7995\n",
            "Epoch 24/100\n",
            "1207/1207 [==============================] - 96s 80ms/step - loss: 0.0914 - accuracy: 0.9723 - val_loss: 0.6161 - val_accuracy: 0.8009\n",
            "Epoch 25/100\n",
            "1207/1207 [==============================] - 96s 80ms/step - loss: 0.0866 - accuracy: 0.9736 - val_loss: 0.6153 - val_accuracy: 0.7989\n",
            "Epoch 26/100\n",
            "1207/1207 [==============================] - 96s 79ms/step - loss: 0.0827 - accuracy: 0.9756 - val_loss: 0.6447 - val_accuracy: 0.8027\n",
            "Epoch 27/100\n",
            "1207/1207 [==============================] - 96s 79ms/step - loss: 0.0842 - accuracy: 0.9741 - val_loss: 0.6094 - val_accuracy: 0.7998\n",
            "Epoch 28/100\n",
            "1207/1207 [==============================] - 96s 79ms/step - loss: 0.0808 - accuracy: 0.9763 - val_loss: 0.6373 - val_accuracy: 0.7928\n",
            "Epoch 29/100\n",
            "1207/1207 [==============================] - 96s 79ms/step - loss: 0.0797 - accuracy: 0.9759 - val_loss: 0.6312 - val_accuracy: 0.8017\n",
            "Epoch 30/100\n",
            "1207/1207 [==============================] - 96s 79ms/step - loss: 0.0761 - accuracy: 0.9773 - val_loss: 0.6551 - val_accuracy: 0.7995\n",
            "Epoch 31/100\n",
            "1207/1207 [==============================] - 96s 79ms/step - loss: 0.0756 - accuracy: 0.9777 - val_loss: 0.6419 - val_accuracy: 0.7942\n",
            "Took 2984.401 seconds to train\n"
          ]
        }
      ],
      "source": [
        "start = time.time()\n",
        "history3 = model_CNN.fit(X_train_padded, y_train, validation_data = (X_test_padded, y_test),\n",
        "          epochs = eps, batch_size = 32, shuffle = True, callbacks = [es,chkpt3])\n",
        "end = time.time()\n",
        "print('Took {:.3f} seconds to train'.format(end-start, eps))"
      ]
    },
    {
      "cell_type": "code",
      "execution_count": null,
      "id": "c75aa916",
      "metadata": {
        "id": "c75aa916"
      },
      "outputs": [],
      "source": [
        "model_CNN.load_weights('weights/CNN_weights')"
      ]
    },
    {
      "cell_type": "code",
      "execution_count": null,
      "id": "42204a7f",
      "metadata": {
        "id": "42204a7f",
        "colab": {
          "base_uri": "https://localhost:8080/",
          "height": 378
        },
        "outputId": "c9d5ad0f-0355-42cf-a3d2-00a2f09df281"
      },
      "outputs": [
        {
          "output_type": "display_data",
          "data": {
            "text/plain": [
              "<Figure size 288x288 with 1 Axes>"
            ],
            "image/png": "[encoded data removed]"
          },
          "metadata": {
            "needs_background": "light"
          }
        },
        {
          "output_type": "stream",
          "name": "stdout",
          "text": [
            "test F1 score: 0.779\n",
            "test precision: 0.800\n",
            "test recall: 0.631\n",
            "test accuracy: 0.803\n"
          ]
        }
      ],
      "source": [
        "eval_NN_model(model_CNN, X_test_padded, y_test)"
      ]
    },
    {
      "cell_type": "code",
      "execution_count": null,
      "id": "cdc38195",
      "metadata": {
        "id": "cdc38195",
        "colab": {
          "base_uri": "https://localhost:8080/",
          "height": 347
        },
        "outputId": "5ffd8b7c-f7eb-49b9-fbe9-2d7c21b3ecf0"
      },
      "outputs": [
        {
          "output_type": "execute_result",
          "data": {
            "text/plain": [
              "<matplotlib.legend.Legend at 0x7fd1e92a6e50>"
            ]
          },
          "metadata": {},
          "execution_count": 75
        },
        {
          "output_type": "display_data",
          "data": {
            "text/plain": [
              "<Figure size 1008x432 with 2 Axes>"
            ],
            "image/png": "[encoded data removed]"
          },
          "metadata": {
            "needs_background": "light"
          }
        }
      ],
      "source": [
        "history_dict = history3.history\n",
        "loss_values = history_dict['loss']\n",
        "val_loss_values = history_dict['val_loss']\n",
        "accuracy = history_dict['accuracy']\n",
        "val_accuracy = history_dict['val_accuracy']\n",
        "  \n",
        "epochs = range(1, len(loss_values) + 1)\n",
        "fig, ax = plt.subplots(1, 2, figsize=(14, 6))\n",
        "#\n",
        "# Plot the model accuracy vs Epochs\n",
        "#\n",
        "ax[0].plot(epochs, accuracy, 'b', label='Training accuracy', color= 'g')\n",
        "ax[0].plot(epochs, val_accuracy, 'b', label='Validation accuracy', color = 'r')\n",
        "ax[0].set_title('Training & Validation Accuracy', fontsize=16)\n",
        "ax[0].set_xlabel('Epochs', fontsize=16)\n",
        "ax[0].set_ylabel('Accuracy', fontsize=16)\n",
        "ax[0].legend()\n",
        "#\n",
        "# Plot the loss vs Epochs\n",
        "#\n",
        "ax[1].plot(epochs, loss_values, 'b', label='Training loss', color='g')\n",
        "ax[1].plot(epochs, val_loss_values, 'b', label='Validation loss', color = 'r')\n",
        "ax[1].set_title('Training & Validation Loss', fontsize=16)\n",
        "ax[1].set_xlabel('Epochs', fontsize=16)\n",
        "ax[1].set_ylabel('Loss', fontsize=16)\n",
        "ax[1].legend()"
      ]
    },
    {
      "cell_type": "code",
      "source": [],
      "metadata": {
        "id": "Xb5jSCyK4Rdm"
      },
      "id": "Xb5jSCyK4Rdm",
      "execution_count": null,
      "outputs": []
    }
  ],
  "metadata": {
    "kernelspec": {
      "display_name": "Python 3 (ipykernel)",
      "language": "python",
      "name": "python3"
    },
    "language_info": {
      "codemirror_mode": {
        "name": "ipython",
        "version": 3
      },
      "file_extension": ".py",
      "mimetype": "text/x-python",
      "name": "python",
      "nbconvert_exporter": "python",
      "pygments_lexer": "ipython3",
      "version": "3.9.7"
    },
    "colab": {
      "provenance": [],
      "collapsed_sections": [],
      "machine_shape": "hm"
    },
    "accelerator": "GPU",
    "gpuClass": "standard"
  },
  "nbformat": 4,
  "nbformat_minor": 5
}